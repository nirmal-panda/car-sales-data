{
 "cells": [
  {
   "cell_type": "markdown",
   "metadata": {
    "colab_type": "text",
    "id": "iMk6T6ICUnHK"
   },
   "source": [
    "<center><img src=\"https://github.com/insaid2018/Term-1/blob/master/Images/INSAID_Full%20Logo.png?raw=true\" width=\"240\" height=\"120\" /></center>\n",
    "\n",
    "# EDA on Car Sales Data\n"
   ]
  },
  {
   "cell_type": "code",
   "execution_count": null,
   "metadata": {},
   "outputs": [],
   "source": [
    "pip install --upgrade nbformat"
   ]
  },
  {
   "cell_type": "markdown",
   "metadata": {
    "colab_type": "text",
    "id": "tfBzVDwFUnHO"
   },
   "source": [
    "## Table of Contents\n",
    "\n",
    "1. [Introduction](#section1)<br>\n",
    "2. [Problem Statement](#section2)<br>\n",
    "3. [Importing Packages](#section3)<br>\n",
    "4. [Loading Data](#section4)<br>\n",
    "  - 4.1 [Description of the Datasets](#section401)<br>\n",
    "  - 4.2 [Pandas Profiling before Data Preprocessing](#section402)<br>\n",
    "5. [Data Preprocessing](#section5)<br>\n",
    "  - 5.1 [Duplicate Rows](#section501)<br>\n",
    "  - 5.2 [Check Missing Values](#section502)<br>  \n",
    "  - 5.3 [Pandas Profiling after Data Preprocessing](#section503)<br>\n",
    "6. [Exploratory Data Analysis](#section6)<br>\n",
    "  - 6.1 [Car Sales by Brand](#section601)<br>\n",
    "  - 6.2 [Car Sales by Model](#section602)<br>\n",
    "  - 6.3 [Sales by Body Type](#section603)<br>\n",
    "  - 6.4 [Body Type vs Mileage](#section604)<br>\n",
    "  - 6.5 [Body Type vs Car Fuel Type vs Mileage](#section605)<br>\n",
    "  - 6.6 [Body vs engType vs Sales](#section606)<br>\n",
    "  - 6.7 [Body vs Drive vs Sales](#section607)<br>\n",
    "  - 6.8 [Drive vs Engine Type Vs Sales](#section608)<br>\n",
    "  - 6.9 [Engine Type Vs Registration](#section609)<br>\n",
    "  - 6.10 [Body Vs Price](#section610)<br>\n",
    "  - 6.11 [Correlation analysis by pair plot](#section611)<br>\n",
    "  - 6.12 [Correlation using Heat Map](#section612)<br>\n",
    "7. [Conclusion](#section7)\n",
    "8. [Actionable Insights](#section8)"
   ]
  },
  {
   "cell_type": "markdown",
   "metadata": {
    "colab_type": "text",
    "id": "o8rilmCeUnHQ"
   },
   "source": [
    "<a id=section1></a>\n",
    "# 1. Introduction\n",
    "\n",
    "The **car sales** is dependent on multiple factors like brand name, model, year of purchase, body type, fuel, mileage, engine type, drive and price.\n",
    "\n",
    "We are using using **Exploratory Data Analysis**:\n",
    "\n",
    "\n",
    "- To find **patterns** in the new car sales data.\n",
    "\n",
    "\n",
    "- To detrmine **relationship** in the data. \n",
    "\n",
    "\n",
    "- To identify important factors that attribute to new **car sales**. \n",
    "\n",
    "\n",
    "- To identify the **customer preferences** and their **purchase behavior** over a period of time.\n",
    "\n",
    "\n",
    "The availability of **Car Sales Data** and **Technical Specification** provides better understanding of customers’ **purchase behavior** and **customer preferences**. In the increasingly competitive automobile industry, manufacturers have to create a decision-making framework that provides insight to decide on frequency and variety of product launches for fulfilling their ever changing customers’ need and retain their market share.\n",
    "\n",
    "\n",
    "The process consists of the follwing steps:\n",
    "\n",
    "1. Problem Statement\n",
    "\n",
    "\n",
    "2. Data Preparation/Preprocessing\n",
    "\n",
    "\n",
    "3. Exploratory Data Analysis\n",
    "\n",
    "\n",
    "4. Conclusion and actionable insights\n",
    "\n",
    "<center><img src = 'https://raw.githubusercontent.com/insaid2018/Term-2/master/images/precision-marketing.jpg' width=\"700\" height=\"500\"></center>\n",
    "\n",
    "The objective of the proposed analysis is to **help car manufacturers to identify the important factors** that impact consumer behavior and purchase decision. Identifying critical factors of the consumer buying pattern, preferences will help the car manufacturers in devising right strategy in planning future launches and gain market share. "
   ]
  },
  {
   "cell_type": "markdown",
   "metadata": {
    "colab_type": "text",
    "id": "oP0zygI_UnHS"
   },
   "source": [
    "<a id=section2></a>\n",
    "# 2. Problem statement\n",
    "\n",
    "Analyzing the car sales data with Exploratory Data Analysis:  \n",
    "\n",
    "- To find **patterns** in the new car sales data.\n",
    "\n",
    "\n",
    "- To determine **relationship** in the data. \n",
    "\n",
    "\n",
    "- To identify important factors that attribute to new **car sales**. \n",
    "\n",
    "\n",
    "- To identify the **customer preferences** and their **purchase behavior** over a period of time.\n"
   ]
  },
  {
   "cell_type": "markdown",
   "metadata": {
    "colab_type": "text",
    "id": "f4_wob1OUnHT"
   },
   "source": [
    "<a id=section3></a>\n",
    "# 3. Importing Packages"
   ]
  },
  {
   "cell_type": "code",
   "execution_count": 1,
   "metadata": {
    "colab": {},
    "colab_type": "code",
    "id": "aFYftD3xUnHV"
   },
   "outputs": [],
   "source": [
    "import numpy as np                     \n",
    "\n",
    "import pandas as pd\n",
    "pd.set_option('mode.chained_assignment', None)      # To suppress pandas warnings.\n",
    "pd.set_option('display.max_colwidth', None)         # To display all the data in each column\n",
    "pd.set_option('display.precision', 2)               # To display values only upto two decimal places.\n",
    "pd.options.display.max_columns = 20                 # To display every column of the dataset in head()\n",
    "pd.options.display.float_format = '{:.2f}'.format\n",
    "\n",
    "import warnings\n",
    "warnings.filterwarnings('ignore')                   # To suppress all the warnings in the notebook.\n",
    "\n",
    "import matplotlib.pyplot as plt\n",
    "%matplotlib inline\n",
    "\n",
    "import seaborn as sns\n",
    "sns.set(style='whitegrid', font_scale=1.3, color_codes=True)      # To apply seaborn styles to the plots.\n"
   ]
  },
  {
   "cell_type": "markdown",
   "metadata": {
    "colab_type": "text",
    "id": "1ty-EP0fUnHd"
   },
   "source": [
    "<a id=section4></a>\n",
    "# 4. Loading Data"
   ]
  },
  {
   "cell_type": "code",
   "execution_count": 11,
   "metadata": {
    "colab": {
     "base_uri": "https://localhost:8080/",
     "height": 639
    },
    "colab_type": "code",
    "id": "RfE_n2thUnHe",
    "outputId": "09a17529-8d0c-4282-aedf-8c8c1b4dad13"
   },
   "outputs": [
    {
     "data": {
      "text/html": [
       "<div>\n",
       "<style scoped>\n",
       "    .dataframe tbody tr th:only-of-type {\n",
       "        vertical-align: middle;\n",
       "    }\n",
       "\n",
       "    .dataframe tbody tr th {\n",
       "        vertical-align: top;\n",
       "    }\n",
       "\n",
       "    .dataframe thead th {\n",
       "        text-align: right;\n",
       "    }\n",
       "</style>\n",
       "<table border=\"1\" class=\"dataframe\">\n",
       "  <thead>\n",
       "    <tr style=\"text-align: right;\">\n",
       "      <th></th>\n",
       "      <th>car</th>\n",
       "      <th>price</th>\n",
       "      <th>body</th>\n",
       "      <th>mileage</th>\n",
       "      <th>engV</th>\n",
       "      <th>engType</th>\n",
       "      <th>registration</th>\n",
       "      <th>year</th>\n",
       "      <th>model</th>\n",
       "      <th>drive</th>\n",
       "    </tr>\n",
       "  </thead>\n",
       "  <tbody>\n",
       "    <tr>\n",
       "      <th>0</th>\n",
       "      <td>Ford</td>\n",
       "      <td>15500.00</td>\n",
       "      <td>crossover</td>\n",
       "      <td>68</td>\n",
       "      <td>2.50</td>\n",
       "      <td>Gas</td>\n",
       "      <td>yes</td>\n",
       "      <td>2010</td>\n",
       "      <td>Kuga</td>\n",
       "      <td>full</td>\n",
       "    </tr>\n",
       "    <tr>\n",
       "      <th>1</th>\n",
       "      <td>Mercedes-Benz</td>\n",
       "      <td>20500.00</td>\n",
       "      <td>sedan</td>\n",
       "      <td>173</td>\n",
       "      <td>1.80</td>\n",
       "      <td>Gas</td>\n",
       "      <td>yes</td>\n",
       "      <td>2011</td>\n",
       "      <td>E-Class</td>\n",
       "      <td>rear</td>\n",
       "    </tr>\n",
       "    <tr>\n",
       "      <th>2</th>\n",
       "      <td>Mercedes-Benz</td>\n",
       "      <td>35000.00</td>\n",
       "      <td>other</td>\n",
       "      <td>135</td>\n",
       "      <td>5.50</td>\n",
       "      <td>Petrol</td>\n",
       "      <td>yes</td>\n",
       "      <td>2008</td>\n",
       "      <td>CL 550</td>\n",
       "      <td>rear</td>\n",
       "    </tr>\n",
       "    <tr>\n",
       "      <th>3</th>\n",
       "      <td>Mercedes-Benz</td>\n",
       "      <td>17800.00</td>\n",
       "      <td>van</td>\n",
       "      <td>162</td>\n",
       "      <td>1.80</td>\n",
       "      <td>Diesel</td>\n",
       "      <td>yes</td>\n",
       "      <td>2012</td>\n",
       "      <td>B 180</td>\n",
       "      <td>front</td>\n",
       "    </tr>\n",
       "    <tr>\n",
       "      <th>4</th>\n",
       "      <td>Mercedes-Benz</td>\n",
       "      <td>33000.00</td>\n",
       "      <td>vagon</td>\n",
       "      <td>91</td>\n",
       "      <td>nan</td>\n",
       "      <td>Other</td>\n",
       "      <td>yes</td>\n",
       "      <td>2013</td>\n",
       "      <td>E-Class</td>\n",
       "      <td>NaN</td>\n",
       "    </tr>\n",
       "  </tbody>\n",
       "</table>\n",
       "</div>"
      ],
      "text/plain": [
       "             car    price       body  mileage  engV engType registration  \\\n",
       "0           Ford 15500.00  crossover       68  2.50     Gas          yes   \n",
       "1  Mercedes-Benz 20500.00      sedan      173  1.80     Gas          yes   \n",
       "2  Mercedes-Benz 35000.00      other      135  5.50  Petrol          yes   \n",
       "3  Mercedes-Benz 17800.00        van      162  1.80  Diesel          yes   \n",
       "4  Mercedes-Benz 33000.00      vagon       91   nan   Other          yes   \n",
       "\n",
       "   year    model  drive  \n",
       "0  2010     Kuga   full  \n",
       "1  2011  E-Class   rear  \n",
       "2  2008   CL 550   rear  \n",
       "3  2012    B 180  front  \n",
       "4  2013  E-Class    NaN  "
      ]
     },
     "execution_count": 11,
     "metadata": {},
     "output_type": "execute_result"
    }
   ],
   "source": [
    "car_sales_data_df = pd.read_csv(\"https://raw.githubusercontent.com/insaid2018/Term-1/master/Data/Projects/car_sales.csv\", encoding='cp1252') \n",
    "car_sales_data_df.head()"
   ]
  },
  {
   "cell_type": "markdown",
   "metadata": {
    "colab_type": "text",
    "id": "KUNcovwbUnHm"
   },
   "source": [
    "<a id=section401></a>\n",
    "## 4.1 Description of the Dataset"
   ]
  },
  {
   "cell_type": "markdown",
   "metadata": {
    "colab_type": "text",
    "id": "LdLm8bjeUnHp"
   },
   "source": [
    "The dataset consists of the information about different car sales in over a period of time. Various variables present in the dataset includes data of car, model, price, drive etc.\n",
    "\n",
    "The dataset comprises of 9576 observations of 10 columns. Below is a table showing names of all the columns and their description."
   ]
  },
  {
   "cell_type": "markdown",
   "metadata": {
    "colab_type": "text",
    "id": "W2ro32gNUnHn"
   },
   "source": [
    "| Column Name                    | Description                                                                                |\n",
    "| -------------------------------|:------------------------------------------------------------------------------------------:| \n",
    "| car                            | Car brand name                                                                              |\n",
    "| model                          | Available car different Variants                                                            | \n",
    "| year                           | Purchasing Year                                                                            | \n",
    "| body                           | Body type-Hatchback, Sedan, Crossover etc                                                  |\n",
    "| mileage                        | Car Mileage                                                                                |\n",
    "| engV                           | Engine version                                                                            |\n",
    "| engType                        | Car Fuel type - Petrol, Diesel, gas etc                                                    |\n",
    "| drive                          | Wheel Drive Front, back                                                                    |\n",
    "| registration                   | Check if the vechile is registered                                                          |\n",
    "| price                          | Price of Car in $                                                                          |"
   ]
  },
  {
   "cell_type": "code",
   "execution_count": 12,
   "metadata": {
    "colab": {
     "base_uri": "https://localhost:8080/",
     "height": 34
    },
    "colab_type": "code",
    "id": "hzqoNg-GUnHr",
    "outputId": "9af8023d-e078-40cd-aa05-5b20fef92f55"
   },
   "outputs": [
    {
     "data": {
      "text/plain": [
       "(9576, 10)"
      ]
     },
     "execution_count": 12,
     "metadata": {},
     "output_type": "execute_result"
    }
   ],
   "source": [
    "car_sales_data_df.shape"
   ]
  },
  {
   "cell_type": "code",
   "execution_count": 13,
   "metadata": {
    "colab": {
     "base_uri": "https://localhost:8080/",
     "height": 269
    },
    "colab_type": "code",
    "id": "lOXxE3URUnHy",
    "outputId": "3e6537a6-126a-4ef1-c35e-4563d6045887"
   },
   "outputs": [
    {
     "name": "stdout",
     "output_type": "stream",
     "text": [
      "<class 'pandas.core.frame.DataFrame'>\n",
      "RangeIndex: 9576 entries, 0 to 9575\n",
      "Data columns (total 10 columns):\n",
      " #   Column        Non-Null Count  Dtype  \n",
      "---  ------        --------------  -----  \n",
      " 0   car           9576 non-null   object \n",
      " 1   price         9576 non-null   float64\n",
      " 2   body          9576 non-null   object \n",
      " 3   mileage       9576 non-null   int64  \n",
      " 4   engV          9142 non-null   float64\n",
      " 5   engType       9576 non-null   object \n",
      " 6   registration  9576 non-null   object \n",
      " 7   year          9576 non-null   int64  \n",
      " 8   model         9576 non-null   object \n",
      " 9   drive         9065 non-null   object \n",
      "dtypes: float64(2), int64(2), object(6)\n",
      "memory usage: 748.2+ KB\n"
     ]
    }
   ],
   "source": [
    "car_sales_data_df.info()"
   ]
  },
  {
   "cell_type": "markdown",
   "metadata": {},
   "source": [
    "- **engV** has 434 missing values in the columns.\n",
    "- **drive** has 511 missing values in the columns."
   ]
  },
  {
   "cell_type": "code",
   "execution_count": 14,
   "metadata": {
    "colab": {
     "base_uri": "https://localhost:8080/",
     "height": 284
    },
    "colab_type": "code",
    "id": "WiplV_egUnH6",
    "outputId": "87f57ee2-72b8-45dd-e804-06b530e643b0"
   },
   "outputs": [
    {
     "data": {
      "text/html": [
       "<div>\n",
       "<style scoped>\n",
       "    .dataframe tbody tr th:only-of-type {\n",
       "        vertical-align: middle;\n",
       "    }\n",
       "\n",
       "    .dataframe tbody tr th {\n",
       "        vertical-align: top;\n",
       "    }\n",
       "\n",
       "    .dataframe thead th {\n",
       "        text-align: right;\n",
       "    }\n",
       "</style>\n",
       "<table border=\"1\" class=\"dataframe\">\n",
       "  <thead>\n",
       "    <tr style=\"text-align: right;\">\n",
       "      <th></th>\n",
       "      <th>price</th>\n",
       "      <th>mileage</th>\n",
       "      <th>engV</th>\n",
       "      <th>year</th>\n",
       "    </tr>\n",
       "  </thead>\n",
       "  <tbody>\n",
       "    <tr>\n",
       "      <th>count</th>\n",
       "      <td>9576.00</td>\n",
       "      <td>9576.00</td>\n",
       "      <td>9142.00</td>\n",
       "      <td>9576.00</td>\n",
       "    </tr>\n",
       "    <tr>\n",
       "      <th>mean</th>\n",
       "      <td>15633.32</td>\n",
       "      <td>138.86</td>\n",
       "      <td>2.65</td>\n",
       "      <td>2006.61</td>\n",
       "    </tr>\n",
       "    <tr>\n",
       "      <th>std</th>\n",
       "      <td>24106.52</td>\n",
       "      <td>98.63</td>\n",
       "      <td>5.93</td>\n",
       "      <td>7.07</td>\n",
       "    </tr>\n",
       "    <tr>\n",
       "      <th>min</th>\n",
       "      <td>0.00</td>\n",
       "      <td>0.00</td>\n",
       "      <td>0.10</td>\n",
       "      <td>1953.00</td>\n",
       "    </tr>\n",
       "    <tr>\n",
       "      <th>25%</th>\n",
       "      <td>4999.00</td>\n",
       "      <td>70.00</td>\n",
       "      <td>1.60</td>\n",
       "      <td>2004.00</td>\n",
       "    </tr>\n",
       "    <tr>\n",
       "      <th>50%</th>\n",
       "      <td>9200.00</td>\n",
       "      <td>128.00</td>\n",
       "      <td>2.00</td>\n",
       "      <td>2008.00</td>\n",
       "    </tr>\n",
       "    <tr>\n",
       "      <th>75%</th>\n",
       "      <td>16700.00</td>\n",
       "      <td>194.00</td>\n",
       "      <td>2.50</td>\n",
       "      <td>2012.00</td>\n",
       "    </tr>\n",
       "    <tr>\n",
       "      <th>max</th>\n",
       "      <td>547800.00</td>\n",
       "      <td>999.00</td>\n",
       "      <td>99.99</td>\n",
       "      <td>2016.00</td>\n",
       "    </tr>\n",
       "  </tbody>\n",
       "</table>\n",
       "</div>"
      ],
      "text/plain": [
       "          price  mileage    engV    year\n",
       "count   9576.00  9576.00 9142.00 9576.00\n",
       "mean   15633.32   138.86    2.65 2006.61\n",
       "std    24106.52    98.63    5.93    7.07\n",
       "min        0.00     0.00    0.10 1953.00\n",
       "25%     4999.00    70.00    1.60 2004.00\n",
       "50%     9200.00   128.00    2.00 2008.00\n",
       "75%    16700.00   194.00    2.50 2012.00\n",
       "max   547800.00   999.00   99.99 2016.00"
      ]
     },
     "execution_count": 14,
     "metadata": {},
     "output_type": "execute_result"
    }
   ],
   "source": [
    "car_sales_data_df.describe()"
   ]
  },
  {
   "cell_type": "markdown",
   "metadata": {
    "colab_type": "text",
    "id": "EIfm5w4QUnIB"
   },
   "source": [
    "- **min price** and **min mileage** has zero value which means the data has not been entered for this cars or have been recorded as zero due to non-availability."
   ]
  },
  {
   "cell_type": "markdown",
   "metadata": {
    "colab_type": "text",
    "id": "cP4kz2-MUnID"
   },
   "source": [
    "<a id=section402></a>\n",
    "## 4.2 Pandas Profiling before Data Preprocessing\n",
    "\n",
    "- Here, we will perform **Pandas Profiling before preprocessing** our dataset, so we will name the **output file** as __profiling_before_preprocessing.html__. \n",
    "\n",
    "\n",
    "- The file will be stored in the directory of the notebook. Use jupyter notebook file explorer and take a look at it and see what insights we can develop from it. \n",
    "\n",
    "\n",
    "- Or we can **output the profiling report** in the **current jupyter notebook** as well as shown in the code below. "
   ]
  },
  {
   "cell_type": "code",
   "execution_count": 15,
   "metadata": {
    "colab": {
     "base_uri": "https://localhost:8080/",
     "height": 1000
    },
    "colab_type": "code",
    "id": "QNVYuRL-UnIE",
    "outputId": "58867694-2c97-46f1-cecb-e94e52fffda2"
   },
   "outputs": [
    {
     "name": "stdout",
     "output_type": "stream",
     "text": [
      "Requirement already up-to-date: pandas-profiling in c:\\users\\nirmal\\anaconda3\\lib\\site-packages (2.9.0)\n",
      "Requirement already satisfied, skipping upgrade: matplotlib>=3.2.0 in c:\\users\\nirmal\\anaconda3\\lib\\site-packages (from pandas-profiling) (3.3.1)\n",
      "Requirement already satisfied, skipping upgrade: tangled-up-in-unicode>=0.0.6 in c:\\users\\nirmal\\anaconda3\\lib\\site-packages (from pandas-profiling) (0.0.6)\n",
      "Requirement already satisfied, skipping upgrade: jinja2>=2.11.1 in c:\\users\\nirmal\\anaconda3\\lib\\site-packages (from pandas-profiling) (2.11.2)\n",
      "Requirement already satisfied, skipping upgrade: requests>=2.23.0 in c:\\users\\nirmal\\anaconda3\\lib\\site-packages (from pandas-profiling) (2.24.0)\n",
      "Requirement already satisfied, skipping upgrade: confuse>=1.0.0 in c:\\users\\nirmal\\anaconda3\\lib\\site-packages (from pandas-profiling) (1.3.0)\n",
      "Requirement already satisfied, skipping upgrade: tqdm>=4.43.0 in c:\\users\\nirmal\\anaconda3\\lib\\site-packages (from pandas-profiling) (4.49.0)\n",
      "Requirement already satisfied, skipping upgrade: numpy>=1.16.0 in c:\\users\\nirmal\\anaconda3\\lib\\site-packages (from pandas-profiling) (1.19.1)\n",
      "Requirement already satisfied, skipping upgrade: joblib in c:\\users\\nirmal\\anaconda3\\lib\\site-packages (from pandas-profiling) (0.16.0)\n",
      "Requirement already satisfied, skipping upgrade: phik>=0.9.10 in c:\\users\\nirmal\\anaconda3\\lib\\site-packages (from pandas-profiling) (0.10.0)\n",
      "Requirement already satisfied, skipping upgrade: missingno>=0.4.2 in c:\\users\\nirmal\\anaconda3\\lib\\site-packages (from pandas-profiling) (0.4.2)\n",
      "Requirement already satisfied, skipping upgrade: seaborn>=0.10.1 in c:\\users\\nirmal\\anaconda3\\lib\\site-packages (from pandas-profiling) (0.11.0)\n",
      "Requirement already satisfied, skipping upgrade: htmlmin>=0.1.12 in c:\\users\\nirmal\\anaconda3\\lib\\site-packages (from pandas-profiling) (0.1.12)\n",
      "Requirement already satisfied, skipping upgrade: attrs>=19.3.0 in c:\\users\\nirmal\\anaconda3\\lib\\site-packages (from pandas-profiling) (20.2.0)\n",
      "Requirement already satisfied, skipping upgrade: ipywidgets>=7.5.1 in c:\\users\\nirmal\\anaconda3\\lib\\site-packages (from pandas-profiling) (7.5.1)\n",
      "Requirement already satisfied, skipping upgrade: pandas!=1.0.0,!=1.0.1,!=1.0.2,!=1.1.0,>=0.25.3 in c:\\users\\nirmal\\anaconda3\\lib\\site-packages (from pandas-profiling) (1.1.2)\n",
      "Requirement already satisfied, skipping upgrade: visions[type_image_path]==0.5.0 in c:\\users\\nirmal\\anaconda3\\lib\\site-packages (from pandas-profiling) (0.5.0)\n",
      "Requirement already satisfied, skipping upgrade: scipy>=1.4.1 in c:\\users\\nirmal\\anaconda3\\lib\\site-packages (from pandas-profiling) (1.5.2)\n",
      "Requirement already satisfied, skipping upgrade: python-dateutil>=2.1 in c:\\users\\nirmal\\anaconda3\\lib\\site-packages (from matplotlib>=3.2.0->pandas-profiling) (2.8.1)\n",
      "Requirement already satisfied, skipping upgrade: pillow>=6.2.0 in c:\\users\\nirmal\\anaconda3\\lib\\site-packages (from matplotlib>=3.2.0->pandas-profiling) (7.2.0)\n",
      "Requirement already satisfied, skipping upgrade: kiwisolver>=1.0.1 in c:\\users\\nirmal\\anaconda3\\lib\\site-packages (from matplotlib>=3.2.0->pandas-profiling) (1.2.0)\n",
      "Requirement already satisfied, skipping upgrade: certifi>=2020.06.20 in c:\\users\\nirmal\\anaconda3\\lib\\site-packages (from matplotlib>=3.2.0->pandas-profiling) (2020.6.20)\n",
      "Requirement already satisfied, skipping upgrade: pyparsing!=2.0.4,!=2.1.2,!=2.1.6,>=2.0.3 in c:\\users\\nirmal\\anaconda3\\lib\\site-packages (from matplotlib>=3.2.0->pandas-profiling) (2.4.7)\n",
      "Requirement already satisfied, skipping upgrade: cycler>=0.10 in c:\\users\\nirmal\\anaconda3\\lib\\site-packages (from matplotlib>=3.2.0->pandas-profiling) (0.10.0)\n",
      "Requirement already satisfied, skipping upgrade: MarkupSafe>=0.23 in c:\\users\\nirmal\\anaconda3\\lib\\site-packages (from jinja2>=2.11.1->pandas-profiling) (1.1.1)\n",
      "Requirement already satisfied, skipping upgrade: chardet<4,>=3.0.2 in c:\\users\\nirmal\\anaconda3\\lib\\site-packages (from requests>=2.23.0->pandas-profiling) (3.0.4)\n",
      "Requirement already satisfied, skipping upgrade: idna<3,>=2.5 in c:\\users\\nirmal\\anaconda3\\lib\\site-packages (from requests>=2.23.0->pandas-profiling) (2.10)\n",
      "Requirement already satisfied, skipping upgrade: urllib3!=1.25.0,!=1.25.1,<1.26,>=1.21.1 in c:\\users\\nirmal\\anaconda3\\lib\\site-packages (from requests>=2.23.0->pandas-profiling) (1.25.10)\n",
      "Requirement already satisfied, skipping upgrade: pyyaml in c:\\users\\nirmal\\anaconda3\\lib\\site-packages (from confuse>=1.0.0->pandas-profiling) (5.3.1)\n",
      "Requirement already satisfied, skipping upgrade: numba>=0.38.1 in c:\\users\\nirmal\\anaconda3\\lib\\site-packages (from phik>=0.9.10->pandas-profiling) (0.51.2)\n",
      "Requirement already satisfied, skipping upgrade: traitlets>=4.3.1 in c:\\users\\nirmal\\anaconda3\\lib\\site-packages (from ipywidgets>=7.5.1->pandas-profiling) (5.0.4)\n",
      "Requirement already satisfied, skipping upgrade: ipykernel>=4.5.1 in c:\\users\\nirmal\\anaconda3\\lib\\site-packages (from ipywidgets>=7.5.1->pandas-profiling) (5.3.4)\n",
      "Requirement already satisfied, skipping upgrade: nbformat>=4.2.0 in c:\\users\\nirmal\\anaconda3\\lib\\site-packages (from ipywidgets>=7.5.1->pandas-profiling) (5.0.7)\n",
      "Requirement already satisfied, skipping upgrade: ipython>=4.0.0; python_version >= \"3.3\" in c:\\users\\nirmal\\anaconda3\\lib\\site-packages (from ipywidgets>=7.5.1->pandas-profiling) (7.18.1)\n",
      "Requirement already satisfied, skipping upgrade: widgetsnbextension~=3.5.0 in c:\\users\\nirmal\\anaconda3\\lib\\site-packages (from ipywidgets>=7.5.1->pandas-profiling) (3.5.1)\n",
      "Requirement already satisfied, skipping upgrade: pytz>=2017.2 in c:\\users\\nirmal\\anaconda3\\lib\\site-packages (from pandas!=1.0.0,!=1.0.1,!=1.0.2,!=1.1.0,>=0.25.3->pandas-profiling) (2020.1)\n",
      "Requirement already satisfied, skipping upgrade: networkx>=2.4 in c:\\users\\nirmal\\anaconda3\\lib\\site-packages (from visions[type_image_path]==0.5.0->pandas-profiling) (2.5)\n",
      "Requirement already satisfied, skipping upgrade: imagehash; extra == \"type_image_path\" in c:\\users\\nirmal\\anaconda3\\lib\\site-packages (from visions[type_image_path]==0.5.0->pandas-profiling) (4.1.0)\n",
      "Requirement already satisfied, skipping upgrade: six>=1.5 in c:\\users\\nirmal\\anaconda3\\lib\\site-packages (from python-dateutil>=2.1->matplotlib>=3.2.0->pandas-profiling) (1.15.0)\n",
      "Requirement already satisfied, skipping upgrade: llvmlite<0.35,>=0.34.0.dev0 in c:\\users\\nirmal\\anaconda3\\lib\\site-packages (from numba>=0.38.1->phik>=0.9.10->pandas-profiling) (0.34.0)\n",
      "Requirement already satisfied, skipping upgrade: setuptools in c:\\users\\nirmal\\anaconda3\\lib\\site-packages (from numba>=0.38.1->phik>=0.9.10->pandas-profiling) (49.6.0.post20200925)\n",
      "Requirement already satisfied, skipping upgrade: ipython-genutils in c:\\users\\nirmal\\anaconda3\\lib\\site-packages (from traitlets>=4.3.1->ipywidgets>=7.5.1->pandas-profiling) (0.2.0)\n",
      "Requirement already satisfied, skipping upgrade: jupyter-client in c:\\users\\nirmal\\anaconda3\\lib\\site-packages (from ipykernel>=4.5.1->ipywidgets>=7.5.1->pandas-profiling) (6.1.7)\n",
      "Requirement already satisfied, skipping upgrade: tornado>=4.2 in c:\\users\\nirmal\\anaconda3\\lib\\site-packages (from ipykernel>=4.5.1->ipywidgets>=7.5.1->pandas-profiling) (6.0.4)\n",
      "Requirement already satisfied, skipping upgrade: jsonschema!=2.5.0,>=2.4 in c:\\users\\nirmal\\anaconda3\\lib\\site-packages (from nbformat>=4.2.0->ipywidgets>=7.5.1->pandas-profiling) (3.2.0)\n",
      "Requirement already satisfied, skipping upgrade: jupyter-core in c:\\users\\nirmal\\anaconda3\\lib\\site-packages (from nbformat>=4.2.0->ipywidgets>=7.5.1->pandas-profiling) (4.6.3)\n",
      "Requirement already satisfied, skipping upgrade: pygments in c:\\users\\nirmal\\anaconda3\\lib\\site-packages (from ipython>=4.0.0; python_version >= \"3.3\"->ipywidgets>=7.5.1->pandas-profiling) (2.7.1)\n",
      "Requirement already satisfied, skipping upgrade: colorama; sys_platform == \"win32\" in c:\\users\\nirmal\\anaconda3\\lib\\site-packages (from ipython>=4.0.0; python_version >= \"3.3\"->ipywidgets>=7.5.1->pandas-profiling) (0.4.3)\n",
      "Requirement already satisfied, skipping upgrade: decorator in c:\\users\\nirmal\\anaconda3\\lib\\site-packages (from ipython>=4.0.0; python_version >= \"3.3\"->ipywidgets>=7.5.1->pandas-profiling) (4.4.2)\n",
      "Requirement already satisfied, skipping upgrade: jedi>=0.10 in c:\\users\\nirmal\\anaconda3\\lib\\site-packages (from ipython>=4.0.0; python_version >= \"3.3\"->ipywidgets>=7.5.1->pandas-profiling) (0.14.1)\n",
      "Requirement already satisfied, skipping upgrade: prompt-toolkit!=3.0.0,!=3.0.1,<3.1.0,>=2.0.0 in c:\\users\\nirmal\\anaconda3\\lib\\site-packages (from ipython>=4.0.0; python_version >= \"3.3\"->ipywidgets>=7.5.1->pandas-profiling) (3.0.7)\n",
      "Requirement already satisfied, skipping upgrade: backcall in c:\\users\\nirmal\\anaconda3\\lib\\site-packages (from ipython>=4.0.0; python_version >= \"3.3\"->ipywidgets>=7.5.1->pandas-profiling) (0.2.0)\n",
      "Requirement already satisfied, skipping upgrade: pickleshare in c:\\users\\nirmal\\anaconda3\\lib\\site-packages (from ipython>=4.0.0; python_version >= \"3.3\"->ipywidgets>=7.5.1->pandas-profiling) (0.7.5)\n",
      "Requirement already satisfied, skipping upgrade: notebook>=4.4.1 in c:\\users\\nirmal\\anaconda3\\lib\\site-packages (from widgetsnbextension~=3.5.0->ipywidgets>=7.5.1->pandas-profiling) (6.1.4)\n",
      "Requirement already satisfied, skipping upgrade: PyWavelets in c:\\users\\nirmal\\anaconda3\\lib\\site-packages (from imagehash; extra == \"type_image_path\"->visions[type_image_path]==0.5.0->pandas-profiling) (1.1.1)\n",
      "Requirement already satisfied, skipping upgrade: pyzmq>=13 in c:\\users\\nirmal\\anaconda3\\lib\\site-packages (from jupyter-client->ipykernel>=4.5.1->ipywidgets>=7.5.1->pandas-profiling) (19.0.2)\n",
      "Requirement already satisfied, skipping upgrade: importlib-metadata; python_version < \"3.8\" in c:\\users\\nirmal\\anaconda3\\lib\\site-packages (from jsonschema!=2.5.0,>=2.4->nbformat>=4.2.0->ipywidgets>=7.5.1->pandas-profiling) (1.7.0)\n",
      "Requirement already satisfied, skipping upgrade: pyrsistent>=0.14.0 in c:\\users\\nirmal\\anaconda3\\lib\\site-packages (from jsonschema!=2.5.0,>=2.4->nbformat>=4.2.0->ipywidgets>=7.5.1->pandas-profiling) (0.17.3)\n",
      "Requirement already satisfied, skipping upgrade: pywin32>=1.0; sys_platform == \"win32\" in c:\\users\\nirmal\\anaconda3\\lib\\site-packages (from jupyter-core->nbformat>=4.2.0->ipywidgets>=7.5.1->pandas-profiling) (227)\n",
      "Requirement already satisfied, skipping upgrade: parso>=0.5.0 in c:\\users\\nirmal\\anaconda3\\lib\\site-packages (from jedi>=0.10->ipython>=4.0.0; python_version >= \"3.3\"->ipywidgets>=7.5.1->pandas-profiling) (0.5.2)\n",
      "Requirement already satisfied, skipping upgrade: wcwidth in c:\\users\\nirmal\\anaconda3\\lib\\site-packages (from prompt-toolkit!=3.0.0,!=3.0.1,<3.1.0,>=2.0.0->ipython>=4.0.0; python_version >= \"3.3\"->ipywidgets>=7.5.1->pandas-profiling) (0.2.5)\n",
      "Requirement already satisfied, skipping upgrade: prometheus-client in c:\\users\\nirmal\\anaconda3\\lib\\site-packages (from notebook>=4.4.1->widgetsnbextension~=3.5.0->ipywidgets>=7.5.1->pandas-profiling) (0.8.0)\n",
      "Requirement already satisfied, skipping upgrade: terminado>=0.8.3 in c:\\users\\nirmal\\anaconda3\\lib\\site-packages (from notebook>=4.4.1->widgetsnbextension~=3.5.0->ipywidgets>=7.5.1->pandas-profiling) (0.8.3)\n",
      "Requirement already satisfied, skipping upgrade: Send2Trash in c:\\users\\nirmal\\anaconda3\\lib\\site-packages (from notebook>=4.4.1->widgetsnbextension~=3.5.0->ipywidgets>=7.5.1->pandas-profiling) (1.5.0)\n",
      "Requirement already satisfied, skipping upgrade: argon2-cffi in c:\\users\\nirmal\\anaconda3\\lib\\site-packages (from notebook>=4.4.1->widgetsnbextension~=3.5.0->ipywidgets>=7.5.1->pandas-profiling) (20.1.0)\n",
      "Requirement already satisfied, skipping upgrade: nbconvert in c:\\users\\nirmal\\anaconda3\\lib\\site-packages (from notebook>=4.4.1->widgetsnbextension~=3.5.0->ipywidgets>=7.5.1->pandas-profiling) (6.0.6)\n",
      "Requirement already satisfied, skipping upgrade: zipp>=0.5 in c:\\users\\nirmal\\anaconda3\\lib\\site-packages (from importlib-metadata; python_version < \"3.8\"->jsonschema!=2.5.0,>=2.4->nbformat>=4.2.0->ipywidgets>=7.5.1->pandas-profiling) (3.1.0)\n",
      "Requirement already satisfied, skipping upgrade: cffi>=1.0.0 in c:\\users\\nirmal\\anaconda3\\lib\\site-packages (from argon2-cffi->notebook>=4.4.1->widgetsnbextension~=3.5.0->ipywidgets>=7.5.1->pandas-profiling) (1.14.3)\n",
      "Requirement already satisfied, skipping upgrade: mistune<2,>=0.8.1 in c:\\users\\nirmal\\anaconda3\\lib\\site-packages (from nbconvert->notebook>=4.4.1->widgetsnbextension~=3.5.0->ipywidgets>=7.5.1->pandas-profiling) (0.8.4)\n",
      "Requirement already satisfied, skipping upgrade: pandocfilters>=1.4.1 in c:\\users\\nirmal\\anaconda3\\lib\\site-packages (from nbconvert->notebook>=4.4.1->widgetsnbextension~=3.5.0->ipywidgets>=7.5.1->pandas-profiling) (1.4.2)\n",
      "Requirement already satisfied, skipping upgrade: nbclient<0.6.0,>=0.5.0 in c:\\users\\nirmal\\anaconda3\\lib\\site-packages (from nbconvert->notebook>=4.4.1->widgetsnbextension~=3.5.0->ipywidgets>=7.5.1->pandas-profiling) (0.5.0)\n",
      "Requirement already satisfied, skipping upgrade: entrypoints>=0.2.2 in c:\\users\\nirmal\\anaconda3\\lib\\site-packages (from nbconvert->notebook>=4.4.1->widgetsnbextension~=3.5.0->ipywidgets>=7.5.1->pandas-profiling) (0.3)\n",
      "Requirement already satisfied, skipping upgrade: bleach in c:\\users\\nirmal\\anaconda3\\lib\\site-packages (from nbconvert->notebook>=4.4.1->widgetsnbextension~=3.5.0->ipywidgets>=7.5.1->pandas-profiling) (3.2.1)\n",
      "Requirement already satisfied, skipping upgrade: jupyterlab-pygments in c:\\users\\nirmal\\anaconda3\\lib\\site-packages (from nbconvert->notebook>=4.4.1->widgetsnbextension~=3.5.0->ipywidgets>=7.5.1->pandas-profiling) (0.1.2)\n",
      "Requirement already satisfied, skipping upgrade: defusedxml in c:\\users\\nirmal\\anaconda3\\lib\\site-packages (from nbconvert->notebook>=4.4.1->widgetsnbextension~=3.5.0->ipywidgets>=7.5.1->pandas-profiling) (0.6.0)\n",
      "Requirement already satisfied, skipping upgrade: testpath in c:\\users\\nirmal\\anaconda3\\lib\\site-packages (from nbconvert->notebook>=4.4.1->widgetsnbextension~=3.5.0->ipywidgets>=7.5.1->pandas-profiling) (0.4.4)\n",
      "Requirement already satisfied, skipping upgrade: pycparser in c:\\users\\nirmal\\anaconda3\\lib\\site-packages (from cffi>=1.0.0->argon2-cffi->notebook>=4.4.1->widgetsnbextension~=3.5.0->ipywidgets>=7.5.1->pandas-profiling) (2.20)\n",
      "Requirement already satisfied, skipping upgrade: nest-asyncio in c:\\users\\nirmal\\anaconda3\\lib\\site-packages (from nbclient<0.6.0,>=0.5.0->nbconvert->notebook>=4.4.1->widgetsnbextension~=3.5.0->ipywidgets>=7.5.1->pandas-profiling) (1.4.1)\n",
      "Requirement already satisfied, skipping upgrade: async-generator in c:\\users\\nirmal\\anaconda3\\lib\\site-packages (from nbclient<0.6.0,>=0.5.0->nbconvert->notebook>=4.4.1->widgetsnbextension~=3.5.0->ipywidgets>=7.5.1->pandas-profiling) (1.10)\n",
      "Requirement already satisfied, skipping upgrade: webencodings in c:\\users\\nirmal\\anaconda3\\lib\\site-packages (from bleach->nbconvert->notebook>=4.4.1->widgetsnbextension~=3.5.0->ipywidgets>=7.5.1->pandas-profiling) (0.5.1)\n",
      "Requirement already satisfied, skipping upgrade: packaging in c:\\users\\nirmal\\anaconda3\\lib\\site-packages (from bleach->nbconvert->notebook>=4.4.1->widgetsnbextension~=3.5.0->ipywidgets>=7.5.1->pandas-profiling) (20.4)\n"
     ]
    }
   ],
   "source": [
    "# To install pandas profiling\n",
    "!pip install pandas-profiling --upgrade"
   ]
  },
  {
   "cell_type": "code",
   "execution_count": 4,
   "metadata": {
    "colab": {},
    "colab_type": "code",
    "id": "aEk6_74GUnIK"
   },
   "outputs": [],
   "source": [
    "import pandas_profiling "
   ]
  },
  {
   "cell_type": "code",
   "execution_count": 7,
   "metadata": {
    "colab": {
     "base_uri": "https://localhost:8080/",
     "height": 212,
     "referenced_widgets": [
      "9fa8b62614004c059f867788f36b333b",
      "176b939c17bf4a5ba336034546a6df38",
      "7996420ae47a47f58aab72967776583c",
      "262e36bad4fa4b2a8412d109ba5658cb",
      "f83f5aa605c545ff883c8b124afc458c",
      "b36cfcdb1f2b4e918ae8ffa6fef8f9d6",
      "366258b3a8cb4e56b92b8383c8d93bed",
      "294aa4073d0f47ceba37554b763efa7f",
      "18e8da1473b54b2fae2c57f69b56fde2",
      "faff2229062249d19babe8230728f878",
      "6412046c417449779a40b6a3e2639647",
      "5dc91ab53d8f43eb83f41ddade3f1f29",
      "b02853de97c94e75b6c47a18a2458b08",
      "e2563b06ba304654bc89ae25d21bed18",
      "b54b466e096c4ce1b488c3f0ef85e964",
      "06034fc0186545eea743d9d8e176bd42",
      "03c11f3672c54eeda08d8186e12ae823",
      "6a0829b09b2141ec8a7a5c2942a6ead7",
      "ea0ce7e49c5f420aa4d65ce60df91459",
      "56307e0afb47420b906ff46368db3b11",
      "273227916b28453fadef5000b574902b",
      "43a71983db9a4bf4a982ecc84ec0ee1e",
      "77f64613288046beb205aec9d7e700c2",
      "ac04c5bf8e334da9b99bc8f26ebe0c80",
      "ed3a0d3c079545388c9d514b75fb5102",
      "c360a1f2dd444691b099d2aab03ae51b",
      "b57a93cf4c094e39875b56f8753df0ab",
      "818989fe37bc41c2b24f4bb124a2e2cd",
      "103fa1da0e27487682e0053d5b660412",
      "9cef0a2045e548cbadea263d187a6474",
      "482e7fc51aaa4339a7b4b0dc9668adbb",
      "f5904ba21af04fb1ae32f657bf03cb33"
     ]
    },
    "colab_type": "code",
    "id": "Kr_p-d5GUnIP",
    "outputId": "2d65c411-cf80-41cf-fdd3-37f40377c045"
   },
   "outputs": [
    {
     "data": {
      "application/vnd.jupyter.widget-view+json": {
       "model_id": "6874e49a8fa1455d9605ff5812cfa58f",
       "version_major": 2,
       "version_minor": 0
      },
      "text/plain": [
       "HBox(children=(FloatProgress(value=0.0, description='Summarize dataset', max=24.0, style=ProgressStyle(descrip…"
      ]
     },
     "metadata": {},
     "output_type": "display_data"
    },
    {
     "name": "stdout",
     "output_type": "stream",
     "text": [
      "\n"
     ]
    },
    {
     "data": {
      "application/vnd.jupyter.widget-view+json": {
       "model_id": "2efa18f073da49409fea0bbda3e0508b",
       "version_major": 2,
       "version_minor": 0
      },
      "text/plain": [
       "HBox(children=(FloatProgress(value=0.0, description='Generate report structure', max=1.0, style=ProgressStyle(…"
      ]
     },
     "metadata": {},
     "output_type": "display_data"
    },
    {
     "name": "stdout",
     "output_type": "stream",
     "text": [
      "\n"
     ]
    },
    {
     "data": {
      "application/vnd.jupyter.widget-view+json": {
       "model_id": "75c9f2ad07d14277b5524368b55a3d5d",
       "version_major": 2,
       "version_minor": 0
      },
      "text/plain": [
       "HBox(children=(FloatProgress(value=0.0, description='Render HTML', max=1.0, style=ProgressStyle(description_wi…"
      ]
     },
     "metadata": {},
     "output_type": "display_data"
    },
    {
     "name": "stdout",
     "output_type": "stream",
     "text": [
      "\n"
     ]
    },
    {
     "data": {
      "application/vnd.jupyter.widget-view+json": {
       "model_id": "daf2e166f5624470b34e227d5e8a95bc",
       "version_major": 2,
       "version_minor": 0
      },
      "text/plain": [
       "HBox(children=(FloatProgress(value=0.0, description='Export report to file', max=1.0, style=ProgressStyle(desc…"
      ]
     },
     "metadata": {},
     "output_type": "display_data"
    },
    {
     "name": "stdout",
     "output_type": "stream",
     "text": [
      "\n"
     ]
    }
   ],
   "source": [
    "# To output pandas profiling report to an external html file.\n",
    "# Saving the output as profiling_before_preprocessing.html\n",
    "\n",
    "profile = pandas_profiling.ProfileReport(car_sales_data_df)\n",
    "profile.to_file(output_file=\"profiling_before_preprocessing.html\")\n",
    "\n",
    "\n",
    "# To output the pandas profiling report on the notebook.\n",
    "\n",
    "# car_sales_data_df.profile_report(title='Pandas Profiling before Data Preprocessing', style={'full_width':True})"
   ]
  },
  {
   "cell_type": "markdown",
   "metadata": {
    "colab_type": "text",
    "id": "go1q0U6LUnIT"
   },
   "source": [
    "**Observations from Pandas Profiling before Data Processing**\n",
    "__Dataset info__:\n",
    "- Number of variables: 10\n",
    "- Number of observations: 9576\n",
    "- Missing cells: 945 (1%)\n",
    "\n",
    "__Variables types__: \n",
    "- Numeric = 4\n",
    "- Categorical = 5\n",
    "- Bool = 1\n",
    "\n",
    "\n",
    "- **Car** has **87** distinct values.\n",
    "- **Price** has **267** zero values. \n",
    "- **body** has **6** different types.\n",
    "- **mileage** has **348** zero values and some small percentage of extreme values.\n",
    "- **engV** has **434** missing values.\n",
    "- **drive** has **511** missing values.\n"
   ]
  },
  {
   "cell_type": "markdown",
   "metadata": {
    "colab_type": "text",
    "id": "-JolHjSCUnIU"
   },
   "source": [
    "<a id=section5></a>\n",
    "# 5. Data Preprocessing\n",
    "\n",
    "<a id=section501></a>\n",
    "## 5.1 Duplicate Rows\n",
    "\n",
    "We'll start by checking the **duplicate** rows."
   ]
  },
  {
   "cell_type": "code",
   "execution_count": 16,
   "metadata": {
    "colab": {
     "base_uri": "https://localhost:8080/",
     "height": 34
    },
    "colab_type": "code",
    "id": "rAMGnembUnIV",
    "outputId": "fa2618a1-bacc-40dc-801a-b0dce3972182"
   },
   "outputs": [
    {
     "name": "stdout",
     "output_type": "stream",
     "text": [
      "There are 113 duplicates out of total 9576 rows.\n"
     ]
    }
   ],
   "source": [
    "duplicates = car_sales_data_df[car_sales_data_df.duplicated(keep = 'first')]\n",
    "print('There are {} duplicates out of total {} rows.'.format(duplicates.shape[0], car_sales_data_df.shape[0]))"
   ]
  },
  {
   "cell_type": "code",
   "execution_count": 17,
   "metadata": {
    "colab": {
     "base_uri": "https://localhost:8080/",
     "height": 195
    },
    "colab_type": "code",
    "id": "ZHDr6GRVUnIY",
    "outputId": "38a1e3a1-2cac-4fd6-bdad-3e5c7d918df6"
   },
   "outputs": [
    {
     "data": {
      "text/html": [
       "<div>\n",
       "<style scoped>\n",
       "    .dataframe tbody tr th:only-of-type {\n",
       "        vertical-align: middle;\n",
       "    }\n",
       "\n",
       "    .dataframe tbody tr th {\n",
       "        vertical-align: top;\n",
       "    }\n",
       "\n",
       "    .dataframe thead th {\n",
       "        text-align: right;\n",
       "    }\n",
       "</style>\n",
       "<table border=\"1\" class=\"dataframe\">\n",
       "  <thead>\n",
       "    <tr style=\"text-align: right;\">\n",
       "      <th></th>\n",
       "      <th>car</th>\n",
       "      <th>price</th>\n",
       "      <th>body</th>\n",
       "      <th>mileage</th>\n",
       "      <th>engV</th>\n",
       "      <th>engType</th>\n",
       "      <th>registration</th>\n",
       "      <th>year</th>\n",
       "      <th>model</th>\n",
       "      <th>drive</th>\n",
       "    </tr>\n",
       "  </thead>\n",
       "  <tbody>\n",
       "    <tr>\n",
       "      <th>18</th>\n",
       "      <td>Nissan</td>\n",
       "      <td>16600.00</td>\n",
       "      <td>crossover</td>\n",
       "      <td>83</td>\n",
       "      <td>2.00</td>\n",
       "      <td>Petrol</td>\n",
       "      <td>yes</td>\n",
       "      <td>2013</td>\n",
       "      <td>X-Trail</td>\n",
       "      <td>full</td>\n",
       "    </tr>\n",
       "    <tr>\n",
       "      <th>42</th>\n",
       "      <td>Mercedes-Benz</td>\n",
       "      <td>20400.00</td>\n",
       "      <td>sedan</td>\n",
       "      <td>190</td>\n",
       "      <td>1.80</td>\n",
       "      <td>Gas</td>\n",
       "      <td>yes</td>\n",
       "      <td>2011</td>\n",
       "      <td>E-Class</td>\n",
       "      <td>rear</td>\n",
       "    </tr>\n",
       "    <tr>\n",
       "      <th>70</th>\n",
       "      <td>Mercedes-Benz</td>\n",
       "      <td>0.00</td>\n",
       "      <td>crossover</td>\n",
       "      <td>0</td>\n",
       "      <td>3.00</td>\n",
       "      <td>Diesel</td>\n",
       "      <td>yes</td>\n",
       "      <td>2016</td>\n",
       "      <td>GLE-Class</td>\n",
       "      <td>full</td>\n",
       "    </tr>\n",
       "    <tr>\n",
       "      <th>86</th>\n",
       "      <td>Toyota</td>\n",
       "      <td>103999.00</td>\n",
       "      <td>crossover</td>\n",
       "      <td>0</td>\n",
       "      <td>4.50</td>\n",
       "      <td>Diesel</td>\n",
       "      <td>yes</td>\n",
       "      <td>2016</td>\n",
       "      <td>Land Cruiser 200</td>\n",
       "      <td>full</td>\n",
       "    </tr>\n",
       "    <tr>\n",
       "      <th>98</th>\n",
       "      <td>Mercedes-Benz</td>\n",
       "      <td>20400.00</td>\n",
       "      <td>sedan</td>\n",
       "      <td>190</td>\n",
       "      <td>1.80</td>\n",
       "      <td>Gas</td>\n",
       "      <td>yes</td>\n",
       "      <td>2011</td>\n",
       "      <td>E-Class</td>\n",
       "      <td>rear</td>\n",
       "    </tr>\n",
       "  </tbody>\n",
       "</table>\n",
       "</div>"
      ],
      "text/plain": [
       "              car     price       body  mileage  engV engType registration  \\\n",
       "18         Nissan  16600.00  crossover       83  2.00  Petrol          yes   \n",
       "42  Mercedes-Benz  20400.00      sedan      190  1.80     Gas          yes   \n",
       "70  Mercedes-Benz      0.00  crossover        0  3.00  Diesel          yes   \n",
       "86         Toyota 103999.00  crossover        0  4.50  Diesel          yes   \n",
       "98  Mercedes-Benz  20400.00      sedan      190  1.80     Gas          yes   \n",
       "\n",
       "    year             model drive  \n",
       "18  2013           X-Trail  full  \n",
       "42  2011           E-Class  rear  \n",
       "70  2016         GLE-Class  full  \n",
       "86  2016  Land Cruiser 200  full  \n",
       "98  2011           E-Class  rear  "
      ]
     },
     "execution_count": 17,
     "metadata": {},
     "output_type": "execute_result"
    }
   ],
   "source": [
    "duplicates.head()"
   ]
  },
  {
   "cell_type": "markdown",
   "metadata": {},
   "source": [
    "- From the above it can be infered that the duplicates are actual car sales data and can have same value for same car attributes\n",
    "- We are not dropping any duplicate rows for the said reason from the data frame"
   ]
  },
  {
   "cell_type": "markdown",
   "metadata": {
    "colab_type": "text",
    "id": "z6BSY3G1UnIk"
   },
   "source": [
    "<a id=section502></a>\n",
    "## 5.2 Check Missing Values"
   ]
  },
  {
   "cell_type": "code",
   "execution_count": 18,
   "metadata": {
    "colab": {
     "base_uri": "https://localhost:8080/",
     "height": 168
    },
    "colab_type": "code",
    "id": "hPUsEXJyUnIl",
    "outputId": "27a69531-3145-4ee2-f16f-53663dc90ff8"
   },
   "outputs": [
    {
     "data": {
      "text/plain": [
       "car               0\n",
       "price             0\n",
       "body              0\n",
       "mileage           0\n",
       "engV            434\n",
       "engType           0\n",
       "registration      0\n",
       "year              0\n",
       "model             0\n",
       "drive           511\n",
       "dtype: int64"
      ]
     },
     "execution_count": 18,
     "metadata": {},
     "output_type": "execute_result"
    }
   ],
   "source": [
    "car_sales_data_df.isnull().sum()"
   ]
  },
  {
   "cell_type": "markdown",
   "metadata": {
    "colab_type": "text",
    "id": "shTBkwR9UnIo"
   },
   "source": [
    "- Only two variables **engV** and **drive** has 434 and 511 missing values respectively."
   ]
  },
  {
   "cell_type": "code",
   "execution_count": 19,
   "metadata": {
    "colab": {
     "base_uri": "https://localhost:8080/",
     "height": 195
    },
    "colab_type": "code",
    "id": "wdyS9U6TUnIp",
    "outputId": "e87bd6a9-35f0-41e8-e4aa-2cc581a51678"
   },
   "outputs": [
    {
     "data": {
      "text/html": [
       "<div>\n",
       "<style scoped>\n",
       "    .dataframe tbody tr th:only-of-type {\n",
       "        vertical-align: middle;\n",
       "    }\n",
       "\n",
       "    .dataframe tbody tr th {\n",
       "        vertical-align: top;\n",
       "    }\n",
       "\n",
       "    .dataframe thead th {\n",
       "        text-align: right;\n",
       "    }\n",
       "</style>\n",
       "<table border=\"1\" class=\"dataframe\">\n",
       "  <thead>\n",
       "    <tr style=\"text-align: right;\">\n",
       "      <th></th>\n",
       "      <th>car</th>\n",
       "      <th>price</th>\n",
       "      <th>body</th>\n",
       "      <th>mileage</th>\n",
       "      <th>engV</th>\n",
       "      <th>engType</th>\n",
       "      <th>registration</th>\n",
       "      <th>year</th>\n",
       "      <th>model</th>\n",
       "      <th>drive</th>\n",
       "    </tr>\n",
       "  </thead>\n",
       "  <tbody>\n",
       "    <tr>\n",
       "      <th>4</th>\n",
       "      <td>Mercedes-Benz</td>\n",
       "      <td>33000.00</td>\n",
       "      <td>vagon</td>\n",
       "      <td>91</td>\n",
       "      <td>nan</td>\n",
       "      <td>Other</td>\n",
       "      <td>yes</td>\n",
       "      <td>2013</td>\n",
       "      <td>E-Class</td>\n",
       "      <td>NaN</td>\n",
       "    </tr>\n",
       "    <tr>\n",
       "      <th>13</th>\n",
       "      <td>BMW</td>\n",
       "      <td>4700.00</td>\n",
       "      <td>sedan</td>\n",
       "      <td>200</td>\n",
       "      <td>nan</td>\n",
       "      <td>Petrol</td>\n",
       "      <td>yes</td>\n",
       "      <td>1996</td>\n",
       "      <td>316</td>\n",
       "      <td>rear</td>\n",
       "    </tr>\n",
       "    <tr>\n",
       "      <th>30</th>\n",
       "      <td>Nissan</td>\n",
       "      <td>13980.00</td>\n",
       "      <td>hatch</td>\n",
       "      <td>31</td>\n",
       "      <td>nan</td>\n",
       "      <td>Other</td>\n",
       "      <td>yes</td>\n",
       "      <td>2013</td>\n",
       "      <td>Leaf</td>\n",
       "      <td>front</td>\n",
       "    </tr>\n",
       "    <tr>\n",
       "      <th>31</th>\n",
       "      <td>Nissan</td>\n",
       "      <td>17300.00</td>\n",
       "      <td>hatch</td>\n",
       "      <td>24</td>\n",
       "      <td>nan</td>\n",
       "      <td>Other</td>\n",
       "      <td>yes</td>\n",
       "      <td>2013</td>\n",
       "      <td>Leaf</td>\n",
       "      <td>front</td>\n",
       "    </tr>\n",
       "    <tr>\n",
       "      <th>37</th>\n",
       "      <td>Audi</td>\n",
       "      <td>2850.00</td>\n",
       "      <td>sedan</td>\n",
       "      <td>260</td>\n",
       "      <td>nan</td>\n",
       "      <td>Other</td>\n",
       "      <td>no</td>\n",
       "      <td>1999</td>\n",
       "      <td>A6</td>\n",
       "      <td>NaN</td>\n",
       "    </tr>\n",
       "  </tbody>\n",
       "</table>\n",
       "</div>"
      ],
      "text/plain": [
       "              car    price   body  mileage  engV engType registration  year  \\\n",
       "4   Mercedes-Benz 33000.00  vagon       91   nan   Other          yes  2013   \n",
       "13            BMW  4700.00  sedan      200   nan  Petrol          yes  1996   \n",
       "30         Nissan 13980.00  hatch       31   nan   Other          yes  2013   \n",
       "31         Nissan 17300.00  hatch       24   nan   Other          yes  2013   \n",
       "37           Audi  2850.00  sedan      260   nan   Other           no  1999   \n",
       "\n",
       "      model  drive  \n",
       "4   E-Class    NaN  \n",
       "13      316   rear  \n",
       "30     Leaf  front  \n",
       "31     Leaf  front  \n",
       "37       A6    NaN  "
      ]
     },
     "execution_count": 19,
     "metadata": {},
     "output_type": "execute_result"
    }
   ],
   "source": [
    "car_sales_data_df[car_sales_data_df.engV.isnull()].head()"
   ]
  },
  {
   "cell_type": "code",
   "execution_count": 20,
   "metadata": {},
   "outputs": [
    {
     "data": {
      "text/html": [
       "<div>\n",
       "<style scoped>\n",
       "    .dataframe tbody tr th:only-of-type {\n",
       "        vertical-align: middle;\n",
       "    }\n",
       "\n",
       "    .dataframe tbody tr th {\n",
       "        vertical-align: top;\n",
       "    }\n",
       "\n",
       "    .dataframe thead th {\n",
       "        text-align: right;\n",
       "    }\n",
       "</style>\n",
       "<table border=\"1\" class=\"dataframe\">\n",
       "  <thead>\n",
       "    <tr style=\"text-align: right;\">\n",
       "      <th></th>\n",
       "      <th>car</th>\n",
       "      <th>price</th>\n",
       "      <th>body</th>\n",
       "      <th>mileage</th>\n",
       "      <th>engV</th>\n",
       "      <th>engType</th>\n",
       "      <th>registration</th>\n",
       "      <th>year</th>\n",
       "      <th>model</th>\n",
       "      <th>drive</th>\n",
       "    </tr>\n",
       "  </thead>\n",
       "  <tbody>\n",
       "    <tr>\n",
       "      <th>30</th>\n",
       "      <td>Nissan</td>\n",
       "      <td>13980.00</td>\n",
       "      <td>hatch</td>\n",
       "      <td>31</td>\n",
       "      <td>nan</td>\n",
       "      <td>Other</td>\n",
       "      <td>yes</td>\n",
       "      <td>2013</td>\n",
       "      <td>Leaf</td>\n",
       "      <td>front</td>\n",
       "    </tr>\n",
       "    <tr>\n",
       "      <th>31</th>\n",
       "      <td>Nissan</td>\n",
       "      <td>17300.00</td>\n",
       "      <td>hatch</td>\n",
       "      <td>24</td>\n",
       "      <td>nan</td>\n",
       "      <td>Other</td>\n",
       "      <td>yes</td>\n",
       "      <td>2013</td>\n",
       "      <td>Leaf</td>\n",
       "      <td>front</td>\n",
       "    </tr>\n",
       "    <tr>\n",
       "      <th>41</th>\n",
       "      <td>Nissan</td>\n",
       "      <td>13275.00</td>\n",
       "      <td>hatch</td>\n",
       "      <td>12</td>\n",
       "      <td>nan</td>\n",
       "      <td>Other</td>\n",
       "      <td>yes</td>\n",
       "      <td>2013</td>\n",
       "      <td>Leaf</td>\n",
       "      <td>front</td>\n",
       "    </tr>\n",
       "    <tr>\n",
       "      <th>56</th>\n",
       "      <td>Nissan</td>\n",
       "      <td>17000.00</td>\n",
       "      <td>hatch</td>\n",
       "      <td>38</td>\n",
       "      <td>nan</td>\n",
       "      <td>Other</td>\n",
       "      <td>yes</td>\n",
       "      <td>2013</td>\n",
       "      <td>Leaf</td>\n",
       "      <td>front</td>\n",
       "    </tr>\n",
       "    <tr>\n",
       "      <th>247</th>\n",
       "      <td>Nissan</td>\n",
       "      <td>17500.00</td>\n",
       "      <td>hatch</td>\n",
       "      <td>62</td>\n",
       "      <td>nan</td>\n",
       "      <td>Other</td>\n",
       "      <td>yes</td>\n",
       "      <td>2013</td>\n",
       "      <td>Leaf</td>\n",
       "      <td>front</td>\n",
       "    </tr>\n",
       "    <tr>\n",
       "      <th>259</th>\n",
       "      <td>Nissan</td>\n",
       "      <td>16500.00</td>\n",
       "      <td>hatch</td>\n",
       "      <td>32</td>\n",
       "      <td>nan</td>\n",
       "      <td>Other</td>\n",
       "      <td>yes</td>\n",
       "      <td>2013</td>\n",
       "      <td>Leaf</td>\n",
       "      <td>front</td>\n",
       "    </tr>\n",
       "    <tr>\n",
       "      <th>339</th>\n",
       "      <td>Nissan</td>\n",
       "      <td>14999.00</td>\n",
       "      <td>hatch</td>\n",
       "      <td>31</td>\n",
       "      <td>1.00</td>\n",
       "      <td>Other</td>\n",
       "      <td>yes</td>\n",
       "      <td>2013</td>\n",
       "      <td>Leaf</td>\n",
       "      <td>front</td>\n",
       "    </tr>\n",
       "    <tr>\n",
       "      <th>403</th>\n",
       "      <td>Nissan</td>\n",
       "      <td>15700.00</td>\n",
       "      <td>hatch</td>\n",
       "      <td>22</td>\n",
       "      <td>0.11</td>\n",
       "      <td>Other</td>\n",
       "      <td>yes</td>\n",
       "      <td>2013</td>\n",
       "      <td>Leaf</td>\n",
       "      <td>front</td>\n",
       "    </tr>\n",
       "    <tr>\n",
       "      <th>553</th>\n",
       "      <td>Nissan</td>\n",
       "      <td>18000.00</td>\n",
       "      <td>hatch</td>\n",
       "      <td>45</td>\n",
       "      <td>nan</td>\n",
       "      <td>Other</td>\n",
       "      <td>yes</td>\n",
       "      <td>2013</td>\n",
       "      <td>Leaf</td>\n",
       "      <td>front</td>\n",
       "    </tr>\n",
       "    <tr>\n",
       "      <th>663</th>\n",
       "      <td>Nissan</td>\n",
       "      <td>14673.00</td>\n",
       "      <td>hatch</td>\n",
       "      <td>34</td>\n",
       "      <td>nan</td>\n",
       "      <td>Other</td>\n",
       "      <td>yes</td>\n",
       "      <td>2013</td>\n",
       "      <td>Leaf</td>\n",
       "      <td>front</td>\n",
       "    </tr>\n",
       "    <tr>\n",
       "      <th>676</th>\n",
       "      <td>Nissan</td>\n",
       "      <td>14246.00</td>\n",
       "      <td>hatch</td>\n",
       "      <td>42</td>\n",
       "      <td>nan</td>\n",
       "      <td>Other</td>\n",
       "      <td>yes</td>\n",
       "      <td>2013</td>\n",
       "      <td>Leaf</td>\n",
       "      <td>front</td>\n",
       "    </tr>\n",
       "    <tr>\n",
       "      <th>708</th>\n",
       "      <td>Nissan</td>\n",
       "      <td>15658.00</td>\n",
       "      <td>hatch</td>\n",
       "      <td>49</td>\n",
       "      <td>nan</td>\n",
       "      <td>Other</td>\n",
       "      <td>yes</td>\n",
       "      <td>2013</td>\n",
       "      <td>Leaf</td>\n",
       "      <td>front</td>\n",
       "    </tr>\n",
       "    <tr>\n",
       "      <th>733</th>\n",
       "      <td>Nissan</td>\n",
       "      <td>15444.00</td>\n",
       "      <td>hatch</td>\n",
       "      <td>61</td>\n",
       "      <td>nan</td>\n",
       "      <td>Other</td>\n",
       "      <td>yes</td>\n",
       "      <td>2013</td>\n",
       "      <td>Leaf</td>\n",
       "      <td>front</td>\n",
       "    </tr>\n",
       "    <tr>\n",
       "      <th>765</th>\n",
       "      <td>Nissan</td>\n",
       "      <td>16238.00</td>\n",
       "      <td>hatch</td>\n",
       "      <td>27</td>\n",
       "      <td>nan</td>\n",
       "      <td>Other</td>\n",
       "      <td>yes</td>\n",
       "      <td>2013</td>\n",
       "      <td>Leaf</td>\n",
       "      <td>front</td>\n",
       "    </tr>\n",
       "    <tr>\n",
       "      <th>1242</th>\n",
       "      <td>Nissan</td>\n",
       "      <td>18999.00</td>\n",
       "      <td>hatch</td>\n",
       "      <td>8</td>\n",
       "      <td>nan</td>\n",
       "      <td>Other</td>\n",
       "      <td>yes</td>\n",
       "      <td>2013</td>\n",
       "      <td>Leaf</td>\n",
       "      <td>front</td>\n",
       "    </tr>\n",
       "    <tr>\n",
       "      <th>1537</th>\n",
       "      <td>Nissan</td>\n",
       "      <td>16699.00</td>\n",
       "      <td>hatch</td>\n",
       "      <td>24</td>\n",
       "      <td>nan</td>\n",
       "      <td>Other</td>\n",
       "      <td>yes</td>\n",
       "      <td>2013</td>\n",
       "      <td>Leaf</td>\n",
       "      <td>front</td>\n",
       "    </tr>\n",
       "    <tr>\n",
       "      <th>4285</th>\n",
       "      <td>Nissan</td>\n",
       "      <td>14300.00</td>\n",
       "      <td>hatch</td>\n",
       "      <td>68</td>\n",
       "      <td>nan</td>\n",
       "      <td>Other</td>\n",
       "      <td>yes</td>\n",
       "      <td>2013</td>\n",
       "      <td>Leaf</td>\n",
       "      <td>front</td>\n",
       "    </tr>\n",
       "    <tr>\n",
       "      <th>4295</th>\n",
       "      <td>Nissan</td>\n",
       "      <td>17000.00</td>\n",
       "      <td>hatch</td>\n",
       "      <td>22</td>\n",
       "      <td>nan</td>\n",
       "      <td>Other</td>\n",
       "      <td>yes</td>\n",
       "      <td>2013</td>\n",
       "      <td>Leaf</td>\n",
       "      <td>rear</td>\n",
       "    </tr>\n",
       "    <tr>\n",
       "      <th>5693</th>\n",
       "      <td>Nissan</td>\n",
       "      <td>18000.00</td>\n",
       "      <td>hatch</td>\n",
       "      <td>27</td>\n",
       "      <td>nan</td>\n",
       "      <td>Other</td>\n",
       "      <td>yes</td>\n",
       "      <td>2013</td>\n",
       "      <td>Leaf</td>\n",
       "      <td>front</td>\n",
       "    </tr>\n",
       "    <tr>\n",
       "      <th>7163</th>\n",
       "      <td>Nissan</td>\n",
       "      <td>14700.00</td>\n",
       "      <td>hatch</td>\n",
       "      <td>21</td>\n",
       "      <td>nan</td>\n",
       "      <td>Other</td>\n",
       "      <td>yes</td>\n",
       "      <td>2013</td>\n",
       "      <td>Leaf</td>\n",
       "      <td>front</td>\n",
       "    </tr>\n",
       "    <tr>\n",
       "      <th>7824</th>\n",
       "      <td>Nissan</td>\n",
       "      <td>15300.00</td>\n",
       "      <td>hatch</td>\n",
       "      <td>25</td>\n",
       "      <td>nan</td>\n",
       "      <td>Other</td>\n",
       "      <td>yes</td>\n",
       "      <td>2013</td>\n",
       "      <td>Leaf</td>\n",
       "      <td>front</td>\n",
       "    </tr>\n",
       "    <tr>\n",
       "      <th>8873</th>\n",
       "      <td>Nissan</td>\n",
       "      <td>3800.00</td>\n",
       "      <td>hatch</td>\n",
       "      <td>21</td>\n",
       "      <td>nan</td>\n",
       "      <td>Other</td>\n",
       "      <td>no</td>\n",
       "      <td>2013</td>\n",
       "      <td>Leaf</td>\n",
       "      <td>NaN</td>\n",
       "    </tr>\n",
       "    <tr>\n",
       "      <th>9250</th>\n",
       "      <td>Nissan</td>\n",
       "      <td>15700.00</td>\n",
       "      <td>hatch</td>\n",
       "      <td>42</td>\n",
       "      <td>nan</td>\n",
       "      <td>Other</td>\n",
       "      <td>yes</td>\n",
       "      <td>2013</td>\n",
       "      <td>Leaf</td>\n",
       "      <td>front</td>\n",
       "    </tr>\n",
       "    <tr>\n",
       "      <th>9425</th>\n",
       "      <td>Nissan</td>\n",
       "      <td>14999.00</td>\n",
       "      <td>hatch</td>\n",
       "      <td>21</td>\n",
       "      <td>nan</td>\n",
       "      <td>Other</td>\n",
       "      <td>yes</td>\n",
       "      <td>2013</td>\n",
       "      <td>Leaf</td>\n",
       "      <td>front</td>\n",
       "    </tr>\n",
       "  </tbody>\n",
       "</table>\n",
       "</div>"
      ],
      "text/plain": [
       "         car    price   body  mileage  engV engType registration  year model  \\\n",
       "30    Nissan 13980.00  hatch       31   nan   Other          yes  2013  Leaf   \n",
       "31    Nissan 17300.00  hatch       24   nan   Other          yes  2013  Leaf   \n",
       "41    Nissan 13275.00  hatch       12   nan   Other          yes  2013  Leaf   \n",
       "56    Nissan 17000.00  hatch       38   nan   Other          yes  2013  Leaf   \n",
       "247   Nissan 17500.00  hatch       62   nan   Other          yes  2013  Leaf   \n",
       "259   Nissan 16500.00  hatch       32   nan   Other          yes  2013  Leaf   \n",
       "339   Nissan 14999.00  hatch       31  1.00   Other          yes  2013  Leaf   \n",
       "403   Nissan 15700.00  hatch       22  0.11   Other          yes  2013  Leaf   \n",
       "553   Nissan 18000.00  hatch       45   nan   Other          yes  2013  Leaf   \n",
       "663   Nissan 14673.00  hatch       34   nan   Other          yes  2013  Leaf   \n",
       "676   Nissan 14246.00  hatch       42   nan   Other          yes  2013  Leaf   \n",
       "708   Nissan 15658.00  hatch       49   nan   Other          yes  2013  Leaf   \n",
       "733   Nissan 15444.00  hatch       61   nan   Other          yes  2013  Leaf   \n",
       "765   Nissan 16238.00  hatch       27   nan   Other          yes  2013  Leaf   \n",
       "1242  Nissan 18999.00  hatch        8   nan   Other          yes  2013  Leaf   \n",
       "1537  Nissan 16699.00  hatch       24   nan   Other          yes  2013  Leaf   \n",
       "4285  Nissan 14300.00  hatch       68   nan   Other          yes  2013  Leaf   \n",
       "4295  Nissan 17000.00  hatch       22   nan   Other          yes  2013  Leaf   \n",
       "5693  Nissan 18000.00  hatch       27   nan   Other          yes  2013  Leaf   \n",
       "7163  Nissan 14700.00  hatch       21   nan   Other          yes  2013  Leaf   \n",
       "7824  Nissan 15300.00  hatch       25   nan   Other          yes  2013  Leaf   \n",
       "8873  Nissan  3800.00  hatch       21   nan   Other           no  2013  Leaf   \n",
       "9250  Nissan 15700.00  hatch       42   nan   Other          yes  2013  Leaf   \n",
       "9425  Nissan 14999.00  hatch       21   nan   Other          yes  2013  Leaf   \n",
       "\n",
       "      drive  \n",
       "30    front  \n",
       "31    front  \n",
       "41    front  \n",
       "56    front  \n",
       "247   front  \n",
       "259   front  \n",
       "339   front  \n",
       "403   front  \n",
       "553   front  \n",
       "663   front  \n",
       "676   front  \n",
       "708   front  \n",
       "733   front  \n",
       "765   front  \n",
       "1242  front  \n",
       "1537  front  \n",
       "4285  front  \n",
       "4295   rear  \n",
       "5693  front  \n",
       "7163  front  \n",
       "7824  front  \n",
       "8873    NaN  \n",
       "9250  front  \n",
       "9425  front  "
      ]
     },
     "execution_count": 20,
     "metadata": {},
     "output_type": "execute_result"
    }
   ],
   "source": [
    "car_sales_data_df[(car_sales_data_df.car =='Nissan') & (car_sales_data_df.body == 'hatch') & (car_sales_data_df.year == 2013) & (car_sales_data_df.model == 'Leaf')]"
   ]
  },
  {
   "cell_type": "markdown",
   "metadata": {
    "colab_type": "text",
    "id": "D9MIUahFUnIs"
   },
   "source": [
    "- We did the missing value analysis to find if we can fill and substitute the NaN values for **engV** and **drive**.\n",
    "- We came to a conclusion that there is no simmilarity in other parameters to conclude the missing value and substitute.\n",
    "- We have decided to delete the rows with missing values in **engV** and **drive**."
   ]
  },
  {
   "cell_type": "code",
   "execution_count": 21,
   "metadata": {
    "colab": {},
    "colab_type": "code",
    "id": "s-Z4COG2UnIt"
   },
   "outputs": [],
   "source": [
    "car_sales_data_df.dropna(subset = ['engV','drive'], inplace = True)"
   ]
  },
  {
   "cell_type": "code",
   "execution_count": 22,
   "metadata": {
    "colab": {
     "base_uri": "https://localhost:8080/",
     "height": 168
    },
    "colab_type": "code",
    "id": "K5NjlvHRUnIw",
    "outputId": "15d78d5f-ff4e-42ac-cff9-9311a6f874ec"
   },
   "outputs": [
    {
     "data": {
      "text/plain": [
       "car             0\n",
       "price           0\n",
       "body            0\n",
       "mileage         0\n",
       "engV            0\n",
       "engType         0\n",
       "registration    0\n",
       "year            0\n",
       "model           0\n",
       "drive           0\n",
       "dtype: int64"
      ]
     },
     "execution_count": 22,
     "metadata": {},
     "output_type": "execute_result"
    }
   ],
   "source": [
    "car_sales_data_df.isnull().sum()"
   ]
  },
  {
   "cell_type": "code",
   "execution_count": 23,
   "metadata": {
    "colab": {
     "base_uri": "https://localhost:8080/",
     "height": 195
    },
    "colab_type": "code",
    "id": "D0AhM9huUnI1",
    "outputId": "bcc63c0d-48b9-4270-88ca-bb41e0930290",
    "scrolled": true
   },
   "outputs": [
    {
     "data": {
      "text/html": [
       "<div>\n",
       "<style scoped>\n",
       "    .dataframe tbody tr th:only-of-type {\n",
       "        vertical-align: middle;\n",
       "    }\n",
       "\n",
       "    .dataframe tbody tr th {\n",
       "        vertical-align: top;\n",
       "    }\n",
       "\n",
       "    .dataframe thead th {\n",
       "        text-align: right;\n",
       "    }\n",
       "</style>\n",
       "<table border=\"1\" class=\"dataframe\">\n",
       "  <thead>\n",
       "    <tr style=\"text-align: right;\">\n",
       "      <th></th>\n",
       "      <th>price</th>\n",
       "      <th>mileage</th>\n",
       "      <th>engV</th>\n",
       "      <th>year</th>\n",
       "    </tr>\n",
       "  </thead>\n",
       "  <tbody>\n",
       "    <tr>\n",
       "      <th>count</th>\n",
       "      <td>8739.00</td>\n",
       "      <td>8739.00</td>\n",
       "      <td>8739.00</td>\n",
       "      <td>8739.00</td>\n",
       "    </tr>\n",
       "    <tr>\n",
       "      <th>mean</th>\n",
       "      <td>15733.54</td>\n",
       "      <td>140.10</td>\n",
       "      <td>2.59</td>\n",
       "      <td>2006.61</td>\n",
       "    </tr>\n",
       "    <tr>\n",
       "      <th>std</th>\n",
       "      <td>24252.90</td>\n",
       "      <td>97.89</td>\n",
       "      <td>5.42</td>\n",
       "      <td>6.97</td>\n",
       "    </tr>\n",
       "    <tr>\n",
       "      <th>min</th>\n",
       "      <td>0.00</td>\n",
       "      <td>0.00</td>\n",
       "      <td>0.10</td>\n",
       "      <td>1959.00</td>\n",
       "    </tr>\n",
       "    <tr>\n",
       "      <th>25%</th>\n",
       "      <td>5000.00</td>\n",
       "      <td>71.00</td>\n",
       "      <td>1.60</td>\n",
       "      <td>2004.00</td>\n",
       "    </tr>\n",
       "    <tr>\n",
       "      <th>50%</th>\n",
       "      <td>9250.00</td>\n",
       "      <td>130.00</td>\n",
       "      <td>2.00</td>\n",
       "      <td>2008.00</td>\n",
       "    </tr>\n",
       "    <tr>\n",
       "      <th>75%</th>\n",
       "      <td>16800.00</td>\n",
       "      <td>195.50</td>\n",
       "      <td>2.50</td>\n",
       "      <td>2012.00</td>\n",
       "    </tr>\n",
       "    <tr>\n",
       "      <th>max</th>\n",
       "      <td>547800.00</td>\n",
       "      <td>999.00</td>\n",
       "      <td>99.99</td>\n",
       "      <td>2016.00</td>\n",
       "    </tr>\n",
       "  </tbody>\n",
       "</table>\n",
       "</div>"
      ],
      "text/plain": [
       "          price  mileage    engV    year\n",
       "count   8739.00  8739.00 8739.00 8739.00\n",
       "mean   15733.54   140.10    2.59 2006.61\n",
       "std    24252.90    97.89    5.42    6.97\n",
       "min        0.00     0.00    0.10 1959.00\n",
       "25%     5000.00    71.00    1.60 2004.00\n",
       "50%     9250.00   130.00    2.00 2008.00\n",
       "75%    16800.00   195.50    2.50 2012.00\n",
       "max   547800.00   999.00   99.99 2016.00"
      ]
     },
     "execution_count": 23,
     "metadata": {},
     "output_type": "execute_result"
    }
   ],
   "source": [
    "car_sales_data_df.describe()"
   ]
  },
  {
   "cell_type": "code",
   "execution_count": 24,
   "metadata": {
    "colab": {
     "base_uri": "https://localhost:8080/",
     "height": 1000
    },
    "colab_type": "code",
    "id": "oMnGTuDZoCV7",
    "outputId": "70e52dfe-3f7b-4f75-8a14-a0e6838609cb"
   },
   "outputs": [
    {
     "data": {
      "text/html": [
       "<div>\n",
       "<style scoped>\n",
       "    .dataframe tbody tr th:only-of-type {\n",
       "        vertical-align: middle;\n",
       "    }\n",
       "\n",
       "    .dataframe tbody tr th {\n",
       "        vertical-align: top;\n",
       "    }\n",
       "\n",
       "    .dataframe thead th {\n",
       "        text-align: right;\n",
       "    }\n",
       "</style>\n",
       "<table border=\"1\" class=\"dataframe\">\n",
       "  <thead>\n",
       "    <tr style=\"text-align: right;\">\n",
       "      <th></th>\n",
       "      <th>car</th>\n",
       "      <th>price</th>\n",
       "      <th>body</th>\n",
       "      <th>mileage</th>\n",
       "      <th>engV</th>\n",
       "      <th>engType</th>\n",
       "      <th>registration</th>\n",
       "      <th>year</th>\n",
       "      <th>model</th>\n",
       "      <th>drive</th>\n",
       "    </tr>\n",
       "  </thead>\n",
       "  <tbody>\n",
       "    <tr>\n",
       "      <th>0</th>\n",
       "      <td>Ford</td>\n",
       "      <td>15500.00</td>\n",
       "      <td>crossover</td>\n",
       "      <td>68</td>\n",
       "      <td>2.50</td>\n",
       "      <td>Gas</td>\n",
       "      <td>yes</td>\n",
       "      <td>2010</td>\n",
       "      <td>Kuga</td>\n",
       "      <td>full</td>\n",
       "    </tr>\n",
       "    <tr>\n",
       "      <th>1</th>\n",
       "      <td>Mercedes-Benz</td>\n",
       "      <td>20500.00</td>\n",
       "      <td>sedan</td>\n",
       "      <td>173</td>\n",
       "      <td>1.80</td>\n",
       "      <td>Gas</td>\n",
       "      <td>yes</td>\n",
       "      <td>2011</td>\n",
       "      <td>E-Class</td>\n",
       "      <td>rear</td>\n",
       "    </tr>\n",
       "    <tr>\n",
       "      <th>2</th>\n",
       "      <td>Mercedes-Benz</td>\n",
       "      <td>35000.00</td>\n",
       "      <td>other</td>\n",
       "      <td>135</td>\n",
       "      <td>5.50</td>\n",
       "      <td>Petrol</td>\n",
       "      <td>yes</td>\n",
       "      <td>2008</td>\n",
       "      <td>CL 550</td>\n",
       "      <td>rear</td>\n",
       "    </tr>\n",
       "    <tr>\n",
       "      <th>3</th>\n",
       "      <td>Mercedes-Benz</td>\n",
       "      <td>17800.00</td>\n",
       "      <td>van</td>\n",
       "      <td>162</td>\n",
       "      <td>1.80</td>\n",
       "      <td>Diesel</td>\n",
       "      <td>yes</td>\n",
       "      <td>2012</td>\n",
       "      <td>B 180</td>\n",
       "      <td>front</td>\n",
       "    </tr>\n",
       "    <tr>\n",
       "      <th>5</th>\n",
       "      <td>Nissan</td>\n",
       "      <td>16600.00</td>\n",
       "      <td>crossover</td>\n",
       "      <td>83</td>\n",
       "      <td>2.00</td>\n",
       "      <td>Petrol</td>\n",
       "      <td>yes</td>\n",
       "      <td>2013</td>\n",
       "      <td>X-Trail</td>\n",
       "      <td>full</td>\n",
       "    </tr>\n",
       "    <tr>\n",
       "      <th>...</th>\n",
       "      <td>...</td>\n",
       "      <td>...</td>\n",
       "      <td>...</td>\n",
       "      <td>...</td>\n",
       "      <td>...</td>\n",
       "      <td>...</td>\n",
       "      <td>...</td>\n",
       "      <td>...</td>\n",
       "      <td>...</td>\n",
       "      <td>...</td>\n",
       "    </tr>\n",
       "    <tr>\n",
       "      <th>9571</th>\n",
       "      <td>Hyundai</td>\n",
       "      <td>14500.00</td>\n",
       "      <td>crossover</td>\n",
       "      <td>140</td>\n",
       "      <td>2.00</td>\n",
       "      <td>Gas</td>\n",
       "      <td>yes</td>\n",
       "      <td>2011</td>\n",
       "      <td>Tucson</td>\n",
       "      <td>front</td>\n",
       "    </tr>\n",
       "    <tr>\n",
       "      <th>9572</th>\n",
       "      <td>Volkswagen</td>\n",
       "      <td>2200.00</td>\n",
       "      <td>vagon</td>\n",
       "      <td>150</td>\n",
       "      <td>1.60</td>\n",
       "      <td>Petrol</td>\n",
       "      <td>yes</td>\n",
       "      <td>1986</td>\n",
       "      <td>Passat B2</td>\n",
       "      <td>front</td>\n",
       "    </tr>\n",
       "    <tr>\n",
       "      <th>9573</th>\n",
       "      <td>Mercedes-Benz</td>\n",
       "      <td>18500.00</td>\n",
       "      <td>crossover</td>\n",
       "      <td>180</td>\n",
       "      <td>3.50</td>\n",
       "      <td>Petrol</td>\n",
       "      <td>yes</td>\n",
       "      <td>2008</td>\n",
       "      <td>ML 350</td>\n",
       "      <td>full</td>\n",
       "    </tr>\n",
       "    <tr>\n",
       "      <th>9574</th>\n",
       "      <td>Lexus</td>\n",
       "      <td>16999.00</td>\n",
       "      <td>sedan</td>\n",
       "      <td>150</td>\n",
       "      <td>3.50</td>\n",
       "      <td>Gas</td>\n",
       "      <td>yes</td>\n",
       "      <td>2008</td>\n",
       "      <td>ES 350</td>\n",
       "      <td>front</td>\n",
       "    </tr>\n",
       "    <tr>\n",
       "      <th>9575</th>\n",
       "      <td>Audi</td>\n",
       "      <td>22500.00</td>\n",
       "      <td>other</td>\n",
       "      <td>71</td>\n",
       "      <td>3.60</td>\n",
       "      <td>Petrol</td>\n",
       "      <td>yes</td>\n",
       "      <td>2007</td>\n",
       "      <td>Q7</td>\n",
       "      <td>full</td>\n",
       "    </tr>\n",
       "  </tbody>\n",
       "</table>\n",
       "<p>8213 rows × 10 columns</p>\n",
       "</div>"
      ],
      "text/plain": [
       "                car    price       body  mileage  engV engType registration  \\\n",
       "0              Ford 15500.00  crossover       68  2.50     Gas          yes   \n",
       "1     Mercedes-Benz 20500.00      sedan      173  1.80     Gas          yes   \n",
       "2     Mercedes-Benz 35000.00      other      135  5.50  Petrol          yes   \n",
       "3     Mercedes-Benz 17800.00        van      162  1.80  Diesel          yes   \n",
       "5            Nissan 16600.00  crossover       83  2.00  Petrol          yes   \n",
       "...             ...      ...        ...      ...   ...     ...          ...   \n",
       "9571        Hyundai 14500.00  crossover      140  2.00     Gas          yes   \n",
       "9572     Volkswagen  2200.00      vagon      150  1.60  Petrol          yes   \n",
       "9573  Mercedes-Benz 18500.00  crossover      180  3.50  Petrol          yes   \n",
       "9574          Lexus 16999.00      sedan      150  3.50     Gas          yes   \n",
       "9575           Audi 22500.00      other       71  3.60  Petrol          yes   \n",
       "\n",
       "      year      model  drive  \n",
       "0     2010       Kuga   full  \n",
       "1     2011    E-Class   rear  \n",
       "2     2008     CL 550   rear  \n",
       "3     2012      B 180  front  \n",
       "5     2013    X-Trail   full  \n",
       "...    ...        ...    ...  \n",
       "9571  2011     Tucson  front  \n",
       "9572  1986  Passat B2  front  \n",
       "9573  2008     ML 350   full  \n",
       "9574  2008     ES 350  front  \n",
       "9575  2007         Q7   full  \n",
       "\n",
       "[8213 rows x 10 columns]"
      ]
     },
     "execution_count": 24,
     "metadata": {},
     "output_type": "execute_result"
    }
   ],
   "source": [
    "df1= car_sales_data_df[(car_sales_data_df != 0).all(1)]\n",
    "df1"
   ]
  },
  {
   "cell_type": "markdown",
   "metadata": {},
   "source": [
    "- I have dropped the rows where **price** and **mileage** is 0.\n",
    "- My assumption is that **price** and **mileage** are important attributes to find corelation between other variables. Also substituting them with mean or mode doesn't make sense as the data is pertaining to combination of multiple attributes."
   ]
  },
  {
   "cell_type": "code",
   "execution_count": 25,
   "metadata": {
    "colab": {
     "base_uri": "https://localhost:8080/",
     "height": 1000
    },
    "colab_type": "code",
    "id": "9ifh-eTIoKNc",
    "outputId": "989a027b-9ef0-4858-bf85-77910e5fd6df"
   },
   "outputs": [
    {
     "data": {
      "text/html": [
       "<div>\n",
       "<style scoped>\n",
       "    .dataframe tbody tr th:only-of-type {\n",
       "        vertical-align: middle;\n",
       "    }\n",
       "\n",
       "    .dataframe tbody tr th {\n",
       "        vertical-align: top;\n",
       "    }\n",
       "\n",
       "    .dataframe thead th {\n",
       "        text-align: right;\n",
       "    }\n",
       "</style>\n",
       "<table border=\"1\" class=\"dataframe\">\n",
       "  <thead>\n",
       "    <tr style=\"text-align: right;\">\n",
       "      <th></th>\n",
       "      <th>price</th>\n",
       "      <th>mileage</th>\n",
       "      <th>engV</th>\n",
       "      <th>year</th>\n",
       "    </tr>\n",
       "  </thead>\n",
       "  <tbody>\n",
       "    <tr>\n",
       "      <th>count</th>\n",
       "      <td>8213.00</td>\n",
       "      <td>8213.00</td>\n",
       "      <td>8213.00</td>\n",
       "      <td>8213.00</td>\n",
       "    </tr>\n",
       "    <tr>\n",
       "      <th>mean</th>\n",
       "      <td>14491.71</td>\n",
       "      <td>146.61</td>\n",
       "      <td>2.56</td>\n",
       "      <td>2006.18</td>\n",
       "    </tr>\n",
       "    <tr>\n",
       "      <th>std</th>\n",
       "      <td>18664.01</td>\n",
       "      <td>95.46</td>\n",
       "      <td>5.37</td>\n",
       "      <td>6.82</td>\n",
       "    </tr>\n",
       "    <tr>\n",
       "      <th>min</th>\n",
       "      <td>259.35</td>\n",
       "      <td>1.00</td>\n",
       "      <td>0.10</td>\n",
       "      <td>1959.00</td>\n",
       "    </tr>\n",
       "    <tr>\n",
       "      <th>25%</th>\n",
       "      <td>5300.00</td>\n",
       "      <td>80.00</td>\n",
       "      <td>1.60</td>\n",
       "      <td>2004.00</td>\n",
       "    </tr>\n",
       "    <tr>\n",
       "      <th>50%</th>\n",
       "      <td>9200.00</td>\n",
       "      <td>134.00</td>\n",
       "      <td>2.00</td>\n",
       "      <td>2008.00</td>\n",
       "    </tr>\n",
       "    <tr>\n",
       "      <th>75%</th>\n",
       "      <td>16000.00</td>\n",
       "      <td>200.00</td>\n",
       "      <td>2.50</td>\n",
       "      <td>2011.00</td>\n",
       "    </tr>\n",
       "    <tr>\n",
       "      <th>max</th>\n",
       "      <td>300000.00</td>\n",
       "      <td>999.00</td>\n",
       "      <td>99.99</td>\n",
       "      <td>2016.00</td>\n",
       "    </tr>\n",
       "  </tbody>\n",
       "</table>\n",
       "</div>"
      ],
      "text/plain": [
       "          price  mileage    engV    year\n",
       "count   8213.00  8213.00 8213.00 8213.00\n",
       "mean   14491.71   146.61    2.56 2006.18\n",
       "std    18664.01    95.46    5.37    6.82\n",
       "min      259.35     1.00    0.10 1959.00\n",
       "25%     5300.00    80.00    1.60 2004.00\n",
       "50%     9200.00   134.00    2.00 2008.00\n",
       "75%    16000.00   200.00    2.50 2011.00\n",
       "max   300000.00   999.00   99.99 2016.00"
      ]
     },
     "execution_count": 25,
     "metadata": {},
     "output_type": "execute_result"
    }
   ],
   "source": [
    "df1.describe()"
   ]
  },
  {
   "cell_type": "markdown",
   "metadata": {
    "colab_type": "text",
    "id": "kUpvhIxzUnJI"
   },
   "source": [
    "- Now, the data is clean and we don't have any missing values in the dataset to deal with."
   ]
  },
  {
   "cell_type": "markdown",
   "metadata": {
    "colab_type": "text",
    "id": "m1tQU26RUnJI"
   },
   "source": [
    "<a id=section503></a>\n",
    "## 5.3 Pandas Profiling after Data Preprocessing\n",
    "\n",
    "- Now we will perform **Pandas Profiling after Preprocessing** our dataset, and save the **output file** as __profiling_after_preprocessing.html__."
   ]
  },
  {
   "cell_type": "code",
   "execution_count": 19,
   "metadata": {
    "colab": {
     "base_uri": "https://localhost:8080/",
     "height": 212,
     "referenced_widgets": [
      "2ad8b3906b1044ab859802a4caf190ea",
      "9efa4dbe466040949d495ad42a73b673",
      "7273183e41ba441ea128e67da6879d68",
      "13f73a7ea1a146e48b9f5305e3f84d8b",
      "c68fa4f34c05474d94f1c13a95e11706",
      "a7917f8e65f349f68f7d0ad70d31f762",
      "c0dbda69d9154d4787dd34abad5b259a",
      "064f060afadd4729833f5f6e55cd75a8",
      "2512f2dfd33b4dc1b80930b7ef3e07fe",
      "e8ce7a6c00474e9983b3723c53ce4089",
      "9d0723f815504750ae320bd653fa3b20",
      "3af3f786606e46e69ce48c9ab5832008",
      "5e876ad647944a6b835c7143b39360a7",
      "423c28de153647afa62e86a7461b5a0c",
      "656332637e45431bad89a4e90bae18e3",
      "2dcfe74fcba4427399155dda6f108b69",
      "0b391ff390c640c8b8c17331bca9cdf9",
      "c801c9c7939d4cf28bf4b114b521b2ec",
      "99a80d000c3d46b7adb56cf854a31458",
      "f84f6272ffe64a139eeec94819b10397",
      "89fed1f204e04f66b916447f31d86d73",
      "a33c082180534778ab1d8b69b8503755",
      "c37665785858446cb2931e2c4a7c2cf5",
      "2c2a900b5af54e1c8e7d411a025f1607",
      "b46587a5792c4c3c9903f483ea8f48fd",
      "2c46e6d8c05e4599865061b61fed8e42",
      "a529ea41ed844739aec089d9fef52640",
      "a27839c4491345eaaa1c82fe728288d8",
      "d7305bbceb194452bf1fd37e48f0b5c4",
      "246a4528527e4aa1b33f2b2d933b1f29",
      "dfdd679c876f424d93f2eae55b5807dc",
      "4d12b898221e4569ad95b133f529218a"
     ]
    },
    "colab_type": "code",
    "id": "RrKohDwrW2_N",
    "outputId": "37b45178-0531-4dd5-87f4-a34d220f6cc7"
   },
   "outputs": [
    {
     "data": {
      "application/vnd.jupyter.widget-view+json": {
       "model_id": "b505fd267b7a4491b941fb5496a03529",
       "version_major": 2,
       "version_minor": 0
      },
      "text/plain": [
       "HBox(children=(FloatProgress(value=0.0, description='Summarize dataset', max=25.0, style=ProgressStyle(descrip…"
      ]
     },
     "metadata": {},
     "output_type": "display_data"
    },
    {
     "name": "stdout",
     "output_type": "stream",
     "text": [
      "\n"
     ]
    },
    {
     "data": {
      "application/vnd.jupyter.widget-view+json": {
       "model_id": "2e8dc42d8eae4645b362e39aefed5d08",
       "version_major": 2,
       "version_minor": 0
      },
      "text/plain": [
       "HBox(children=(FloatProgress(value=0.0, description='Generate report structure', max=1.0, style=ProgressStyle(…"
      ]
     },
     "metadata": {},
     "output_type": "display_data"
    },
    {
     "name": "stdout",
     "output_type": "stream",
     "text": [
      "\n"
     ]
    },
    {
     "data": {
      "application/vnd.jupyter.widget-view+json": {
       "model_id": "32f26560f2b74336b073bc3281f485fc",
       "version_major": 2,
       "version_minor": 0
      },
      "text/plain": [
       "HBox(children=(FloatProgress(value=0.0, description='Render HTML', max=1.0, style=ProgressStyle(description_wi…"
      ]
     },
     "metadata": {},
     "output_type": "display_data"
    },
    {
     "name": "stdout",
     "output_type": "stream",
     "text": [
      "\n"
     ]
    },
    {
     "data": {
      "application/vnd.jupyter.widget-view+json": {
       "model_id": "715f5d9d412f48df8ff4ca8b76007dd2",
       "version_major": 2,
       "version_minor": 0
      },
      "text/plain": [
       "HBox(children=(FloatProgress(value=0.0, description='Export report to file', max=1.0, style=ProgressStyle(desc…"
      ]
     },
     "metadata": {},
     "output_type": "display_data"
    },
    {
     "name": "stdout",
     "output_type": "stream",
     "text": [
      "\n"
     ]
    }
   ],
   "source": [
    "# To output pandas profiling report to an external html file.\n",
    "# Saving the output as profiling_after_preprocessing.html\n",
    "\n",
    "profile = pandas_profiling.ProfileReport(df1)\n",
    "profile.to_file(output_file=\"profiling_after_preprocessing.html\")\n",
    "\n",
    "\n",
    "# To output the pandas profiling report on the notebook.\n",
    "\n",
    "# df1.profile_report(title='Pandas Profiling after Data Preprocessing', style={'full_width':True})"
   ]
  },
  {
   "cell_type": "markdown",
   "metadata": {
    "colab_type": "text",
    "id": "57W9dwG0y_sL"
   },
   "source": [
    "After preprocessing the data, the dataset doesnot contain any missing values. So, the pandas profiling report which we have generated after preprocessing will give us more beneficial insights. We can compare the two reports, i.e profiling_after_preprocessing.html and profiling_before_preprocessing.html to gain insights how data pre-processing has performed well.\n",
    "\n",
    "In profiling_after_preprocessing.html report, following are the observations:\n",
    "\n",
    "- Missing Cell(%) = 0.0%\n",
    "- Number of Observations = 8213\n"
   ]
  },
  {
   "cell_type": "markdown",
   "metadata": {
    "colab_type": "text",
    "id": "R1oFY_s6UnJL"
   },
   "source": [
    "<a id=section6></a>\n",
    "# 6. Exploratory Data Analysis\n",
    "\n",
    "**Exploratory Data Analysis(EDA)** is an **approach to analyzing data sets** to **summarize** their **main characteristics**, often with **visual methods**. \n",
    "\n",
    "\n",
    "- It includes **cleaning, wragling, combining, reshaping, slicing, dicing, and transforming data** for **analysis** purpose.\n",
    "\n",
    "\n",
    "- The **primary goal of EDA** is to **maximize the analyst's insight into a data set** and into the **underlying structure of a data set**, while **providing all of the specific items** that an **analyst would want to extract from a data set**, such as:\n",
    " <br><br> \n",
    "  - A list of **outliers**.<br><br>\n",
    "  \n",
    "  - A **good-fitting, parsimonious model**.  <br><br>\n",
    "  \n",
    "  - **Estimates for parameters**.<br><br>\n",
    "  \n",
    "  - **Uncertainties** for those **estimates**.<br><br>\n",
    "  \n",
    "  - A **ranked list** of **important factors**.<br><br>\n",
    "  \n",
    "  - **Conclusions** as to whether **individual factors are statistically significant**.<br><br>\n",
    "  \n",
    "  - A **sense of robustness of conclusions**.<br><br>\n",
    "  \n",
    "  - **Optimal settings**.<br><br>"
   ]
  },
  {
   "cell_type": "code",
   "execution_count": 20,
   "metadata": {},
   "outputs": [],
   "source": [
    "# Importing the parallel_coordinates from pandas.plotting which will help in plotting the Parallel Coordinates.\n",
    "\n",
    "from pandas.plotting import parallel_coordinates"
   ]
  },
  {
   "cell_type": "code",
   "execution_count": 21,
   "metadata": {},
   "outputs": [
    {
     "name": "stdout",
     "output_type": "stream",
     "text": [
      "Collecting plotly\n",
      "  Downloading plotly-4.11.0-py2.py3-none-any.whl (13.1 MB)\n",
      "Requirement already satisfied, skipping upgrade: six in c:\\users\\nirmal\\anaconda3\\lib\\site-packages (from plotly) (1.15.0)\n",
      "Collecting retrying>=1.3.3\n",
      "  Downloading retrying-1.3.3.tar.gz (10 kB)\n",
      "Building wheels for collected packages: retrying\n",
      "  Building wheel for retrying (setup.py): started\n",
      "  Building wheel for retrying (setup.py): finished with status 'done'\n",
      "  Created wheel for retrying: filename=retrying-1.3.3-py3-none-any.whl size=11434 sha256=d45e532f55003828890e7e6b99e9934e51a03eb20a2981decf5c53acc3f97e0d\n",
      "  Stored in directory: c:\\users\\nirmal\\appdata\\local\\pip\\cache\\wheels\\f9\\8d\\8d\\f6af3f7f9eea3553bc2fe6d53e4b287dad18b06a861ac56ddf\n",
      "Successfully built retrying\n",
      "Installing collected packages: retrying, plotly\n",
      "Successfully installed plotly-4.11.0 retrying-1.3.3\n"
     ]
    }
   ],
   "source": [
    "# Install and update plotly using this command to the latest version (higher than version 4.0.0)\n",
    "\n",
    "!pip install plotly --upgrade"
   ]
  },
  {
   "cell_type": "code",
   "execution_count": 22,
   "metadata": {},
   "outputs": [
    {
     "name": "stdout",
     "output_type": "stream",
     "text": [
      "Collecting chart-studio\n",
      "  Downloading chart_studio-1.1.0-py3-none-any.whl (64 kB)\n",
      "Requirement already satisfied: requests in c:\\users\\nirmal\\anaconda3\\lib\\site-packages (from chart-studio) (2.24.0)\n",
      "Requirement already satisfied: six in c:\\users\\nirmal\\anaconda3\\lib\\site-packages (from chart-studio) (1.15.0)\n",
      "Requirement already satisfied: retrying>=1.3.3 in c:\\users\\nirmal\\anaconda3\\lib\\site-packages (from chart-studio) (1.3.3)\n",
      "Requirement already satisfied: plotly in c:\\users\\nirmal\\anaconda3\\lib\\site-packages (from chart-studio) (4.11.0)\n",
      "Requirement already satisfied: idna<3,>=2.5 in c:\\users\\nirmal\\anaconda3\\lib\\site-packages (from requests->chart-studio) (2.10)\n",
      "Requirement already satisfied: chardet<4,>=3.0.2 in c:\\users\\nirmal\\anaconda3\\lib\\site-packages (from requests->chart-studio) (3.0.4)\n",
      "Requirement already satisfied: urllib3!=1.25.0,!=1.25.1,<1.26,>=1.21.1 in c:\\users\\nirmal\\anaconda3\\lib\\site-packages (from requests->chart-studio) (1.25.10)\n",
      "Requirement already satisfied: certifi>=2017.4.17 in c:\\users\\nirmal\\anaconda3\\lib\\site-packages (from requests->chart-studio) (2020.6.20)\n",
      "Installing collected packages: chart-studio\n",
      "Successfully installed chart-studio-1.1.0\n"
     ]
    }
   ],
   "source": [
    "# Install chart_studio, please use this command. \n",
    "\n",
    "!pip install chart-studio"
   ]
  },
  {
   "cell_type": "markdown",
   "metadata": {
    "colab_type": "text",
    "id": "ti-YtlvjUnJM"
   },
   "source": [
    "<a id=section601></a>\n",
    "## 6.1 Car Sales by Brand\n",
    "\n",
    "We have identified the Top 20 brands being preferred by customers."
   ]
  },
  {
   "cell_type": "code",
   "execution_count": 61,
   "metadata": {
    "colab": {
     "base_uri": "https://localhost:8080/",
     "height": 34
    },
    "colab_type": "code",
    "id": "HtsiFh3XUnJV",
    "outputId": "f8e97029-5066-490b-e82b-4b51132e2e15"
   },
   "outputs": [
    {
     "data": {
      "image/png": "[encoded data removed]",
      "text/plain": [
       "<Figure size 1440x504 with 1 Axes>"
      ]
     },
     "metadata": {},
     "output_type": "display_data"
    }
   ],
   "source": [
    "# brand wise new car sales\n",
    "\n",
    "df1['car'].value_counts().sort_values(ascending = False)[:10].plot.bar(figsize=(20,7), colormap='Dark2', fontsize=13, yticks=np.arange(0, 1000, 100))\n",
    "plt.xlabel('Brand')\n",
    "plt.ylabel('Number of Cars')\n",
    "plt.title('Car Sales by Brand')\n",
    "plt.savefig('sales_by_brand.png')"
   ]
  },
  {
   "cell_type": "markdown",
   "metadata": {},
   "source": [
    "- Volswagen, Mercedes-Benz and BMW are the top-3 brands being preferred by customers"
   ]
  },
  {
   "cell_type": "markdown",
   "metadata": {
    "colab_type": "text",
    "id": "vUFO9iGwUnJY"
   },
   "source": [
    "<a id=section602></a>\n",
    "## 6.2  Car Sales by Model\n",
    "\n",
    "This shows the most preferred models by customers.\n"
   ]
  },
  {
   "cell_type": "code",
   "execution_count": 58,
   "metadata": {
    "colab": {
     "base_uri": "https://localhost:8080/",
     "height": 47
    },
    "colab_type": "code",
    "id": "uVzqPVnVUnJh",
    "outputId": "1c6bc94e-2f31-4bb4-b50c-2c4e9c181b69"
   },
   "outputs": [
    {
     "data": {
      "image/png": "[encoded data removed]",
      "text/plain": [
       "<Figure size 1440x504 with 1 Axes>"
      ]
     },
     "metadata": {},
     "output_type": "display_data"
    }
   ],
   "source": [
    "# Model wise car sales\n",
    "\n",
    "df1['model'].value_counts().sort_values(ascending = False)[:10].plot.bar(figsize=(20,7), colormap='winter', fontsize=13, yticks=np.arange(0, 200, 10))\n",
    "plt.xlabel('Model')\n",
    "plt.ylabel('Sales')\n",
    "plt.title('Car sales by model')\n",
    "plt.savefig('sales_by_model.png')"
   ]
  },
  {
   "cell_type": "markdown",
   "metadata": {},
   "source": [
    "- E-class (Mercedes-Benz), A6 (Audi) and Camry (Toyota) are the most selling models of the respective brand being preferred by customers. "
   ]
  },
  {
   "cell_type": "markdown",
   "metadata": {
    "colab_type": "text",
    "id": "1vu6B7BAUnJk"
   },
   "source": [
    "<a id=section603></a>\n",
    "## 6.3 Sales by Body Type"
   ]
  },
  {
   "cell_type": "code",
   "execution_count": 96,
   "metadata": {},
   "outputs": [
    {
     "data": {
      "text/plain": [
       "<AxesSubplot:ylabel='body'>"
      ]
     },
     "execution_count": 96,
     "metadata": {},
     "output_type": "execute_result"
    },
    {
     "data": {
      "image/png": "[encoded data removed]",
      "text/plain": [
       "<Figure size 720x720 with 1 Axes>"
      ]
     },
     "metadata": {},
     "output_type": "display_data"
    }
   ],
   "source": [
    "df1['body'].value_counts().plot(kind='pie', fontsize=20, autopct='%3.1f%%', shadow=True, startangle=150, figsize=(10,10), legend=True)"
   ]
  },
  {
   "cell_type": "code",
   "execution_count": 61,
   "metadata": {
    "colab": {
     "base_uri": "https://localhost:8080/",
     "height": 34
    },
    "colab_type": "code",
    "id": "aPJjNNxFUnJk",
    "outputId": "2e052e9b-58e2-4e01-8fff-30694019f749"
   },
   "outputs": [
    {
     "data": {
      "text/plain": [
       "Text(0.5, 1.0, 'Sales by Body type')"
      ]
     },
     "execution_count": 61,
     "metadata": {},
     "output_type": "execute_result"
    },
    {
     "data": {
      "image/png": "[encoded data removed]",
      "text/plain": [
       "<Figure size 1440x504 with 1 Axes>"
      ]
     },
     "metadata": {},
     "output_type": "display_data"
    }
   ],
   "source": [
    "fig,ax = plt.subplots(figsize=(20,7))\n",
    "df1.groupby(['year','body']).count()['car'].unstack().plot(ax=ax)\n",
    "ax.set_xlabel('Year')\n",
    "ax.set_ylabel('Sales')\n",
    "ax.set_title('Sales by Body type')\n"
   ]
  },
  {
   "cell_type": "markdown",
   "metadata": {
    "colab_type": "text",
    "id": "sMURYrPHUnJq"
   },
   "source": [
    "- Sedan has been the top choice of customers followed by crossover\n",
    "- In the past few years the trend of Crossover is catching up with sales more than the sedan in the recent year \n",
    "- Hatch and Van are the next popular choice"
   ]
  },
  {
   "cell_type": "markdown",
   "metadata": {
    "colab_type": "text",
    "id": "eC62rxCrUnJr"
   },
   "source": [
    "<a id=section604></a>\n",
    "## 6.4 Body Type vs Mileage"
   ]
  },
  {
   "cell_type": "code",
   "execution_count": 101,
   "metadata": {},
   "outputs": [
    {
     "data": {
      "text/html": [
       "<div>\n",
       "<style scoped>\n",
       "    .dataframe tbody tr th:only-of-type {\n",
       "        vertical-align: middle;\n",
       "    }\n",
       "\n",
       "    .dataframe tbody tr th {\n",
       "        vertical-align: top;\n",
       "    }\n",
       "\n",
       "    .dataframe thead th {\n",
       "        text-align: right;\n",
       "    }\n",
       "</style>\n",
       "<table border=\"1\" class=\"dataframe\">\n",
       "  <thead>\n",
       "    <tr style=\"text-align: right;\">\n",
       "      <th></th>\n",
       "      <th>body</th>\n",
       "      <th>mileage</th>\n",
       "    </tr>\n",
       "  </thead>\n",
       "  <tbody>\n",
       "    <tr>\n",
       "      <th>0</th>\n",
       "      <td>crossover</td>\n",
       "      <td>113.49</td>\n",
       "    </tr>\n",
       "    <tr>\n",
       "      <th>1</th>\n",
       "      <td>hatch</td>\n",
       "      <td>118.96</td>\n",
       "    </tr>\n",
       "    <tr>\n",
       "      <th>2</th>\n",
       "      <td>other</td>\n",
       "      <td>143.56</td>\n",
       "    </tr>\n",
       "    <tr>\n",
       "      <th>3</th>\n",
       "      <td>sedan</td>\n",
       "      <td>153.79</td>\n",
       "    </tr>\n",
       "    <tr>\n",
       "      <th>4</th>\n",
       "      <td>vagon</td>\n",
       "      <td>179.82</td>\n",
       "    </tr>\n",
       "    <tr>\n",
       "      <th>5</th>\n",
       "      <td>van</td>\n",
       "      <td>193.92</td>\n",
       "    </tr>\n",
       "  </tbody>\n",
       "</table>\n",
       "</div>"
      ],
      "text/plain": [
       "        body  mileage\n",
       "0  crossover   113.49\n",
       "1      hatch   118.96\n",
       "2      other   143.56\n",
       "3      sedan   153.79\n",
       "4      vagon   179.82\n",
       "5        van   193.92"
      ]
     },
     "execution_count": 101,
     "metadata": {},
     "output_type": "execute_result"
    }
   ],
   "source": [
    "df2 = df1.groupby('body')['mileage'].mean().reset_index()\n",
    "df2"
   ]
  },
  {
   "cell_type": "code",
   "execution_count": 100,
   "metadata": {
    "colab": {
     "base_uri": "https://localhost:8080/",
     "height": 225
    },
    "colab_type": "code",
    "id": "8zL1wD3WUnJs",
    "outputId": "fbb34578-d1f1-45dd-c80f-3c7d8a68ca17"
   },
   "outputs": [
    {
     "data": {
      "text/plain": [
       "Text(0.5, 1.0, 'Body vs Mileage')"
      ]
     },
     "execution_count": 100,
     "metadata": {},
     "output_type": "execute_result"
    },
    {
     "data": {
      "image/png": "[encoded data removed]",
      "text/plain": [
       "<Figure size 1080x504 with 1 Axes>"
      ]
     },
     "metadata": {},
     "output_type": "display_data"
    }
   ],
   "source": [
    "plt.figure(figsize=(15,7))\n",
    "sns.barplot(data = df1, x = 'body', y = 'mileage', palette = 'rainbow')\n",
    "\n",
    "plt.title('Body vs Mileage')"
   ]
  },
  {
   "cell_type": "markdown",
   "metadata": {
    "colab_type": "text",
    "id": "xjaoBhPEUnJz"
   },
   "source": [
    " - Best mileage is being offered by van and vagon\n",
    " - Sedan, Crossover and Hatch has lower mileage but still are the top three choice\n",
    " - We can infer mileage has less impact on customer choice in buying decision"
   ]
  },
  {
   "cell_type": "markdown",
   "metadata": {
    "colab_type": "text",
    "id": "6HykniVgUnJ2"
   },
   "source": [
    "<a id=section605></a>\n",
    "## 6.5 Body Type vs Car Fuel Type vs Mileage\n"
   ]
  },
  {
   "cell_type": "code",
   "execution_count": 111,
   "metadata": {
    "colab": {
     "base_uri": "https://localhost:8080/",
     "height": 225
    },
    "colab_type": "code",
    "id": "TFpOq7AxUnJ2",
    "outputId": "a855de9e-8137-4219-9c58-f8719a7afe1c"
   },
   "outputs": [
    {
     "data": {
      "text/html": [
       "<div>\n",
       "<style scoped>\n",
       "    .dataframe tbody tr th:only-of-type {\n",
       "        vertical-align: middle;\n",
       "    }\n",
       "\n",
       "    .dataframe tbody tr th {\n",
       "        vertical-align: top;\n",
       "    }\n",
       "\n",
       "    .dataframe thead th {\n",
       "        text-align: right;\n",
       "    }\n",
       "</style>\n",
       "<table border=\"1\" class=\"dataframe\">\n",
       "  <thead>\n",
       "    <tr style=\"text-align: right;\">\n",
       "      <th></th>\n",
       "      <th>body</th>\n",
       "      <th>engType</th>\n",
       "      <th>mileage</th>\n",
       "    </tr>\n",
       "  </thead>\n",
       "  <tbody>\n",
       "    <tr>\n",
       "      <th>0</th>\n",
       "      <td>crossover</td>\n",
       "      <td>Diesel</td>\n",
       "      <td>112.21</td>\n",
       "    </tr>\n",
       "    <tr>\n",
       "      <th>1</th>\n",
       "      <td>crossover</td>\n",
       "      <td>Gas</td>\n",
       "      <td>142.73</td>\n",
       "    </tr>\n",
       "    <tr>\n",
       "      <th>2</th>\n",
       "      <td>crossover</td>\n",
       "      <td>Other</td>\n",
       "      <td>109.80</td>\n",
       "    </tr>\n",
       "    <tr>\n",
       "      <th>3</th>\n",
       "      <td>crossover</td>\n",
       "      <td>Petrol</td>\n",
       "      <td>98.47</td>\n",
       "    </tr>\n",
       "    <tr>\n",
       "      <th>4</th>\n",
       "      <td>hatch</td>\n",
       "      <td>Diesel</td>\n",
       "      <td>141.66</td>\n",
       "    </tr>\n",
       "    <tr>\n",
       "      <th>5</th>\n",
       "      <td>hatch</td>\n",
       "      <td>Gas</td>\n",
       "      <td>151.49</td>\n",
       "    </tr>\n",
       "    <tr>\n",
       "      <th>6</th>\n",
       "      <td>hatch</td>\n",
       "      <td>Other</td>\n",
       "      <td>93.56</td>\n",
       "    </tr>\n",
       "    <tr>\n",
       "      <th>7</th>\n",
       "      <td>hatch</td>\n",
       "      <td>Petrol</td>\n",
       "      <td>109.11</td>\n",
       "    </tr>\n",
       "    <tr>\n",
       "      <th>8</th>\n",
       "      <td>other</td>\n",
       "      <td>Diesel</td>\n",
       "      <td>186.49</td>\n",
       "    </tr>\n",
       "    <tr>\n",
       "      <th>9</th>\n",
       "      <td>other</td>\n",
       "      <td>Gas</td>\n",
       "      <td>170.95</td>\n",
       "    </tr>\n",
       "    <tr>\n",
       "      <th>10</th>\n",
       "      <td>other</td>\n",
       "      <td>Other</td>\n",
       "      <td>139.04</td>\n",
       "    </tr>\n",
       "    <tr>\n",
       "      <th>11</th>\n",
       "      <td>other</td>\n",
       "      <td>Petrol</td>\n",
       "      <td>107.27</td>\n",
       "    </tr>\n",
       "    <tr>\n",
       "      <th>12</th>\n",
       "      <td>sedan</td>\n",
       "      <td>Diesel</td>\n",
       "      <td>199.62</td>\n",
       "    </tr>\n",
       "    <tr>\n",
       "      <th>13</th>\n",
       "      <td>sedan</td>\n",
       "      <td>Gas</td>\n",
       "      <td>171.11</td>\n",
       "    </tr>\n",
       "    <tr>\n",
       "      <th>14</th>\n",
       "      <td>sedan</td>\n",
       "      <td>Other</td>\n",
       "      <td>134.49</td>\n",
       "    </tr>\n",
       "    <tr>\n",
       "      <th>15</th>\n",
       "      <td>sedan</td>\n",
       "      <td>Petrol</td>\n",
       "      <td>135.66</td>\n",
       "    </tr>\n",
       "    <tr>\n",
       "      <th>16</th>\n",
       "      <td>vagon</td>\n",
       "      <td>Diesel</td>\n",
       "      <td>195.84</td>\n",
       "    </tr>\n",
       "    <tr>\n",
       "      <th>17</th>\n",
       "      <td>vagon</td>\n",
       "      <td>Gas</td>\n",
       "      <td>165.56</td>\n",
       "    </tr>\n",
       "    <tr>\n",
       "      <th>18</th>\n",
       "      <td>vagon</td>\n",
       "      <td>Other</td>\n",
       "      <td>186.39</td>\n",
       "    </tr>\n",
       "    <tr>\n",
       "      <th>19</th>\n",
       "      <td>vagon</td>\n",
       "      <td>Petrol</td>\n",
       "      <td>155.78</td>\n",
       "    </tr>\n",
       "    <tr>\n",
       "      <th>20</th>\n",
       "      <td>van</td>\n",
       "      <td>Diesel</td>\n",
       "      <td>199.45</td>\n",
       "    </tr>\n",
       "    <tr>\n",
       "      <th>21</th>\n",
       "      <td>van</td>\n",
       "      <td>Gas</td>\n",
       "      <td>177.53</td>\n",
       "    </tr>\n",
       "    <tr>\n",
       "      <th>22</th>\n",
       "      <td>van</td>\n",
       "      <td>Other</td>\n",
       "      <td>183.81</td>\n",
       "    </tr>\n",
       "    <tr>\n",
       "      <th>23</th>\n",
       "      <td>van</td>\n",
       "      <td>Petrol</td>\n",
       "      <td>136.95</td>\n",
       "    </tr>\n",
       "  </tbody>\n",
       "</table>\n",
       "</div>"
      ],
      "text/plain": [
       "         body engType  mileage\n",
       "0   crossover  Diesel   112.21\n",
       "1   crossover     Gas   142.73\n",
       "2   crossover   Other   109.80\n",
       "3   crossover  Petrol    98.47\n",
       "4       hatch  Diesel   141.66\n",
       "5       hatch     Gas   151.49\n",
       "6       hatch   Other    93.56\n",
       "7       hatch  Petrol   109.11\n",
       "8       other  Diesel   186.49\n",
       "9       other     Gas   170.95\n",
       "10      other   Other   139.04\n",
       "11      other  Petrol   107.27\n",
       "12      sedan  Diesel   199.62\n",
       "13      sedan     Gas   171.11\n",
       "14      sedan   Other   134.49\n",
       "15      sedan  Petrol   135.66\n",
       "16      vagon  Diesel   195.84\n",
       "17      vagon     Gas   165.56\n",
       "18      vagon   Other   186.39\n",
       "19      vagon  Petrol   155.78\n",
       "20        van  Diesel   199.45\n",
       "21        van     Gas   177.53\n",
       "22        van   Other   183.81\n",
       "23        van  Petrol   136.95"
      ]
     },
     "execution_count": 111,
     "metadata": {},
     "output_type": "execute_result"
    }
   ],
   "source": [
    "df3 = df1.groupby(['body','engType']).mean()['mileage'].reset_index()\n",
    "df3"
   ]
  },
  {
   "cell_type": "code",
   "execution_count": 123,
   "metadata": {},
   "outputs": [
    {
     "data": {
      "text/plain": [
       "<Figure size 432x288 with 0 Axes>"
      ]
     },
     "metadata": {},
     "output_type": "display_data"
    },
    {
     "data": {
      "image/png": "[encoded data removed]",
      "text/plain": [
       "<Figure size 451.105x360 with 1 Axes>"
      ]
     },
     "metadata": {},
     "output_type": "display_data"
    }
   ],
   "source": [
    "plt.figure()\n",
    "sns.factorplot(x = 'body', y='mileage', hue = 'engType', data=df3, kind='bar')\n",
    "plt.title('Body vs EngType vs Mileage')\n",
    "plt.show()"
   ]
  },
  {
   "cell_type": "markdown",
   "metadata": {
    "colab_type": "text",
    "id": "n0Ai0GRgUnKB"
   },
   "source": [
    "- Diesel vehicle have more mileage followed by Gas and Other.\n",
    "- Petrol Vehicles have the least mileage"
   ]
  },
  {
   "cell_type": "markdown",
   "metadata": {
    "colab_type": "text",
    "id": "U5gYU3PgUnKC"
   },
   "source": [
    "<a id=section606></a>\n",
    "## 6.6 Body vs engType vs Sales\n"
   ]
  },
  {
   "cell_type": "code",
   "execution_count": 125,
   "metadata": {
    "colab": {
     "base_uri": "https://localhost:8080/",
     "height": 195
    },
    "colab_type": "code",
    "id": "gu9DVM-OUnKI",
    "outputId": "8f8a6313-9611-412d-a57c-35e5e3061d7e"
   },
   "outputs": [
    {
     "data": {
      "text/html": [
       "<div>\n",
       "<style scoped>\n",
       "    .dataframe tbody tr th:only-of-type {\n",
       "        vertical-align: middle;\n",
       "    }\n",
       "\n",
       "    .dataframe tbody tr th {\n",
       "        vertical-align: top;\n",
       "    }\n",
       "\n",
       "    .dataframe thead th {\n",
       "        text-align: right;\n",
       "    }\n",
       "</style>\n",
       "<table border=\"1\" class=\"dataframe\">\n",
       "  <thead>\n",
       "    <tr style=\"text-align: right;\">\n",
       "      <th></th>\n",
       "      <th>body</th>\n",
       "      <th>engType</th>\n",
       "      <th>car</th>\n",
       "    </tr>\n",
       "  </thead>\n",
       "  <tbody>\n",
       "    <tr>\n",
       "      <th>0</th>\n",
       "      <td>crossover</td>\n",
       "      <td>Diesel</td>\n",
       "      <td>571</td>\n",
       "    </tr>\n",
       "    <tr>\n",
       "      <th>1</th>\n",
       "      <td>crossover</td>\n",
       "      <td>Gas</td>\n",
       "      <td>393</td>\n",
       "    </tr>\n",
       "    <tr>\n",
       "      <th>2</th>\n",
       "      <td>crossover</td>\n",
       "      <td>Other</td>\n",
       "      <td>25</td>\n",
       "    </tr>\n",
       "    <tr>\n",
       "      <th>3</th>\n",
       "      <td>crossover</td>\n",
       "      <td>Petrol</td>\n",
       "      <td>710</td>\n",
       "    </tr>\n",
       "    <tr>\n",
       "      <th>4</th>\n",
       "      <td>hatch</td>\n",
       "      <td>Diesel</td>\n",
       "      <td>116</td>\n",
       "    </tr>\n",
       "    <tr>\n",
       "      <th>5</th>\n",
       "      <td>hatch</td>\n",
       "      <td>Gas</td>\n",
       "      <td>178</td>\n",
       "    </tr>\n",
       "    <tr>\n",
       "      <th>6</th>\n",
       "      <td>hatch</td>\n",
       "      <td>Other</td>\n",
       "      <td>52</td>\n",
       "    </tr>\n",
       "    <tr>\n",
       "      <th>7</th>\n",
       "      <td>hatch</td>\n",
       "      <td>Petrol</td>\n",
       "      <td>721</td>\n",
       "    </tr>\n",
       "    <tr>\n",
       "      <th>8</th>\n",
       "      <td>other</td>\n",
       "      <td>Diesel</td>\n",
       "      <td>239</td>\n",
       "    </tr>\n",
       "    <tr>\n",
       "      <th>9</th>\n",
       "      <td>other</td>\n",
       "      <td>Gas</td>\n",
       "      <td>77</td>\n",
       "    </tr>\n",
       "    <tr>\n",
       "      <th>10</th>\n",
       "      <td>other</td>\n",
       "      <td>Other</td>\n",
       "      <td>23</td>\n",
       "    </tr>\n",
       "    <tr>\n",
       "      <th>11</th>\n",
       "      <td>other</td>\n",
       "      <td>Petrol</td>\n",
       "      <td>338</td>\n",
       "    </tr>\n",
       "    <tr>\n",
       "      <th>12</th>\n",
       "      <td>sedan</td>\n",
       "      <td>Diesel</td>\n",
       "      <td>468</td>\n",
       "    </tr>\n",
       "    <tr>\n",
       "      <th>13</th>\n",
       "      <td>sedan</td>\n",
       "      <td>Gas</td>\n",
       "      <td>800</td>\n",
       "    </tr>\n",
       "    <tr>\n",
       "      <th>14</th>\n",
       "      <td>sedan</td>\n",
       "      <td>Other</td>\n",
       "      <td>98</td>\n",
       "    </tr>\n",
       "    <tr>\n",
       "      <th>15</th>\n",
       "      <td>sedan</td>\n",
       "      <td>Petrol</td>\n",
       "      <td>1843</td>\n",
       "    </tr>\n",
       "    <tr>\n",
       "      <th>16</th>\n",
       "      <td>vagon</td>\n",
       "      <td>Diesel</td>\n",
       "      <td>349</td>\n",
       "    </tr>\n",
       "    <tr>\n",
       "      <th>17</th>\n",
       "      <td>vagon</td>\n",
       "      <td>Gas</td>\n",
       "      <td>90</td>\n",
       "    </tr>\n",
       "    <tr>\n",
       "      <th>18</th>\n",
       "      <td>vagon</td>\n",
       "      <td>Other</td>\n",
       "      <td>18</td>\n",
       "    </tr>\n",
       "    <tr>\n",
       "      <th>19</th>\n",
       "      <td>vagon</td>\n",
       "      <td>Petrol</td>\n",
       "      <td>184</td>\n",
       "    </tr>\n",
       "    <tr>\n",
       "      <th>20</th>\n",
       "      <td>van</td>\n",
       "      <td>Diesel</td>\n",
       "      <td>796</td>\n",
       "    </tr>\n",
       "    <tr>\n",
       "      <th>21</th>\n",
       "      <td>van</td>\n",
       "      <td>Gas</td>\n",
       "      <td>47</td>\n",
       "    </tr>\n",
       "    <tr>\n",
       "      <th>22</th>\n",
       "      <td>van</td>\n",
       "      <td>Other</td>\n",
       "      <td>16</td>\n",
       "    </tr>\n",
       "    <tr>\n",
       "      <th>23</th>\n",
       "      <td>van</td>\n",
       "      <td>Petrol</td>\n",
       "      <td>61</td>\n",
       "    </tr>\n",
       "  </tbody>\n",
       "</table>\n",
       "</div>"
      ],
      "text/plain": [
       "         body engType   car\n",
       "0   crossover  Diesel   571\n",
       "1   crossover     Gas   393\n",
       "2   crossover   Other    25\n",
       "3   crossover  Petrol   710\n",
       "4       hatch  Diesel   116\n",
       "5       hatch     Gas   178\n",
       "6       hatch   Other    52\n",
       "7       hatch  Petrol   721\n",
       "8       other  Diesel   239\n",
       "9       other     Gas    77\n",
       "10      other   Other    23\n",
       "11      other  Petrol   338\n",
       "12      sedan  Diesel   468\n",
       "13      sedan     Gas   800\n",
       "14      sedan   Other    98\n",
       "15      sedan  Petrol  1843\n",
       "16      vagon  Diesel   349\n",
       "17      vagon     Gas    90\n",
       "18      vagon   Other    18\n",
       "19      vagon  Petrol   184\n",
       "20        van  Diesel   796\n",
       "21        van     Gas    47\n",
       "22        van   Other    16\n",
       "23        van  Petrol    61"
      ]
     },
     "execution_count": 125,
     "metadata": {},
     "output_type": "execute_result"
    }
   ],
   "source": [
    "df4 = df1.groupby(['body','engType']).count()['car'].reset_index()\n",
    "df4"
   ]
  },
  {
   "cell_type": "code",
   "execution_count": 127,
   "metadata": {
    "colab": {
     "base_uri": "https://localhost:8080/",
     "height": 284
    },
    "colab_type": "code",
    "id": "02iQdrFXUnKN",
    "outputId": "d5612330-19c5-4555-bc57-6119789fac28"
   },
   "outputs": [
    {
     "data": {
      "text/plain": [
       "<Figure size 432x288 with 0 Axes>"
      ]
     },
     "metadata": {},
     "output_type": "display_data"
    },
    {
     "data": {
      "image/png": "[encoded data removed]",
      "text/plain": [
       "<Figure size 451.105x360 with 1 Axes>"
      ]
     },
     "metadata": {},
     "output_type": "display_data"
    }
   ],
   "source": [
    "plt.figure()\n",
    "sns.factorplot(x = 'body', y='car', hue = 'engType', data=df4, kind='bar')\n",
    "plt.title('Body vs EngType vs Sales')\n",
    "plt.show()"
   ]
  },
  {
   "cell_type": "markdown",
   "metadata": {
    "colab_type": "text",
    "id": "dCpqx2CHUnKQ"
   },
   "source": [
    "- Petrol Cars are the most preferred cars irrespective of poor mileage we have seen in the above analysis. It could be because it is a cleaner fuel and engine technology are less expensive\n",
    "- Gas is the second preferred fuel\n",
    "- Diesel is preferred for bigger vehicles where might be torque requirement is more like van, vagon and even crossover to certain extent"
   ]
  },
  {
   "cell_type": "markdown",
   "metadata": {
    "colab_type": "text",
    "id": "ues2faHGUnKd"
   },
   "source": [
    "<a id=section607></a>\n",
    "## 6.7 Body vs Drive vs Sales"
   ]
  },
  {
   "cell_type": "code",
   "execution_count": 155,
   "metadata": {
    "colab": {
     "base_uri": "https://localhost:8080/",
     "height": 225
    },
    "colab_type": "code",
    "id": "Ov-1onGYb0gY",
    "outputId": "9ef6716b-5d81-4f23-d18e-bec37bd643fa"
   },
   "outputs": [
    {
     "data": {
      "text/html": [
       "<div>\n",
       "<style scoped>\n",
       "    .dataframe tbody tr th:only-of-type {\n",
       "        vertical-align: middle;\n",
       "    }\n",
       "\n",
       "    .dataframe tbody tr th {\n",
       "        vertical-align: top;\n",
       "    }\n",
       "\n",
       "    .dataframe thead th {\n",
       "        text-align: right;\n",
       "    }\n",
       "</style>\n",
       "<table border=\"1\" class=\"dataframe\">\n",
       "  <thead>\n",
       "    <tr style=\"text-align: right;\">\n",
       "      <th></th>\n",
       "      <th>body</th>\n",
       "      <th>drive</th>\n",
       "      <th>car</th>\n",
       "    </tr>\n",
       "  </thead>\n",
       "  <tbody>\n",
       "    <tr>\n",
       "      <th>0</th>\n",
       "      <td>crossover</td>\n",
       "      <td>front</td>\n",
       "      <td>111</td>\n",
       "    </tr>\n",
       "    <tr>\n",
       "      <th>1</th>\n",
       "      <td>crossover</td>\n",
       "      <td>full</td>\n",
       "      <td>1581</td>\n",
       "    </tr>\n",
       "    <tr>\n",
       "      <th>2</th>\n",
       "      <td>crossover</td>\n",
       "      <td>rear</td>\n",
       "      <td>7</td>\n",
       "    </tr>\n",
       "    <tr>\n",
       "      <th>3</th>\n",
       "      <td>hatch</td>\n",
       "      <td>front</td>\n",
       "      <td>1014</td>\n",
       "    </tr>\n",
       "    <tr>\n",
       "      <th>4</th>\n",
       "      <td>hatch</td>\n",
       "      <td>full</td>\n",
       "      <td>22</td>\n",
       "    </tr>\n",
       "    <tr>\n",
       "      <th>5</th>\n",
       "      <td>hatch</td>\n",
       "      <td>rear</td>\n",
       "      <td>31</td>\n",
       "    </tr>\n",
       "    <tr>\n",
       "      <th>6</th>\n",
       "      <td>other</td>\n",
       "      <td>front</td>\n",
       "      <td>318</td>\n",
       "    </tr>\n",
       "    <tr>\n",
       "      <th>7</th>\n",
       "      <td>other</td>\n",
       "      <td>full</td>\n",
       "      <td>142</td>\n",
       "    </tr>\n",
       "    <tr>\n",
       "      <th>8</th>\n",
       "      <td>other</td>\n",
       "      <td>rear</td>\n",
       "      <td>217</td>\n",
       "    </tr>\n",
       "    <tr>\n",
       "      <th>9</th>\n",
       "      <td>sedan</td>\n",
       "      <td>front</td>\n",
       "      <td>2134</td>\n",
       "    </tr>\n",
       "    <tr>\n",
       "      <th>10</th>\n",
       "      <td>sedan</td>\n",
       "      <td>full</td>\n",
       "      <td>260</td>\n",
       "    </tr>\n",
       "    <tr>\n",
       "      <th>11</th>\n",
       "      <td>sedan</td>\n",
       "      <td>rear</td>\n",
       "      <td>815</td>\n",
       "    </tr>\n",
       "    <tr>\n",
       "      <th>12</th>\n",
       "      <td>vagon</td>\n",
       "      <td>front</td>\n",
       "      <td>473</td>\n",
       "    </tr>\n",
       "    <tr>\n",
       "      <th>13</th>\n",
       "      <td>vagon</td>\n",
       "      <td>full</td>\n",
       "      <td>94</td>\n",
       "    </tr>\n",
       "    <tr>\n",
       "      <th>14</th>\n",
       "      <td>vagon</td>\n",
       "      <td>rear</td>\n",
       "      <td>74</td>\n",
       "    </tr>\n",
       "    <tr>\n",
       "      <th>15</th>\n",
       "      <td>van</td>\n",
       "      <td>front</td>\n",
       "      <td>745</td>\n",
       "    </tr>\n",
       "    <tr>\n",
       "      <th>16</th>\n",
       "      <td>van</td>\n",
       "      <td>full</td>\n",
       "      <td>40</td>\n",
       "    </tr>\n",
       "    <tr>\n",
       "      <th>17</th>\n",
       "      <td>van</td>\n",
       "      <td>rear</td>\n",
       "      <td>135</td>\n",
       "    </tr>\n",
       "  </tbody>\n",
       "</table>\n",
       "</div>"
      ],
      "text/plain": [
       "         body  drive   car\n",
       "0   crossover  front   111\n",
       "1   crossover   full  1581\n",
       "2   crossover   rear     7\n",
       "3       hatch  front  1014\n",
       "4       hatch   full    22\n",
       "5       hatch   rear    31\n",
       "6       other  front   318\n",
       "7       other   full   142\n",
       "8       other   rear   217\n",
       "9       sedan  front  2134\n",
       "10      sedan   full   260\n",
       "11      sedan   rear   815\n",
       "12      vagon  front   473\n",
       "13      vagon   full    94\n",
       "14      vagon   rear    74\n",
       "15        van  front   745\n",
       "16        van   full    40\n",
       "17        van   rear   135"
      ]
     },
     "execution_count": 155,
     "metadata": {},
     "output_type": "execute_result"
    }
   ],
   "source": [
    "df5 = df1.groupby(['body','drive']).count()['car'].reset_index()\n",
    "df5"
   ]
  },
  {
   "cell_type": "code",
   "execution_count": 157,
   "metadata": {
    "colab": {
     "base_uri": "https://localhost:8080/",
     "height": 284
    },
    "colab_type": "code",
    "id": "vrZ7YiQ6cTDk",
    "outputId": "ad1b3822-16c5-4265-fcba-69c1d72b4c02"
   },
   "outputs": [
    {
     "data": {
      "text/plain": [
       "<Figure size 432x288 with 0 Axes>"
      ]
     },
     "metadata": {},
     "output_type": "display_data"
    },
    {
     "data": {
      "image/png": "[encoded data removed]",
      "text/plain": [
       "<Figure size 440.105x360 with 1 Axes>"
      ]
     },
     "metadata": {},
     "output_type": "display_data"
    }
   ],
   "source": [
    "plt.figure()\n",
    "sns.factorplot(x = 'body', y='car', hue = 'drive', data=df5, kind='bar')\n",
    "plt.title('Body vs Drive vs Sales')\n",
    "plt.show()"
   ]
  },
  {
   "cell_type": "markdown",
   "metadata": {
    "colab_type": "text",
    "id": "Xb742chtptcE"
   },
   "source": [
    "-  Front wheel drive is the most preferred technology when it comes to normal city driving\n",
    "-  Full Wheel Drive (FWD) or All Wheel Drive (AWD) is preferred when it comes to crossover cars\n",
    "-  Customers are looking for performance when they chose to buy crossovers"
   ]
  },
  {
   "cell_type": "markdown",
   "metadata": {},
   "source": [
    "<a id=section608></a>\n",
    "## 6.8 Drive vs Engine Type Vs Sales"
   ]
  },
  {
   "cell_type": "code",
   "execution_count": 26,
   "metadata": {},
   "outputs": [
    {
     "data": {
      "text/html": [
       "<div>\n",
       "<style scoped>\n",
       "    .dataframe tbody tr th:only-of-type {\n",
       "        vertical-align: middle;\n",
       "    }\n",
       "\n",
       "    .dataframe tbody tr th {\n",
       "        vertical-align: top;\n",
       "    }\n",
       "\n",
       "    .dataframe thead th {\n",
       "        text-align: right;\n",
       "    }\n",
       "</style>\n",
       "<table border=\"1\" class=\"dataframe\">\n",
       "  <thead>\n",
       "    <tr style=\"text-align: right;\">\n",
       "      <th></th>\n",
       "      <th>engType</th>\n",
       "      <th>drive</th>\n",
       "      <th>car</th>\n",
       "    </tr>\n",
       "  </thead>\n",
       "  <tbody>\n",
       "    <tr>\n",
       "      <th>0</th>\n",
       "      <td>Diesel</td>\n",
       "      <td>front</td>\n",
       "      <td>1384</td>\n",
       "    </tr>\n",
       "    <tr>\n",
       "      <th>1</th>\n",
       "      <td>Diesel</td>\n",
       "      <td>full</td>\n",
       "      <td>724</td>\n",
       "    </tr>\n",
       "    <tr>\n",
       "      <th>2</th>\n",
       "      <td>Diesel</td>\n",
       "      <td>rear</td>\n",
       "      <td>431</td>\n",
       "    </tr>\n",
       "    <tr>\n",
       "      <th>3</th>\n",
       "      <td>Gas</td>\n",
       "      <td>front</td>\n",
       "      <td>929</td>\n",
       "    </tr>\n",
       "    <tr>\n",
       "      <th>4</th>\n",
       "      <td>Gas</td>\n",
       "      <td>full</td>\n",
       "      <td>441</td>\n",
       "    </tr>\n",
       "    <tr>\n",
       "      <th>5</th>\n",
       "      <td>Gas</td>\n",
       "      <td>rear</td>\n",
       "      <td>215</td>\n",
       "    </tr>\n",
       "    <tr>\n",
       "      <th>6</th>\n",
       "      <td>Other</td>\n",
       "      <td>front</td>\n",
       "      <td>151</td>\n",
       "    </tr>\n",
       "    <tr>\n",
       "      <th>7</th>\n",
       "      <td>Other</td>\n",
       "      <td>full</td>\n",
       "      <td>43</td>\n",
       "    </tr>\n",
       "    <tr>\n",
       "      <th>8</th>\n",
       "      <td>Other</td>\n",
       "      <td>rear</td>\n",
       "      <td>38</td>\n",
       "    </tr>\n",
       "    <tr>\n",
       "      <th>9</th>\n",
       "      <td>Petrol</td>\n",
       "      <td>front</td>\n",
       "      <td>2331</td>\n",
       "    </tr>\n",
       "    <tr>\n",
       "      <th>10</th>\n",
       "      <td>Petrol</td>\n",
       "      <td>full</td>\n",
       "      <td>931</td>\n",
       "    </tr>\n",
       "    <tr>\n",
       "      <th>11</th>\n",
       "      <td>Petrol</td>\n",
       "      <td>rear</td>\n",
       "      <td>595</td>\n",
       "    </tr>\n",
       "  </tbody>\n",
       "</table>\n",
       "</div>"
      ],
      "text/plain": [
       "   engType  drive   car\n",
       "0   Diesel  front  1384\n",
       "1   Diesel   full   724\n",
       "2   Diesel   rear   431\n",
       "3      Gas  front   929\n",
       "4      Gas   full   441\n",
       "5      Gas   rear   215\n",
       "6    Other  front   151\n",
       "7    Other   full    43\n",
       "8    Other   rear    38\n",
       "9   Petrol  front  2331\n",
       "10  Petrol   full   931\n",
       "11  Petrol   rear   595"
      ]
     },
     "execution_count": 26,
     "metadata": {},
     "output_type": "execute_result"
    }
   ],
   "source": [
    "df8 = df1.groupby(['engType','drive']).count()['car'].reset_index()\n",
    "df8"
   ]
  },
  {
   "cell_type": "code",
   "execution_count": 27,
   "metadata": {},
   "outputs": [
    {
     "data": {
      "text/plain": [
       "<Figure size 432x288 with 0 Axes>"
      ]
     },
     "metadata": {},
     "output_type": "display_data"
    },
    {
     "data": {
      "image/png": "[encoded data removed]",
      "text/plain": [
       "<Figure size 451.105x360 with 1 Axes>"
      ]
     },
     "metadata": {},
     "output_type": "display_data"
    }
   ],
   "source": [
    "plt.figure()\n",
    "sns.factorplot(x = 'drive', y='car', hue = 'engType', data=df8, kind='bar')\n",
    "plt.title('Drive vs Engine Type vs Sales')\n",
    "plt.show()"
   ]
  },
  {
   "cell_type": "markdown",
   "metadata": {},
   "source": [
    "- Similar trend in the choice of fuel across various drive options.\n",
    "- Petrol is most preferred followed Diesel and Gas.\n",
    "- Petrol front wheel drive followed by Diesel front wheel drive is the most preferred."
   ]
  },
  {
   "cell_type": "markdown",
   "metadata": {},
   "source": [
    "<a id=section609></a>\n",
    "## 6.9 Engine Type Vs Registration"
   ]
  },
  {
   "cell_type": "code",
   "execution_count": 51,
   "metadata": {},
   "outputs": [
    {
     "data": {
      "text/plain": [
       "Text(0.5, 1.0, 'Registration vs Non-Registraion')"
      ]
     },
     "execution_count": 51,
     "metadata": {},
     "output_type": "execute_result"
    },
    {
     "data": {
      "image/png": "[encoded data removed]",
      "text/plain": [
       "<Figure size 1440x432 with 1 Axes>"
      ]
     },
     "metadata": {},
     "output_type": "display_data"
    }
   ],
   "source": [
    "fig,ax = plt.subplots(figsize=(20,6))\n",
    "df1.groupby(['engType','registration']).count()['car'].unstack().plot(ax=ax)\n",
    "ax.set_xlabel('engType')\n",
    "ax.set_ylabel('Sales')\n",
    "ax.set_title('Registration vs Non-Registraion')"
   ]
  },
  {
   "cell_type": "markdown",
   "metadata": {},
   "source": [
    "- Non-registration as a percentage of sales is mostly seen in diesel cars\n",
    "- Almost 14% of diesel cars purchased where not registered\n",
    "- High diesel car price and high registration fee could be a reason"
   ]
  },
  {
   "cell_type": "code",
   "execution_count": 52,
   "metadata": {
    "scrolled": true
   },
   "outputs": [
    {
     "data": {
      "text/plain": [
       "Text(0.5, 1.0, 'Registration vs Non-Registraion Trend')"
      ]
     },
     "execution_count": 52,
     "metadata": {},
     "output_type": "execute_result"
    },
    {
     "data": {
      "image/png": "[encoded data removed]",
      "text/plain": [
       "<Figure size 1440x432 with 1 Axes>"
      ]
     },
     "metadata": {},
     "output_type": "display_data"
    }
   ],
   "source": [
    "fig,ax = plt.subplots(figsize=(20,6))\n",
    "df1.groupby(['year','registration']).count()['car'].unstack().plot(ax=ax)\n",
    "ax.set_xlabel('Year')\n",
    "ax.set_ylabel('Sales')\n",
    "ax.set_title('Registration vs Non-Registraion Trend')"
   ]
  },
  {
   "cell_type": "markdown",
   "metadata": {},
   "source": [
    "- 1993-2001 is the period we can see steep rise in the non-registration of cars vis a vis sales\n",
    "- 2002 onwards the trend of non-registration has declined.\n",
    "- In the last three years there has been no reported case of non-registration of new cars purchased."
   ]
  },
  {
   "cell_type": "markdown",
   "metadata": {},
   "source": [
    "<a id=section610></a>\n",
    "## 6.10 Body Vs Price"
   ]
  },
  {
   "cell_type": "code",
   "execution_count": 173,
   "metadata": {},
   "outputs": [
    {
     "data": {
      "text/plain": [
       "Text(0.5, 1.0, 'Body vs Price')"
      ]
     },
     "execution_count": 173,
     "metadata": {},
     "output_type": "execute_result"
    },
    {
     "data": {
      "image/png": "[encoded data removed]",
      "text/plain": [
       "<Figure size 864x720 with 1 Axes>"
      ]
     },
     "metadata": {},
     "output_type": "display_data"
    }
   ],
   "source": [
    "plt.figure(figsize=(12,10))\n",
    "sns.boxplot(data=df1, x='body', y='price', palette='rainbow')\n",
    "\n",
    "plt.title('Body vs Price')"
   ]
  },
  {
   "cell_type": "markdown",
   "metadata": {},
   "source": [
    "- Popularity of Sedan over years can be attributed to competitive pricing vis a vis other body types\n",
    "- Crossovers are twice expensive than Sedan on an average"
   ]
  },
  {
   "cell_type": "markdown",
   "metadata": {
    "colab_type": "text",
    "id": "mMin4SIGdIXt"
   },
   "source": [
    "<a id=section611></a>\n",
    "## 6.11 Correlation analysis by pair plot"
   ]
  },
  {
   "cell_type": "code",
   "execution_count": 152,
   "metadata": {
    "colab": {
     "base_uri": "https://localhost:8080/",
     "height": 225
    },
    "colab_type": "code",
    "id": "QOyDML7xdFm4",
    "outputId": "7494dbe8-274a-49b2-9c9e-c2fe44a400b1"
   },
   "outputs": [
    {
     "data": {
      "text/plain": [
       "<seaborn.axisgrid.PairGrid at 0x2aa86f78f08>"
      ]
     },
     "execution_count": 152,
     "metadata": {},
     "output_type": "execute_result"
    },
    {
     "data": {
      "image/png": "[encoded data removed]",
      "text/plain": [
       "<Figure size 720x720 with 20 Axes>"
      ]
     },
     "metadata": {},
     "output_type": "display_data"
    }
   ],
   "source": [
    "sns.pairplot(data=df1[['year', 'mileage', 'engV', 'price']], size=2.5, diag_kind='kde')"
   ]
  },
  {
   "cell_type": "markdown",
   "metadata": {
    "colab_type": "text",
    "id": "rRWnKzU2pEQj"
   },
   "source": [
    "- There is **no strong corelation** between the given four **variables**\n",
    "- **Year** and **Price** shows moderate positive correlation while **year** and **mileage** has moderate negative correlation"
   ]
  },
  {
   "cell_type": "markdown",
   "metadata": {
    "colab_type": "text",
    "id": "3yMqmGm-UnKW"
   },
   "source": [
    "<a id=section612></a>\n",
    "## 6.12 Correlation using Heat Map\n"
   ]
  },
  {
   "cell_type": "code",
   "execution_count": 154,
   "metadata": {
    "colab": {
     "base_uri": "https://localhost:8080/",
     "height": 639
    },
    "colab_type": "code",
    "id": "iN9kOL7AUnKW",
    "outputId": "52ba59c2-1a22-4fb1-d8ca-c4e0976d0c6f"
   },
   "outputs": [
    {
     "data": {
      "text/plain": [
       "<AxesSubplot:>"
      ]
     },
     "execution_count": 154,
     "metadata": {},
     "output_type": "execute_result"
    },
    {
     "data": {
      "image/png": "[encoded data removed]",
      "text/plain": [
       "<Figure size 720x576 with 2 Axes>"
      ]
     },
     "metadata": {},
     "output_type": "display_data"
    }
   ],
   "source": [
    "corr_mat = df1.corr()\n",
    "plt.figure(figsize=(10,8))\n",
    "sns.heatmap(corr_mat, annot=True, cmap='viridis')"
   ]
  },
  {
   "cell_type": "markdown",
   "metadata": {
    "colab_type": "text",
    "id": "68v81PqpUnKd"
   },
   "source": [
    "-  Year and Price have moderate positive correlation. That means with every passing year there has been an increase in the car prices.\n",
    "-  Year and mileage have moderate negative correlation. That means there has been no impact of mileage on the car sales. Our previous analysis also corroborate the same."
   ]
  },
  {
   "cell_type": "markdown",
   "metadata": {
    "colab_type": "text",
    "id": "KEPnkximUnMX"
   },
   "source": [
    "<a id=section7></a>\n",
    "# 7. Conclusion"
   ]
  },
  {
   "attachments": {},
   "cell_type": "markdown",
   "metadata": {
    "colab_type": "text",
    "id": "qyNlX7kqrh8K"
   },
   "source": [
    "- Sedan is most preferred car followed by crossover and hatch.\n",
    "- Crossover and hatch has less mileage than other body types.\n",
    "- Best mileage is being offered by Van and Vagon, which sells the least.\n",
    "- Sedan has been popular over years due to its competitive pricing vis a vis other body types.\n",
    "- Crossovers are twice as expensive as Sedans, but the sales is catching up with Sedan.\n",
    "- Customers prefer all the fuel types across body type. \n",
    "- Petrol is the most preferred fuel type followed by diesel and gas.\n",
    "- Petrol cars are more preferred irrespective of low mileage compared to diesel and gas cars.\n",
    "- Front Wheel Drive is most preferred technology across body type, except crossover which is more popular with Full Wheel Drive.\n",
    "- Non-Registration of cars is a passe. Customers are now registering their new cars."
   ]
  },
  {
   "cell_type": "markdown",
   "metadata": {
    "colab_type": "text",
    "id": "lsAmsrr6rhe1"
   },
   "source": [
    "<a id=section8></a>\n",
    "# 8. Actionable Insights"
   ]
  },
  {
   "attachments": {},
   "cell_type": "markdown",
   "metadata": {
    "colab_type": "text",
    "id": "rOyRVVNhUnMY"
   },
   "source": [
    "- Trend of Crossover has caught up as a promising segment for manufacturers.\n",
    "- Car manufacturers should focus to launch more crossover models apart from Sedan line-up.\n",
    "- Crossovers need to be competitively priced for higher sales growth and bigger market share than Sedan.\n",
    "- Price sensitive Sedan customers will switch to Crossover with affordable options.\n",
    "- Current generation Customers are looking for performance and off-roading capabilities.\n",
    "- Manufacturers have to offer cars models with all the fuel options specially with petrol, diesel and gas.\n",
    "- Mileage is not an important criteria for customers when it comes to car buying. So manufacturers focus should be more on performance and features.\n",
    "\n",
    "Additionally, before performing further analysis it would be prudent to collect more data on variables like customer location (rural, urban, semi-urban), usage (daily, weekends), passenger (solo, family), driven by (self, driver), age, gender, registration (private vs commercial), car specification and features, etc to have better customer insights."
   ]
  }
 ],
 "metadata": {
  "colab": {
   "collapsed_sections": [
    "R1oFY_s6UnJL"
   ],
   "name": "EDA on Online Retail Dataset.ipynb",
   "provenance": []
  },
  "kernelspec": {
   "display_name": "Python 3",
   "language": "python",
   "name": "python3"
  },
  "language_info": {
   "codemirror_mode": {
    "name": "ipython",
    "version": 3
   },
   "file_extension": ".py",
   "mimetype": "text/x-python",
   "name": "python",
   "nbconvert_exporter": "python",
   "pygments_lexer": "ipython3",
   "version": "3.7.9"
  },
  "widgets": {
   "application/vnd.jupyter.widget-state+json": {
    "03c11f3672c54eeda08d8186e12ae823": {
     "model_module": "@jupyter-widgets/controls",
     "model_name": "HBoxModel",
     "state": {
      "_dom_classes": [],
      "_model_module": "@jupyter-widgets/controls",
      "_model_module_version": "1.5.0",
      "_model_name": "HBoxModel",
      "_view_count": null,
      "_view_module": "@jupyter-widgets/controls",
      "_view_module_version": "1.5.0",
      "_view_name": "HBoxView",
      "box_style": "",
      "children": [
       "IPY_MODEL_ea0ce7e49c5f420aa4d65ce60df91459",
       "IPY_MODEL_56307e0afb47420b906ff46368db3b11"
      ],
      "layout": "IPY_MODEL_6a0829b09b2141ec8a7a5c2942a6ead7"
     }
    },
    "06034fc0186545eea743d9d8e176bd42": {
     "model_module": "@jupyter-widgets/base",
     "model_name": "LayoutModel",
     "state": {
      "_model_module": "@jupyter-widgets/base",
      "_model_module_version": "1.2.0",
      "_model_name": "LayoutModel",
      "_view_count": null,
      "_view_module": "@jupyter-widgets/base",
      "_view_module_version": "1.2.0",
      "_view_name": "LayoutView",
      "align_content": null,
      "align_items": null,
      "align_self": null,
      "border": null,
      "bottom": null,
      "display": null,
      "flex": null,
      "flex_flow": null,
      "grid_area": null,
      "grid_auto_columns": null,
      "grid_auto_flow": null,
      "grid_auto_rows": null,
      "grid_column": null,
      "grid_gap": null,
      "grid_row": null,
      "grid_template_areas": null,
      "grid_template_columns": null,
      "grid_template_rows": null,
      "height": null,
      "justify_content": null,
      "justify_items": null,
      "left": null,
      "margin": null,
      "max_height": null,
      "max_width": null,
      "min_height": null,
      "min_width": null,
      "object_fit": null,
      "object_position": null,
      "order": null,
      "overflow": null,
      "overflow_x": null,
      "overflow_y": null,
      "padding": null,
      "right": null,
      "top": null,
      "visibility": null,
      "width": null
     }
    },
    "064f060afadd4729833f5f6e55cd75a8": {
     "model_module": "@jupyter-widgets/base",
     "model_name": "LayoutModel",
     "state": {
      "_model_module": "@jupyter-widgets/base",
      "_model_module_version": "1.2.0",
      "_model_name": "LayoutModel",
      "_view_count": null,
      "_view_module": "@jupyter-widgets/base",
      "_view_module_version": "1.2.0",
      "_view_name": "LayoutView",
      "align_content": null,
      "align_items": null,
      "align_self": null,
      "border": null,
      "bottom": null,
      "display": null,
      "flex": null,
      "flex_flow": null,
      "grid_area": null,
      "grid_auto_columns": null,
      "grid_auto_flow": null,
      "grid_auto_rows": null,
      "grid_column": null,
      "grid_gap": null,
      "grid_row": null,
      "grid_template_areas": null,
      "grid_template_columns": null,
      "grid_template_rows": null,
      "height": null,
      "justify_content": null,
      "justify_items": null,
      "left": null,
      "margin": null,
      "max_height": null,
      "max_width": null,
      "min_height": null,
      "min_width": null,
      "object_fit": null,
      "object_position": null,
      "order": null,
      "overflow": null,
      "overflow_x": null,
      "overflow_y": null,
      "padding": null,
      "right": null,
      "top": null,
      "visibility": null,
      "width": null
     }
    },
    "0b391ff390c640c8b8c17331bca9cdf9": {
     "model_module": "@jupyter-widgets/controls",
     "model_name": "HBoxModel",
     "state": {
      "_dom_classes": [],
      "_model_module": "@jupyter-widgets/controls",
      "_model_module_version": "1.5.0",
      "_model_name": "HBoxModel",
      "_view_count": null,
      "_view_module": "@jupyter-widgets/controls",
      "_view_module_version": "1.5.0",
      "_view_name": "HBoxView",
      "box_style": "",
      "children": [
       "IPY_MODEL_99a80d000c3d46b7adb56cf854a31458",
       "IPY_MODEL_f84f6272ffe64a139eeec94819b10397"
      ],
      "layout": "IPY_MODEL_c801c9c7939d4cf28bf4b114b521b2ec"
     }
    },
    "103fa1da0e27487682e0053d5b660412": {
     "model_module": "@jupyter-widgets/controls",
     "model_name": "ProgressStyleModel",
     "state": {
      "_model_module": "@jupyter-widgets/controls",
      "_model_module_version": "1.5.0",
      "_model_name": "ProgressStyleModel",
      "_view_count": null,
      "_view_module": "@jupyter-widgets/base",
      "_view_module_version": "1.2.0",
      "_view_name": "StyleView",
      "bar_color": null,
      "description_width": "initial"
     }
    },
    "13f73a7ea1a146e48b9f5305e3f84d8b": {
     "model_module": "@jupyter-widgets/controls",
     "model_name": "HTMLModel",
     "state": {
      "_dom_classes": [],
      "_model_module": "@jupyter-widgets/controls",
      "_model_module_version": "1.5.0",
      "_model_name": "HTMLModel",
      "_view_count": null,
      "_view_module": "@jupyter-widgets/controls",
      "_view_module_version": "1.5.0",
      "_view_name": "HTMLView",
      "description": "",
      "description_tooltip": null,
      "layout": "IPY_MODEL_064f060afadd4729833f5f6e55cd75a8",
      "placeholder": "​",
      "style": "IPY_MODEL_c0dbda69d9154d4787dd34abad5b259a",
      "value": " 23/23 [00:10&lt;00:00,  2.12it/s, Completed]"
     }
    },
    "176b939c17bf4a5ba336034546a6df38": {
     "model_module": "@jupyter-widgets/base",
     "model_name": "LayoutModel",
     "state": {
      "_model_module": "@jupyter-widgets/base",
      "_model_module_version": "1.2.0",
      "_model_name": "LayoutModel",
      "_view_count": null,
      "_view_module": "@jupyter-widgets/base",
      "_view_module_version": "1.2.0",
      "_view_name": "LayoutView",
      "align_content": null,
      "align_items": null,
      "align_self": null,
      "border": null,
      "bottom": null,
      "display": null,
      "flex": null,
      "flex_flow": null,
      "grid_area": null,
      "grid_auto_columns": null,
      "grid_auto_flow": null,
      "grid_auto_rows": null,
      "grid_column": null,
      "grid_gap": null,
      "grid_row": null,
      "grid_template_areas": null,
      "grid_template_columns": null,
      "grid_template_rows": null,
      "height": null,
      "justify_content": null,
      "justify_items": null,
      "left": null,
      "margin": null,
      "max_height": null,
      "max_width": null,
      "min_height": null,
      "min_width": null,
      "object_fit": null,
      "object_position": null,
      "order": null,
      "overflow": null,
      "overflow_x": null,
      "overflow_y": null,
      "padding": null,
      "right": null,
      "top": null,
      "visibility": null,
      "width": null
     }
    },
    "18e8da1473b54b2fae2c57f69b56fde2": {
     "model_module": "@jupyter-widgets/controls",
     "model_name": "HBoxModel",
     "state": {
      "_dom_classes": [],
      "_model_module": "@jupyter-widgets/controls",
      "_model_module_version": "1.5.0",
      "_model_name": "HBoxModel",
      "_view_count": null,
      "_view_module": "@jupyter-widgets/controls",
      "_view_module_version": "1.5.0",
      "_view_name": "HBoxView",
      "box_style": "",
      "children": [
       "IPY_MODEL_6412046c417449779a40b6a3e2639647",
       "IPY_MODEL_5dc91ab53d8f43eb83f41ddade3f1f29"
      ],
      "layout": "IPY_MODEL_faff2229062249d19babe8230728f878"
     }
    },
    "246a4528527e4aa1b33f2b2d933b1f29": {
     "model_module": "@jupyter-widgets/base",
     "model_name": "LayoutModel",
     "state": {
      "_model_module": "@jupyter-widgets/base",
      "_model_module_version": "1.2.0",
      "_model_name": "LayoutModel",
      "_view_count": null,
      "_view_module": "@jupyter-widgets/base",
      "_view_module_version": "1.2.0",
      "_view_name": "LayoutView",
      "align_content": null,
      "align_items": null,
      "align_self": null,
      "border": null,
      "bottom": null,
      "display": null,
      "flex": null,
      "flex_flow": null,
      "grid_area": null,
      "grid_auto_columns": null,
      "grid_auto_flow": null,
      "grid_auto_rows": null,
      "grid_column": null,
      "grid_gap": null,
      "grid_row": null,
      "grid_template_areas": null,
      "grid_template_columns": null,
      "grid_template_rows": null,
      "height": null,
      "justify_content": null,
      "justify_items": null,
      "left": null,
      "margin": null,
      "max_height": null,
      "max_width": null,
      "min_height": null,
      "min_width": null,
      "object_fit": null,
      "object_position": null,
      "order": null,
      "overflow": null,
      "overflow_x": null,
      "overflow_y": null,
      "padding": null,
      "right": null,
      "top": null,
      "visibility": null,
      "width": null
     }
    },
    "2512f2dfd33b4dc1b80930b7ef3e07fe": {
     "model_module": "@jupyter-widgets/controls",
     "model_name": "HBoxModel",
     "state": {
      "_dom_classes": [],
      "_model_module": "@jupyter-widgets/controls",
      "_model_module_version": "1.5.0",
      "_model_name": "HBoxModel",
      "_view_count": null,
      "_view_module": "@jupyter-widgets/controls",
      "_view_module_version": "1.5.0",
      "_view_name": "HBoxView",
      "box_style": "",
      "children": [
       "IPY_MODEL_9d0723f815504750ae320bd653fa3b20",
       "IPY_MODEL_3af3f786606e46e69ce48c9ab5832008"
      ],
      "layout": "IPY_MODEL_e8ce7a6c00474e9983b3723c53ce4089"
     }
    },
    "262e36bad4fa4b2a8412d109ba5658cb": {
     "model_module": "@jupyter-widgets/controls",
     "model_name": "HTMLModel",
     "state": {
      "_dom_classes": [],
      "_model_module": "@jupyter-widgets/controls",
      "_model_module_version": "1.5.0",
      "_model_name": "HTMLModel",
      "_view_count": null,
      "_view_module": "@jupyter-widgets/controls",
      "_view_module_version": "1.5.0",
      "_view_name": "HTMLView",
      "description": "",
      "description_tooltip": null,
      "layout": "IPY_MODEL_294aa4073d0f47ceba37554b763efa7f",
      "placeholder": "​",
      "style": "IPY_MODEL_366258b3a8cb4e56b92b8383c8d93bed",
      "value": " 22/22 [00:14&lt;00:00,  1.50it/s, Completed]"
     }
    },
    "273227916b28453fadef5000b574902b": {
     "model_module": "@jupyter-widgets/controls",
     "model_name": "ProgressStyleModel",
     "state": {
      "_model_module": "@jupyter-widgets/controls",
      "_model_module_version": "1.5.0",
      "_model_name": "ProgressStyleModel",
      "_view_count": null,
      "_view_module": "@jupyter-widgets/base",
      "_view_module_version": "1.2.0",
      "_view_name": "StyleView",
      "bar_color": null,
      "description_width": "initial"
     }
    },
    "294aa4073d0f47ceba37554b763efa7f": {
     "model_module": "@jupyter-widgets/base",
     "model_name": "LayoutModel",
     "state": {
      "_model_module": "@jupyter-widgets/base",
      "_model_module_version": "1.2.0",
      "_model_name": "LayoutModel",
      "_view_count": null,
      "_view_module": "@jupyter-widgets/base",
      "_view_module_version": "1.2.0",
      "_view_name": "LayoutView",
      "align_content": null,
      "align_items": null,
      "align_self": null,
      "border": null,
      "bottom": null,
      "display": null,
      "flex": null,
      "flex_flow": null,
      "grid_area": null,
      "grid_auto_columns": null,
      "grid_auto_flow": null,
      "grid_auto_rows": null,
      "grid_column": null,
      "grid_gap": null,
      "grid_row": null,
      "grid_template_areas": null,
      "grid_template_columns": null,
      "grid_template_rows": null,
      "height": null,
      "justify_content": null,
      "justify_items": null,
      "left": null,
      "margin": null,
      "max_height": null,
      "max_width": null,
      "min_height": null,
      "min_width": null,
      "object_fit": null,
      "object_position": null,
      "order": null,
      "overflow": null,
      "overflow_x": null,
      "overflow_y": null,
      "padding": null,
      "right": null,
      "top": null,
      "visibility": null,
      "width": null
     }
    },
    "2ad8b3906b1044ab859802a4caf190ea": {
     "model_module": "@jupyter-widgets/controls",
     "model_name": "HBoxModel",
     "state": {
      "_dom_classes": [],
      "_model_module": "@jupyter-widgets/controls",
      "_model_module_version": "1.5.0",
      "_model_name": "HBoxModel",
      "_view_count": null,
      "_view_module": "@jupyter-widgets/controls",
      "_view_module_version": "1.5.0",
      "_view_name": "HBoxView",
      "box_style": "",
      "children": [
       "IPY_MODEL_7273183e41ba441ea128e67da6879d68",
       "IPY_MODEL_13f73a7ea1a146e48b9f5305e3f84d8b"
      ],
      "layout": "IPY_MODEL_9efa4dbe466040949d495ad42a73b673"
     }
    },
    "2c2a900b5af54e1c8e7d411a025f1607": {
     "model_module": "@jupyter-widgets/base",
     "model_name": "LayoutModel",
     "state": {
      "_model_module": "@jupyter-widgets/base",
      "_model_module_version": "1.2.0",
      "_model_name": "LayoutModel",
      "_view_count": null,
      "_view_module": "@jupyter-widgets/base",
      "_view_module_version": "1.2.0",
      "_view_name": "LayoutView",
      "align_content": null,
      "align_items": null,
      "align_self": null,
      "border": null,
      "bottom": null,
      "display": null,
      "flex": null,
      "flex_flow": null,
      "grid_area": null,
      "grid_auto_columns": null,
      "grid_auto_flow": null,
      "grid_auto_rows": null,
      "grid_column": null,
      "grid_gap": null,
      "grid_row": null,
      "grid_template_areas": null,
      "grid_template_columns": null,
      "grid_template_rows": null,
      "height": null,
      "justify_content": null,
      "justify_items": null,
      "left": null,
      "margin": null,
      "max_height": null,
      "max_width": null,
      "min_height": null,
      "min_width": null,
      "object_fit": null,
      "object_position": null,
      "order": null,
      "overflow": null,
      "overflow_x": null,
      "overflow_y": null,
      "padding": null,
      "right": null,
      "top": null,
      "visibility": null,
      "width": null
     }
    },
    "2c46e6d8c05e4599865061b61fed8e42": {
     "model_module": "@jupyter-widgets/base",
     "model_name": "LayoutModel",
     "state": {
      "_model_module": "@jupyter-widgets/base",
      "_model_module_version": "1.2.0",
      "_model_name": "LayoutModel",
      "_view_count": null,
      "_view_module": "@jupyter-widgets/base",
      "_view_module_version": "1.2.0",
      "_view_name": "LayoutView",
      "align_content": null,
      "align_items": null,
      "align_self": null,
      "border": null,
      "bottom": null,
      "display": null,
      "flex": null,
      "flex_flow": null,
      "grid_area": null,
      "grid_auto_columns": null,
      "grid_auto_flow": null,
      "grid_auto_rows": null,
      "grid_column": null,
      "grid_gap": null,
      "grid_row": null,
      "grid_template_areas": null,
      "grid_template_columns": null,
      "grid_template_rows": null,
      "height": null,
      "justify_content": null,
      "justify_items": null,
      "left": null,
      "margin": null,
      "max_height": null,
      "max_width": null,
      "min_height": null,
      "min_width": null,
      "object_fit": null,
      "object_position": null,
      "order": null,
      "overflow": null,
      "overflow_x": null,
      "overflow_y": null,
      "padding": null,
      "right": null,
      "top": null,
      "visibility": null,
      "width": null
     }
    },
    "2dcfe74fcba4427399155dda6f108b69": {
     "model_module": "@jupyter-widgets/base",
     "model_name": "LayoutModel",
     "state": {
      "_model_module": "@jupyter-widgets/base",
      "_model_module_version": "1.2.0",
      "_model_name": "LayoutModel",
      "_view_count": null,
      "_view_module": "@jupyter-widgets/base",
      "_view_module_version": "1.2.0",
      "_view_name": "LayoutView",
      "align_content": null,
      "align_items": null,
      "align_self": null,
      "border": null,
      "bottom": null,
      "display": null,
      "flex": null,
      "flex_flow": null,
      "grid_area": null,
      "grid_auto_columns": null,
      "grid_auto_flow": null,
      "grid_auto_rows": null,
      "grid_column": null,
      "grid_gap": null,
      "grid_row": null,
      "grid_template_areas": null,
      "grid_template_columns": null,
      "grid_template_rows": null,
      "height": null,
      "justify_content": null,
      "justify_items": null,
      "left": null,
      "margin": null,
      "max_height": null,
      "max_width": null,
      "min_height": null,
      "min_width": null,
      "object_fit": null,
      "object_position": null,
      "order": null,
      "overflow": null,
      "overflow_x": null,
      "overflow_y": null,
      "padding": null,
      "right": null,
      "top": null,
      "visibility": null,
      "width": null
     }
    },
    "366258b3a8cb4e56b92b8383c8d93bed": {
     "model_module": "@jupyter-widgets/controls",
     "model_name": "DescriptionStyleModel",
     "state": {
      "_model_module": "@jupyter-widgets/controls",
      "_model_module_version": "1.5.0",
      "_model_name": "DescriptionStyleModel",
      "_view_count": null,
      "_view_module": "@jupyter-widgets/base",
      "_view_module_version": "1.2.0",
      "_view_name": "StyleView",
      "description_width": ""
     }
    },
    "3af3f786606e46e69ce48c9ab5832008": {
     "model_module": "@jupyter-widgets/controls",
     "model_name": "HTMLModel",
     "state": {
      "_dom_classes": [],
      "_model_module": "@jupyter-widgets/controls",
      "_model_module_version": "1.5.0",
      "_model_name": "HTMLModel",
      "_view_count": null,
      "_view_module": "@jupyter-widgets/controls",
      "_view_module_version": "1.5.0",
      "_view_name": "HTMLView",
      "description": "",
      "description_tooltip": null,
      "layout": "IPY_MODEL_2dcfe74fcba4427399155dda6f108b69",
      "placeholder": "​",
      "style": "IPY_MODEL_656332637e45431bad89a4e90bae18e3",
      "value": " 1/1 [1:37:15&lt;00:00, 5835.36s/it]"
     }
    },
    "423c28de153647afa62e86a7461b5a0c": {
     "model_module": "@jupyter-widgets/base",
     "model_name": "LayoutModel",
     "state": {
      "_model_module": "@jupyter-widgets/base",
      "_model_module_version": "1.2.0",
      "_model_name": "LayoutModel",
      "_view_count": null,
      "_view_module": "@jupyter-widgets/base",
      "_view_module_version": "1.2.0",
      "_view_name": "LayoutView",
      "align_content": null,
      "align_items": null,
      "align_self": null,
      "border": null,
      "bottom": null,
      "display": null,
      "flex": null,
      "flex_flow": null,
      "grid_area": null,
      "grid_auto_columns": null,
      "grid_auto_flow": null,
      "grid_auto_rows": null,
      "grid_column": null,
      "grid_gap": null,
      "grid_row": null,
      "grid_template_areas": null,
      "grid_template_columns": null,
      "grid_template_rows": null,
      "height": null,
      "justify_content": null,
      "justify_items": null,
      "left": null,
      "margin": null,
      "max_height": null,
      "max_width": null,
      "min_height": null,
      "min_width": null,
      "object_fit": null,
      "object_position": null,
      "order": null,
      "overflow": null,
      "overflow_x": null,
      "overflow_y": null,
      "padding": null,
      "right": null,
      "top": null,
      "visibility": null,
      "width": null
     }
    },
    "43a71983db9a4bf4a982ecc84ec0ee1e": {
     "model_module": "@jupyter-widgets/base",
     "model_name": "LayoutModel",
     "state": {
      "_model_module": "@jupyter-widgets/base",
      "_model_module_version": "1.2.0",
      "_model_name": "LayoutModel",
      "_view_count": null,
      "_view_module": "@jupyter-widgets/base",
      "_view_module_version": "1.2.0",
      "_view_name": "LayoutView",
      "align_content": null,
      "align_items": null,
      "align_self": null,
      "border": null,
      "bottom": null,
      "display": null,
      "flex": null,
      "flex_flow": null,
      "grid_area": null,
      "grid_auto_columns": null,
      "grid_auto_flow": null,
      "grid_auto_rows": null,
      "grid_column": null,
      "grid_gap": null,
      "grid_row": null,
      "grid_template_areas": null,
      "grid_template_columns": null,
      "grid_template_rows": null,
      "height": null,
      "justify_content": null,
      "justify_items": null,
      "left": null,
      "margin": null,
      "max_height": null,
      "max_width": null,
      "min_height": null,
      "min_width": null,
      "object_fit": null,
      "object_position": null,
      "order": null,
      "overflow": null,
      "overflow_x": null,
      "overflow_y": null,
      "padding": null,
      "right": null,
      "top": null,
      "visibility": null,
      "width": null
     }
    },
    "482e7fc51aaa4339a7b4b0dc9668adbb": {
     "model_module": "@jupyter-widgets/controls",
     "model_name": "DescriptionStyleModel",
     "state": {
      "_model_module": "@jupyter-widgets/controls",
      "_model_module_version": "1.5.0",
      "_model_name": "DescriptionStyleModel",
      "_view_count": null,
      "_view_module": "@jupyter-widgets/base",
      "_view_module_version": "1.2.0",
      "_view_name": "StyleView",
      "description_width": ""
     }
    },
    "4d12b898221e4569ad95b133f529218a": {
     "model_module": "@jupyter-widgets/base",
     "model_name": "LayoutModel",
     "state": {
      "_model_module": "@jupyter-widgets/base",
      "_model_module_version": "1.2.0",
      "_model_name": "LayoutModel",
      "_view_count": null,
      "_view_module": "@jupyter-widgets/base",
      "_view_module_version": "1.2.0",
      "_view_name": "LayoutView",
      "align_content": null,
      "align_items": null,
      "align_self": null,
      "border": null,
      "bottom": null,
      "display": null,
      "flex": null,
      "flex_flow": null,
      "grid_area": null,
      "grid_auto_columns": null,
      "grid_auto_flow": null,
      "grid_auto_rows": null,
      "grid_column": null,
      "grid_gap": null,
      "grid_row": null,
      "grid_template_areas": null,
      "grid_template_columns": null,
      "grid_template_rows": null,
      "height": null,
      "justify_content": null,
      "justify_items": null,
      "left": null,
      "margin": null,
      "max_height": null,
      "max_width": null,
      "min_height": null,
      "min_width": null,
      "object_fit": null,
      "object_position": null,
      "order": null,
      "overflow": null,
      "overflow_x": null,
      "overflow_y": null,
      "padding": null,
      "right": null,
      "top": null,
      "visibility": null,
      "width": null
     }
    },
    "56307e0afb47420b906ff46368db3b11": {
     "model_module": "@jupyter-widgets/controls",
     "model_name": "HTMLModel",
     "state": {
      "_dom_classes": [],
      "_model_module": "@jupyter-widgets/controls",
      "_model_module_version": "1.5.0",
      "_model_name": "HTMLModel",
      "_view_count": null,
      "_view_module": "@jupyter-widgets/controls",
      "_view_module_version": "1.5.0",
      "_view_name": "HTMLView",
      "description": "",
      "description_tooltip": null,
      "layout": "IPY_MODEL_ac04c5bf8e334da9b99bc8f26ebe0c80",
      "placeholder": "​",
      "style": "IPY_MODEL_77f64613288046beb205aec9d7e700c2",
      "value": " 1/1 [00:06&lt;00:00,  6.52s/it]"
     }
    },
    "5dc91ab53d8f43eb83f41ddade3f1f29": {
     "model_module": "@jupyter-widgets/controls",
     "model_name": "HTMLModel",
     "state": {
      "_dom_classes": [],
      "_model_module": "@jupyter-widgets/controls",
      "_model_module_version": "1.5.0",
      "_model_name": "HTMLModel",
      "_view_count": null,
      "_view_module": "@jupyter-widgets/controls",
      "_view_module_version": "1.5.0",
      "_view_name": "HTMLView",
      "description": "",
      "description_tooltip": null,
      "layout": "IPY_MODEL_06034fc0186545eea743d9d8e176bd42",
      "placeholder": "​",
      "style": "IPY_MODEL_b54b466e096c4ce1b488c3f0ef85e964",
      "value": " 1/1 [00:15&lt;00:00, 15.85s/it]"
     }
    },
    "5e876ad647944a6b835c7143b39360a7": {
     "model_module": "@jupyter-widgets/controls",
     "model_name": "ProgressStyleModel",
     "state": {
      "_model_module": "@jupyter-widgets/controls",
      "_model_module_version": "1.5.0",
      "_model_name": "ProgressStyleModel",
      "_view_count": null,
      "_view_module": "@jupyter-widgets/base",
      "_view_module_version": "1.2.0",
      "_view_name": "StyleView",
      "bar_color": null,
      "description_width": "initial"
     }
    },
    "6412046c417449779a40b6a3e2639647": {
     "model_module": "@jupyter-widgets/controls",
     "model_name": "FloatProgressModel",
     "state": {
      "_dom_classes": [],
      "_model_module": "@jupyter-widgets/controls",
      "_model_module_version": "1.5.0",
      "_model_name": "FloatProgressModel",
      "_view_count": null,
      "_view_module": "@jupyter-widgets/controls",
      "_view_module_version": "1.5.0",
      "_view_name": "ProgressView",
      "bar_style": "success",
      "description": "Generate report structure: 100%",
      "description_tooltip": null,
      "layout": "IPY_MODEL_e2563b06ba304654bc89ae25d21bed18",
      "max": 1,
      "min": 0,
      "orientation": "horizontal",
      "style": "IPY_MODEL_b02853de97c94e75b6c47a18a2458b08",
      "value": 1
     }
    },
    "656332637e45431bad89a4e90bae18e3": {
     "model_module": "@jupyter-widgets/controls",
     "model_name": "DescriptionStyleModel",
     "state": {
      "_model_module": "@jupyter-widgets/controls",
      "_model_module_version": "1.5.0",
      "_model_name": "DescriptionStyleModel",
      "_view_count": null,
      "_view_module": "@jupyter-widgets/base",
      "_view_module_version": "1.2.0",
      "_view_name": "StyleView",
      "description_width": ""
     }
    },
    "6a0829b09b2141ec8a7a5c2942a6ead7": {
     "model_module": "@jupyter-widgets/base",
     "model_name": "LayoutModel",
     "state": {
      "_model_module": "@jupyter-widgets/base",
      "_model_module_version": "1.2.0",
      "_model_name": "LayoutModel",
      "_view_count": null,
      "_view_module": "@jupyter-widgets/base",
      "_view_module_version": "1.2.0",
      "_view_name": "LayoutView",
      "align_content": null,
      "align_items": null,
      "align_self": null,
      "border": null,
      "bottom": null,
      "display": null,
      "flex": null,
      "flex_flow": null,
      "grid_area": null,
      "grid_auto_columns": null,
      "grid_auto_flow": null,
      "grid_auto_rows": null,
      "grid_column": null,
      "grid_gap": null,
      "grid_row": null,
      "grid_template_areas": null,
      "grid_template_columns": null,
      "grid_template_rows": null,
      "height": null,
      "justify_content": null,
      "justify_items": null,
      "left": null,
      "margin": null,
      "max_height": null,
      "max_width": null,
      "min_height": null,
      "min_width": null,
      "object_fit": null,
      "object_position": null,
      "order": null,
      "overflow": null,
      "overflow_x": null,
      "overflow_y": null,
      "padding": null,
      "right": null,
      "top": null,
      "visibility": null,
      "width": null
     }
    },
    "7273183e41ba441ea128e67da6879d68": {
     "model_module": "@jupyter-widgets/controls",
     "model_name": "FloatProgressModel",
     "state": {
      "_dom_classes": [],
      "_model_module": "@jupyter-widgets/controls",
      "_model_module_version": "1.5.0",
      "_model_name": "FloatProgressModel",
      "_view_count": null,
      "_view_module": "@jupyter-widgets/controls",
      "_view_module_version": "1.5.0",
      "_view_name": "ProgressView",
      "bar_style": "success",
      "description": "Summarize dataset: 100%",
      "description_tooltip": null,
      "layout": "IPY_MODEL_a7917f8e65f349f68f7d0ad70d31f762",
      "max": 23,
      "min": 0,
      "orientation": "horizontal",
      "style": "IPY_MODEL_c68fa4f34c05474d94f1c13a95e11706",
      "value": 23
     }
    },
    "77f64613288046beb205aec9d7e700c2": {
     "model_module": "@jupyter-widgets/controls",
     "model_name": "DescriptionStyleModel",
     "state": {
      "_model_module": "@jupyter-widgets/controls",
      "_model_module_version": "1.5.0",
      "_model_name": "DescriptionStyleModel",
      "_view_count": null,
      "_view_module": "@jupyter-widgets/base",
      "_view_module_version": "1.2.0",
      "_view_name": "StyleView",
      "description_width": ""
     }
    },
    "7996420ae47a47f58aab72967776583c": {
     "model_module": "@jupyter-widgets/controls",
     "model_name": "FloatProgressModel",
     "state": {
      "_dom_classes": [],
      "_model_module": "@jupyter-widgets/controls",
      "_model_module_version": "1.5.0",
      "_model_name": "FloatProgressModel",
      "_view_count": null,
      "_view_module": "@jupyter-widgets/controls",
      "_view_module_version": "1.5.0",
      "_view_name": "ProgressView",
      "bar_style": "success",
      "description": "Summarize dataset: 100%",
      "description_tooltip": null,
      "layout": "IPY_MODEL_b36cfcdb1f2b4e918ae8ffa6fef8f9d6",
      "max": 22,
      "min": 0,
      "orientation": "horizontal",
      "style": "IPY_MODEL_f83f5aa605c545ff883c8b124afc458c",
      "value": 22
     }
    },
    "818989fe37bc41c2b24f4bb124a2e2cd": {
     "model_module": "@jupyter-widgets/controls",
     "model_name": "HTMLModel",
     "state": {
      "_dom_classes": [],
      "_model_module": "@jupyter-widgets/controls",
      "_model_module_version": "1.5.0",
      "_model_name": "HTMLModel",
      "_view_count": null,
      "_view_module": "@jupyter-widgets/controls",
      "_view_module_version": "1.5.0",
      "_view_name": "HTMLView",
      "description": "",
      "description_tooltip": null,
      "layout": "IPY_MODEL_f5904ba21af04fb1ae32f657bf03cb33",
      "placeholder": "​",
      "style": "IPY_MODEL_482e7fc51aaa4339a7b4b0dc9668adbb",
      "value": " 1/1 [00:00&lt;00:00,  3.23it/s]"
     }
    },
    "89fed1f204e04f66b916447f31d86d73": {
     "model_module": "@jupyter-widgets/controls",
     "model_name": "ProgressStyleModel",
     "state": {
      "_model_module": "@jupyter-widgets/controls",
      "_model_module_version": "1.5.0",
      "_model_name": "ProgressStyleModel",
      "_view_count": null,
      "_view_module": "@jupyter-widgets/base",
      "_view_module_version": "1.2.0",
      "_view_name": "StyleView",
      "bar_color": null,
      "description_width": "initial"
     }
    },
    "99a80d000c3d46b7adb56cf854a31458": {
     "model_module": "@jupyter-widgets/controls",
     "model_name": "FloatProgressModel",
     "state": {
      "_dom_classes": [],
      "_model_module": "@jupyter-widgets/controls",
      "_model_module_version": "1.5.0",
      "_model_name": "FloatProgressModel",
      "_view_count": null,
      "_view_module": "@jupyter-widgets/controls",
      "_view_module_version": "1.5.0",
      "_view_name": "ProgressView",
      "bar_style": "success",
      "description": "Render HTML: 100%",
      "description_tooltip": null,
      "layout": "IPY_MODEL_a33c082180534778ab1d8b69b8503755",
      "max": 1,
      "min": 0,
      "orientation": "horizontal",
      "style": "IPY_MODEL_89fed1f204e04f66b916447f31d86d73",
      "value": 1
     }
    },
    "9cef0a2045e548cbadea263d187a6474": {
     "model_module": "@jupyter-widgets/base",
     "model_name": "LayoutModel",
     "state": {
      "_model_module": "@jupyter-widgets/base",
      "_model_module_version": "1.2.0",
      "_model_name": "LayoutModel",
      "_view_count": null,
      "_view_module": "@jupyter-widgets/base",
      "_view_module_version": "1.2.0",
      "_view_name": "LayoutView",
      "align_content": null,
      "align_items": null,
      "align_self": null,
      "border": null,
      "bottom": null,
      "display": null,
      "flex": null,
      "flex_flow": null,
      "grid_area": null,
      "grid_auto_columns": null,
      "grid_auto_flow": null,
      "grid_auto_rows": null,
      "grid_column": null,
      "grid_gap": null,
      "grid_row": null,
      "grid_template_areas": null,
      "grid_template_columns": null,
      "grid_template_rows": null,
      "height": null,
      "justify_content": null,
      "justify_items": null,
      "left": null,
      "margin": null,
      "max_height": null,
      "max_width": null,
      "min_height": null,
      "min_width": null,
      "object_fit": null,
      "object_position": null,
      "order": null,
      "overflow": null,
      "overflow_x": null,
      "overflow_y": null,
      "padding": null,
      "right": null,
      "top": null,
      "visibility": null,
      "width": null
     }
    },
    "9d0723f815504750ae320bd653fa3b20": {
     "model_module": "@jupyter-widgets/controls",
     "model_name": "FloatProgressModel",
     "state": {
      "_dom_classes": [],
      "_model_module": "@jupyter-widgets/controls",
      "_model_module_version": "1.5.0",
      "_model_name": "FloatProgressModel",
      "_view_count": null,
      "_view_module": "@jupyter-widgets/controls",
      "_view_module_version": "1.5.0",
      "_view_name": "ProgressView",
      "bar_style": "success",
      "description": "Generate report structure: 100%",
      "description_tooltip": null,
      "layout": "IPY_MODEL_423c28de153647afa62e86a7461b5a0c",
      "max": 1,
      "min": 0,
      "orientation": "horizontal",
      "style": "IPY_MODEL_5e876ad647944a6b835c7143b39360a7",
      "value": 1
     }
    },
    "9efa4dbe466040949d495ad42a73b673": {
     "model_module": "@jupyter-widgets/base",
     "model_name": "LayoutModel",
     "state": {
      "_model_module": "@jupyter-widgets/base",
      "_model_module_version": "1.2.0",
      "_model_name": "LayoutModel",
      "_view_count": null,
      "_view_module": "@jupyter-widgets/base",
      "_view_module_version": "1.2.0",
      "_view_name": "LayoutView",
      "align_content": null,
      "align_items": null,
      "align_self": null,
      "border": null,
      "bottom": null,
      "display": null,
      "flex": null,
      "flex_flow": null,
      "grid_area": null,
      "grid_auto_columns": null,
      "grid_auto_flow": null,
      "grid_auto_rows": null,
      "grid_column": null,
      "grid_gap": null,
      "grid_row": null,
      "grid_template_areas": null,
      "grid_template_columns": null,
      "grid_template_rows": null,
      "height": null,
      "justify_content": null,
      "justify_items": null,
      "left": null,
      "margin": null,
      "max_height": null,
      "max_width": null,
      "min_height": null,
      "min_width": null,
      "object_fit": null,
      "object_position": null,
      "order": null,
      "overflow": null,
      "overflow_x": null,
      "overflow_y": null,
      "padding": null,
      "right": null,
      "top": null,
      "visibility": null,
      "width": null
     }
    },
    "9fa8b62614004c059f867788f36b333b": {
     "model_module": "@jupyter-widgets/controls",
     "model_name": "HBoxModel",
     "state": {
      "_dom_classes": [],
      "_model_module": "@jupyter-widgets/controls",
      "_model_module_version": "1.5.0",
      "_model_name": "HBoxModel",
      "_view_count": null,
      "_view_module": "@jupyter-widgets/controls",
      "_view_module_version": "1.5.0",
      "_view_name": "HBoxView",
      "box_style": "",
      "children": [
       "IPY_MODEL_7996420ae47a47f58aab72967776583c",
       "IPY_MODEL_262e36bad4fa4b2a8412d109ba5658cb"
      ],
      "layout": "IPY_MODEL_176b939c17bf4a5ba336034546a6df38"
     }
    },
    "a27839c4491345eaaa1c82fe728288d8": {
     "model_module": "@jupyter-widgets/controls",
     "model_name": "HTMLModel",
     "state": {
      "_dom_classes": [],
      "_model_module": "@jupyter-widgets/controls",
      "_model_module_version": "1.5.0",
      "_model_name": "HTMLModel",
      "_view_count": null,
      "_view_module": "@jupyter-widgets/controls",
      "_view_module_version": "1.5.0",
      "_view_name": "HTMLView",
      "description": "",
      "description_tooltip": null,
      "layout": "IPY_MODEL_4d12b898221e4569ad95b133f529218a",
      "placeholder": "​",
      "style": "IPY_MODEL_dfdd679c876f424d93f2eae55b5807dc",
      "value": " 1/1 [09:30&lt;00:00, 570.69s/it]"
     }
    },
    "a33c082180534778ab1d8b69b8503755": {
     "model_module": "@jupyter-widgets/base",
     "model_name": "LayoutModel",
     "state": {
      "_model_module": "@jupyter-widgets/base",
      "_model_module_version": "1.2.0",
      "_model_name": "LayoutModel",
      "_view_count": null,
      "_view_module": "@jupyter-widgets/base",
      "_view_module_version": "1.2.0",
      "_view_name": "LayoutView",
      "align_content": null,
      "align_items": null,
      "align_self": null,
      "border": null,
      "bottom": null,
      "display": null,
      "flex": null,
      "flex_flow": null,
      "grid_area": null,
      "grid_auto_columns": null,
      "grid_auto_flow": null,
      "grid_auto_rows": null,
      "grid_column": null,
      "grid_gap": null,
      "grid_row": null,
      "grid_template_areas": null,
      "grid_template_columns": null,
      "grid_template_rows": null,
      "height": null,
      "justify_content": null,
      "justify_items": null,
      "left": null,
      "margin": null,
      "max_height": null,
      "max_width": null,
      "min_height": null,
      "min_width": null,
      "object_fit": null,
      "object_position": null,
      "order": null,
      "overflow": null,
      "overflow_x": null,
      "overflow_y": null,
      "padding": null,
      "right": null,
      "top": null,
      "visibility": null,
      "width": null
     }
    },
    "a529ea41ed844739aec089d9fef52640": {
     "model_module": "@jupyter-widgets/controls",
     "model_name": "FloatProgressModel",
     "state": {
      "_dom_classes": [],
      "_model_module": "@jupyter-widgets/controls",
      "_model_module_version": "1.5.0",
      "_model_name": "FloatProgressModel",
      "_view_count": null,
      "_view_module": "@jupyter-widgets/controls",
      "_view_module_version": "1.5.0",
      "_view_name": "ProgressView",
      "bar_style": "success",
      "description": "Export report to file: 100%",
      "description_tooltip": null,
      "layout": "IPY_MODEL_246a4528527e4aa1b33f2b2d933b1f29",
      "max": 1,
      "min": 0,
      "orientation": "horizontal",
      "style": "IPY_MODEL_d7305bbceb194452bf1fd37e48f0b5c4",
      "value": 1
     }
    },
    "a7917f8e65f349f68f7d0ad70d31f762": {
     "model_module": "@jupyter-widgets/base",
     "model_name": "LayoutModel",
     "state": {
      "_model_module": "@jupyter-widgets/base",
      "_model_module_version": "1.2.0",
      "_model_name": "LayoutModel",
      "_view_count": null,
      "_view_module": "@jupyter-widgets/base",
      "_view_module_version": "1.2.0",
      "_view_name": "LayoutView",
      "align_content": null,
      "align_items": null,
      "align_self": null,
      "border": null,
      "bottom": null,
      "display": null,
      "flex": null,
      "flex_flow": null,
      "grid_area": null,
      "grid_auto_columns": null,
      "grid_auto_flow": null,
      "grid_auto_rows": null,
      "grid_column": null,
      "grid_gap": null,
      "grid_row": null,
      "grid_template_areas": null,
      "grid_template_columns": null,
      "grid_template_rows": null,
      "height": null,
      "justify_content": null,
      "justify_items": null,
      "left": null,
      "margin": null,
      "max_height": null,
      "max_width": null,
      "min_height": null,
      "min_width": null,
      "object_fit": null,
      "object_position": null,
      "order": null,
      "overflow": null,
      "overflow_x": null,
      "overflow_y": null,
      "padding": null,
      "right": null,
      "top": null,
      "visibility": null,
      "width": null
     }
    },
    "ac04c5bf8e334da9b99bc8f26ebe0c80": {
     "model_module": "@jupyter-widgets/base",
     "model_name": "LayoutModel",
     "state": {
      "_model_module": "@jupyter-widgets/base",
      "_model_module_version": "1.2.0",
      "_model_name": "LayoutModel",
      "_view_count": null,
      "_view_module": "@jupyter-widgets/base",
      "_view_module_version": "1.2.0",
      "_view_name": "LayoutView",
      "align_content": null,
      "align_items": null,
      "align_self": null,
      "border": null,
      "bottom": null,
      "display": null,
      "flex": null,
      "flex_flow": null,
      "grid_area": null,
      "grid_auto_columns": null,
      "grid_auto_flow": null,
      "grid_auto_rows": null,
      "grid_column": null,
      "grid_gap": null,
      "grid_row": null,
      "grid_template_areas": null,
      "grid_template_columns": null,
      "grid_template_rows": null,
      "height": null,
      "justify_content": null,
      "justify_items": null,
      "left": null,
      "margin": null,
      "max_height": null,
      "max_width": null,
      "min_height": null,
      "min_width": null,
      "object_fit": null,
      "object_position": null,
      "order": null,
      "overflow": null,
      "overflow_x": null,
      "overflow_y": null,
      "padding": null,
      "right": null,
      "top": null,
      "visibility": null,
      "width": null
     }
    },
    "b02853de97c94e75b6c47a18a2458b08": {
     "model_module": "@jupyter-widgets/controls",
     "model_name": "ProgressStyleModel",
     "state": {
      "_model_module": "@jupyter-widgets/controls",
      "_model_module_version": "1.5.0",
      "_model_name": "ProgressStyleModel",
      "_view_count": null,
      "_view_module": "@jupyter-widgets/base",
      "_view_module_version": "1.2.0",
      "_view_name": "StyleView",
      "bar_color": null,
      "description_width": "initial"
     }
    },
    "b36cfcdb1f2b4e918ae8ffa6fef8f9d6": {
     "model_module": "@jupyter-widgets/base",
     "model_name": "LayoutModel",
     "state": {
      "_model_module": "@jupyter-widgets/base",
      "_model_module_version": "1.2.0",
      "_model_name": "LayoutModel",
      "_view_count": null,
      "_view_module": "@jupyter-widgets/base",
      "_view_module_version": "1.2.0",
      "_view_name": "LayoutView",
      "align_content": null,
      "align_items": null,
      "align_self": null,
      "border": null,
      "bottom": null,
      "display": null,
      "flex": null,
      "flex_flow": null,
      "grid_area": null,
      "grid_auto_columns": null,
      "grid_auto_flow": null,
      "grid_auto_rows": null,
      "grid_column": null,
      "grid_gap": null,
      "grid_row": null,
      "grid_template_areas": null,
      "grid_template_columns": null,
      "grid_template_rows": null,
      "height": null,
      "justify_content": null,
      "justify_items": null,
      "left": null,
      "margin": null,
      "max_height": null,
      "max_width": null,
      "min_height": null,
      "min_width": null,
      "object_fit": null,
      "object_position": null,
      "order": null,
      "overflow": null,
      "overflow_x": null,
      "overflow_y": null,
      "padding": null,
      "right": null,
      "top": null,
      "visibility": null,
      "width": null
     }
    },
    "b46587a5792c4c3c9903f483ea8f48fd": {
     "model_module": "@jupyter-widgets/controls",
     "model_name": "HBoxModel",
     "state": {
      "_dom_classes": [],
      "_model_module": "@jupyter-widgets/controls",
      "_model_module_version": "1.5.0",
      "_model_name": "HBoxModel",
      "_view_count": null,
      "_view_module": "@jupyter-widgets/controls",
      "_view_module_version": "1.5.0",
      "_view_name": "HBoxView",
      "box_style": "",
      "children": [
       "IPY_MODEL_a529ea41ed844739aec089d9fef52640",
       "IPY_MODEL_a27839c4491345eaaa1c82fe728288d8"
      ],
      "layout": "IPY_MODEL_2c46e6d8c05e4599865061b61fed8e42"
     }
    },
    "b54b466e096c4ce1b488c3f0ef85e964": {
     "model_module": "@jupyter-widgets/controls",
     "model_name": "DescriptionStyleModel",
     "state": {
      "_model_module": "@jupyter-widgets/controls",
      "_model_module_version": "1.5.0",
      "_model_name": "DescriptionStyleModel",
      "_view_count": null,
      "_view_module": "@jupyter-widgets/base",
      "_view_module_version": "1.2.0",
      "_view_name": "StyleView",
      "description_width": ""
     }
    },
    "b57a93cf4c094e39875b56f8753df0ab": {
     "model_module": "@jupyter-widgets/controls",
     "model_name": "FloatProgressModel",
     "state": {
      "_dom_classes": [],
      "_model_module": "@jupyter-widgets/controls",
      "_model_module_version": "1.5.0",
      "_model_name": "FloatProgressModel",
      "_view_count": null,
      "_view_module": "@jupyter-widgets/controls",
      "_view_module_version": "1.5.0",
      "_view_name": "ProgressView",
      "bar_style": "success",
      "description": "Export report to file: 100%",
      "description_tooltip": null,
      "layout": "IPY_MODEL_9cef0a2045e548cbadea263d187a6474",
      "max": 1,
      "min": 0,
      "orientation": "horizontal",
      "style": "IPY_MODEL_103fa1da0e27487682e0053d5b660412",
      "value": 1
     }
    },
    "c0dbda69d9154d4787dd34abad5b259a": {
     "model_module": "@jupyter-widgets/controls",
     "model_name": "DescriptionStyleModel",
     "state": {
      "_model_module": "@jupyter-widgets/controls",
      "_model_module_version": "1.5.0",
      "_model_name": "DescriptionStyleModel",
      "_view_count": null,
      "_view_module": "@jupyter-widgets/base",
      "_view_module_version": "1.2.0",
      "_view_name": "StyleView",
      "description_width": ""
     }
    },
    "c360a1f2dd444691b099d2aab03ae51b": {
     "model_module": "@jupyter-widgets/base",
     "model_name": "LayoutModel",
     "state": {
      "_model_module": "@jupyter-widgets/base",
      "_model_module_version": "1.2.0",
      "_model_name": "LayoutModel",
      "_view_count": null,
      "_view_module": "@jupyter-widgets/base",
      "_view_module_version": "1.2.0",
      "_view_name": "LayoutView",
      "align_content": null,
      "align_items": null,
      "align_self": null,
      "border": null,
      "bottom": null,
      "display": null,
      "flex": null,
      "flex_flow": null,
      "grid_area": null,
      "grid_auto_columns": null,
      "grid_auto_flow": null,
      "grid_auto_rows": null,
      "grid_column": null,
      "grid_gap": null,
      "grid_row": null,
      "grid_template_areas": null,
      "grid_template_columns": null,
      "grid_template_rows": null,
      "height": null,
      "justify_content": null,
      "justify_items": null,
      "left": null,
      "margin": null,
      "max_height": null,
      "max_width": null,
      "min_height": null,
      "min_width": null,
      "object_fit": null,
      "object_position": null,
      "order": null,
      "overflow": null,
      "overflow_x": null,
      "overflow_y": null,
      "padding": null,
      "right": null,
      "top": null,
      "visibility": null,
      "width": null
     }
    },
    "c37665785858446cb2931e2c4a7c2cf5": {
     "model_module": "@jupyter-widgets/controls",
     "model_name": "DescriptionStyleModel",
     "state": {
      "_model_module": "@jupyter-widgets/controls",
      "_model_module_version": "1.5.0",
      "_model_name": "DescriptionStyleModel",
      "_view_count": null,
      "_view_module": "@jupyter-widgets/base",
      "_view_module_version": "1.2.0",
      "_view_name": "StyleView",
      "description_width": ""
     }
    },
    "c68fa4f34c05474d94f1c13a95e11706": {
     "model_module": "@jupyter-widgets/controls",
     "model_name": "ProgressStyleModel",
     "state": {
      "_model_module": "@jupyter-widgets/controls",
      "_model_module_version": "1.5.0",
      "_model_name": "ProgressStyleModel",
      "_view_count": null,
      "_view_module": "@jupyter-widgets/base",
      "_view_module_version": "1.2.0",
      "_view_name": "StyleView",
      "bar_color": null,
      "description_width": "initial"
     }
    },
    "c801c9c7939d4cf28bf4b114b521b2ec": {
     "model_module": "@jupyter-widgets/base",
     "model_name": "LayoutModel",
     "state": {
      "_model_module": "@jupyter-widgets/base",
      "_model_module_version": "1.2.0",
      "_model_name": "LayoutModel",
      "_view_count": null,
      "_view_module": "@jupyter-widgets/base",
      "_view_module_version": "1.2.0",
      "_view_name": "LayoutView",
      "align_content": null,
      "align_items": null,
      "align_self": null,
      "border": null,
      "bottom": null,
      "display": null,
      "flex": null,
      "flex_flow": null,
      "grid_area": null,
      "grid_auto_columns": null,
      "grid_auto_flow": null,
      "grid_auto_rows": null,
      "grid_column": null,
      "grid_gap": null,
      "grid_row": null,
      "grid_template_areas": null,
      "grid_template_columns": null,
      "grid_template_rows": null,
      "height": null,
      "justify_content": null,
      "justify_items": null,
      "left": null,
      "margin": null,
      "max_height": null,
      "max_width": null,
      "min_height": null,
      "min_width": null,
      "object_fit": null,
      "object_position": null,
      "order": null,
      "overflow": null,
      "overflow_x": null,
      "overflow_y": null,
      "padding": null,
      "right": null,
      "top": null,
      "visibility": null,
      "width": null
     }
    },
    "d7305bbceb194452bf1fd37e48f0b5c4": {
     "model_module": "@jupyter-widgets/controls",
     "model_name": "ProgressStyleModel",
     "state": {
      "_model_module": "@jupyter-widgets/controls",
      "_model_module_version": "1.5.0",
      "_model_name": "ProgressStyleModel",
      "_view_count": null,
      "_view_module": "@jupyter-widgets/base",
      "_view_module_version": "1.2.0",
      "_view_name": "StyleView",
      "bar_color": null,
      "description_width": "initial"
     }
    },
    "dfdd679c876f424d93f2eae55b5807dc": {
     "model_module": "@jupyter-widgets/controls",
     "model_name": "DescriptionStyleModel",
     "state": {
      "_model_module": "@jupyter-widgets/controls",
      "_model_module_version": "1.5.0",
      "_model_name": "DescriptionStyleModel",
      "_view_count": null,
      "_view_module": "@jupyter-widgets/base",
      "_view_module_version": "1.2.0",
      "_view_name": "StyleView",
      "description_width": ""
     }
    },
    "e2563b06ba304654bc89ae25d21bed18": {
     "model_module": "@jupyter-widgets/base",
     "model_name": "LayoutModel",
     "state": {
      "_model_module": "@jupyter-widgets/base",
      "_model_module_version": "1.2.0",
      "_model_name": "LayoutModel",
      "_view_count": null,
      "_view_module": "@jupyter-widgets/base",
      "_view_module_version": "1.2.0",
      "_view_name": "LayoutView",
      "align_content": null,
      "align_items": null,
      "align_self": null,
      "border": null,
      "bottom": null,
      "display": null,
      "flex": null,
      "flex_flow": null,
      "grid_area": null,
      "grid_auto_columns": null,
      "grid_auto_flow": null,
      "grid_auto_rows": null,
      "grid_column": null,
      "grid_gap": null,
      "grid_row": null,
      "grid_template_areas": null,
      "grid_template_columns": null,
      "grid_template_rows": null,
      "height": null,
      "justify_content": null,
      "justify_items": null,
      "left": null,
      "margin": null,
      "max_height": null,
      "max_width": null,
      "min_height": null,
      "min_width": null,
      "object_fit": null,
      "object_position": null,
      "order": null,
      "overflow": null,
      "overflow_x": null,
      "overflow_y": null,
      "padding": null,
      "right": null,
      "top": null,
      "visibility": null,
      "width": null
     }
    },
    "e8ce7a6c00474e9983b3723c53ce4089": {
     "model_module": "@jupyter-widgets/base",
     "model_name": "LayoutModel",
     "state": {
      "_model_module": "@jupyter-widgets/base",
      "_model_module_version": "1.2.0",
      "_model_name": "LayoutModel",
      "_view_count": null,
      "_view_module": "@jupyter-widgets/base",
      "_view_module_version": "1.2.0",
      "_view_name": "LayoutView",
      "align_content": null,
      "align_items": null,
      "align_self": null,
      "border": null,
      "bottom": null,
      "display": null,
      "flex": null,
      "flex_flow": null,
      "grid_area": null,
      "grid_auto_columns": null,
      "grid_auto_flow": null,
      "grid_auto_rows": null,
      "grid_column": null,
      "grid_gap": null,
      "grid_row": null,
      "grid_template_areas": null,
      "grid_template_columns": null,
      "grid_template_rows": null,
      "height": null,
      "justify_content": null,
      "justify_items": null,
      "left": null,
      "margin": null,
      "max_height": null,
      "max_width": null,
      "min_height": null,
      "min_width": null,
      "object_fit": null,
      "object_position": null,
      "order": null,
      "overflow": null,
      "overflow_x": null,
      "overflow_y": null,
      "padding": null,
      "right": null,
      "top": null,
      "visibility": null,
      "width": null
     }
    },
    "ea0ce7e49c5f420aa4d65ce60df91459": {
     "model_module": "@jupyter-widgets/controls",
     "model_name": "FloatProgressModel",
     "state": {
      "_dom_classes": [],
      "_model_module": "@jupyter-widgets/controls",
      "_model_module_version": "1.5.0",
      "_model_name": "FloatProgressModel",
      "_view_count": null,
      "_view_module": "@jupyter-widgets/controls",
      "_view_module_version": "1.5.0",
      "_view_name": "ProgressView",
      "bar_style": "success",
      "description": "Render HTML: 100%",
      "description_tooltip": null,
      "layout": "IPY_MODEL_43a71983db9a4bf4a982ecc84ec0ee1e",
      "max": 1,
      "min": 0,
      "orientation": "horizontal",
      "style": "IPY_MODEL_273227916b28453fadef5000b574902b",
      "value": 1
     }
    },
    "ed3a0d3c079545388c9d514b75fb5102": {
     "model_module": "@jupyter-widgets/controls",
     "model_name": "HBoxModel",
     "state": {
      "_dom_classes": [],
      "_model_module": "@jupyter-widgets/controls",
      "_model_module_version": "1.5.0",
      "_model_name": "HBoxModel",
      "_view_count": null,
      "_view_module": "@jupyter-widgets/controls",
      "_view_module_version": "1.5.0",
      "_view_name": "HBoxView",
      "box_style": "",
      "children": [
       "IPY_MODEL_b57a93cf4c094e39875b56f8753df0ab",
       "IPY_MODEL_818989fe37bc41c2b24f4bb124a2e2cd"
      ],
      "layout": "IPY_MODEL_c360a1f2dd444691b099d2aab03ae51b"
     }
    },
    "f5904ba21af04fb1ae32f657bf03cb33": {
     "model_module": "@jupyter-widgets/base",
     "model_name": "LayoutModel",
     "state": {
      "_model_module": "@jupyter-widgets/base",
      "_model_module_version": "1.2.0",
      "_model_name": "LayoutModel",
      "_view_count": null,
      "_view_module": "@jupyter-widgets/base",
      "_view_module_version": "1.2.0",
      "_view_name": "LayoutView",
      "align_content": null,
      "align_items": null,
      "align_self": null,
      "border": null,
      "bottom": null,
      "display": null,
      "flex": null,
      "flex_flow": null,
      "grid_area": null,
      "grid_auto_columns": null,
      "grid_auto_flow": null,
      "grid_auto_rows": null,
      "grid_column": null,
      "grid_gap": null,
      "grid_row": null,
      "grid_template_areas": null,
      "grid_template_columns": null,
      "grid_template_rows": null,
      "height": null,
      "justify_content": null,
      "justify_items": null,
      "left": null,
      "margin": null,
      "max_height": null,
      "max_width": null,
      "min_height": null,
      "min_width": null,
      "object_fit": null,
      "object_position": null,
      "order": null,
      "overflow": null,
      "overflow_x": null,
      "overflow_y": null,
      "padding": null,
      "right": null,
      "top": null,
      "visibility": null,
      "width": null
     }
    },
    "f83f5aa605c545ff883c8b124afc458c": {
     "model_module": "@jupyter-widgets/controls",
     "model_name": "ProgressStyleModel",
     "state": {
      "_model_module": "@jupyter-widgets/controls",
      "_model_module_version": "1.5.0",
      "_model_name": "ProgressStyleModel",
      "_view_count": null,
      "_view_module": "@jupyter-widgets/base",
      "_view_module_version": "1.2.0",
      "_view_name": "StyleView",
      "bar_color": null,
      "description_width": "initial"
     }
    },
    "f84f6272ffe64a139eeec94819b10397": {
     "model_module": "@jupyter-widgets/controls",
     "model_name": "HTMLModel",
     "state": {
      "_dom_classes": [],
      "_model_module": "@jupyter-widgets/controls",
      "_model_module_version": "1.5.0",
      "_model_name": "HTMLModel",
      "_view_count": null,
      "_view_module": "@jupyter-widgets/controls",
      "_view_module_version": "1.5.0",
      "_view_name": "HTMLView",
      "description": "",
      "description_tooltip": null,
      "layout": "IPY_MODEL_2c2a900b5af54e1c8e7d411a025f1607",
      "placeholder": "​",
      "style": "IPY_MODEL_c37665785858446cb2931e2c4a7c2cf5",
      "value": " 1/1 [09:31&lt;00:00, 571.50s/it]"
     }
    },
    "faff2229062249d19babe8230728f878": {
     "model_module": "@jupyter-widgets/base",
     "model_name": "LayoutModel",
     "state": {
      "_model_module": "@jupyter-widgets/base",
      "_model_module_version": "1.2.0",
      "_model_name": "LayoutModel",
      "_view_count": null,
      "_view_module": "@jupyter-widgets/base",
      "_view_module_version": "1.2.0",
      "_view_name": "LayoutView",
      "align_content": null,
      "align_items": null,
      "align_self": null,
      "border": null,
      "bottom": null,
      "display": null,
      "flex": null,
      "flex_flow": null,
      "grid_area": null,
      "grid_auto_columns": null,
      "grid_auto_flow": null,
      "grid_auto_rows": null,
      "grid_column": null,
      "grid_gap": null,
      "grid_row": null,
      "grid_template_areas": null,
      "grid_template_columns": null,
      "grid_template_rows": null,
      "height": null,
      "justify_content": null,
      "justify_items": null,
      "left": null,
      "margin": null,
      "max_height": null,
      "max_width": null,
      "min_height": null,
      "min_width": null,
      "object_fit": null,
      "object_position": null,
      "order": null,
      "overflow": null,
      "overflow_x": null,
      "overflow_y": null,
      "padding": null,
      "right": null,
      "top": null,
      "visibility": null,
      "width": null
     }
    }
   }
  }
 },
 "nbformat": 4,
 "nbformat_minor": 1
}
